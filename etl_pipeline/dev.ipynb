{
 "cells": [
  {
   "cell_type": "code",
   "execution_count": 1,
   "metadata": {},
   "outputs": [],
   "source": [
    "%load_ext autoreload\n",
    "%autoreload 2"
   ]
  },
  {
   "cell_type": "code",
   "execution_count": 2,
   "metadata": {},
   "outputs": [
    {
     "data": {
      "text/html": [
       "<pre style=\"white-space:pre;overflow-x:auto;line-height:normal;font-family:Menlo,'DejaVu Sans Mono',consolas,'Courier New',monospace\"><span style=\"color: #808000; text-decoration-color: #808000; font-weight: bold\">/opt/anaconda3/envs/DistDataSys/lib/python3.10/site-packages/airflow/models/base.py:</span><span style=\"color: #808000; text-decoration-color: #808000; font-weight: bold\">49</span><span style=\"color: #808000; text-decoration-color: #808000; font-weight: bold\"> MovedIn20Warning</span><span style=\"color: #808000; text-decoration-color: #808000\">: Deprecated API features detected! These </span><span style=\"color: #808000; text-decoration-color: #808000; font-weight: bold\">feature(</span><span style=\"color: #808000; text-decoration-color: #808000\">s</span><span style=\"color: #808000; text-decoration-color: #808000; font-weight: bold\">)</span><span style=\"color: #808000; text-decoration-color: #808000\"> are not compatible with SQLAlchemy </span><span style=\"color: #808000; text-decoration-color: #808000; font-weight: bold\">2.0</span><span style=\"color: #808000; text-decoration-color: #808000\">. To prevent incompatible upgrades prior to updating applications, ensure requirements files are pinned to </span><span style=\"color: #808000; text-decoration-color: #808000\">\"sqlalchemy&lt;2.0\"</span><span style=\"color: #808000; text-decoration-color: #808000\">. Set environment variable </span><span style=\"color: #808000; text-decoration-color: #808000\">SQLALCHEMY_WARN_20</span><span style=\"color: #808000; text-decoration-color: #808000\">=</span><span style=\"color: #808000; text-decoration-color: #808000; font-weight: bold\">1</span><span style=\"color: #808000; text-decoration-color: #808000\"> to show all deprecation warnings.  Set environment variable </span><span style=\"color: #808000; text-decoration-color: #808000\">SQLALCHEMY_SILENCE_UBER_WARNING</span><span style=\"color: #808000; text-decoration-color: #808000\">=</span><span style=\"color: #808000; text-decoration-color: #808000; font-weight: bold\">1</span><span style=\"color: #808000; text-decoration-color: #808000\"> to silence this message. </span><span style=\"color: #808000; text-decoration-color: #808000; font-weight: bold\">(</span><span style=\"color: #808000; text-decoration-color: #808000\">Background on SQLAlchemy </span><span style=\"color: #808000; text-decoration-color: #808000; font-weight: bold\">2.0</span><span style=\"color: #808000; text-decoration-color: #808000\"> at: </span><span style=\"color: #808000; text-decoration-color: #808000; text-decoration: underline\">https://sqlalche.me/e/b8d9)</span>\n",
       "</pre>\n"
      ],
      "text/plain": [
       "\u001b[1;33m/opt/anaconda3/envs/DistDataSys/lib/python3.10/site-packages/airflow/models/\u001b[0m\u001b[1;33mbase.py\u001b[0m\u001b[1;33m:\u001b[0m\u001b[1;33m49\u001b[0m\u001b[1;33m MovedIn20Warning\u001b[0m\u001b[33m: Deprecated API features detected! These \u001b[0m\u001b[1;33mfeature\u001b[0m\u001b[1;33m(\u001b[0m\u001b[33ms\u001b[0m\u001b[1;33m)\u001b[0m\u001b[33m are not compatible with SQLAlchemy \u001b[0m\u001b[1;33m2.0\u001b[0m\u001b[33m. To prevent incompatible upgrades prior to updating applications, ensure requirements files are pinned to \u001b[0m\u001b[33m\"sqlalchemy<2.0\"\u001b[0m\u001b[33m. Set environment variable \u001b[0m\u001b[33mSQLALCHEMY_WARN_20\u001b[0m\u001b[33m=\u001b[0m\u001b[1;33m1\u001b[0m\u001b[33m to show all deprecation warnings.  Set environment variable \u001b[0m\u001b[33mSQLALCHEMY_SILENCE_UBER_WARNING\u001b[0m\u001b[33m=\u001b[0m\u001b[1;33m1\u001b[0m\u001b[33m to silence this message. \u001b[0m\u001b[1;33m(\u001b[0m\u001b[33mBackground on SQLAlchemy \u001b[0m\u001b[1;33m2.0\u001b[0m\u001b[33m at: \u001b[0m\u001b[4;33mhttps://sqlalche.me/e/b8d9\u001b[0m\u001b[4;33m)\u001b[0m\n"
      ]
     },
     "metadata": {},
     "output_type": "display_data"
    }
   ],
   "source": [
    "import pandas as pd\n",
    "import numpy as np\n",
    "from datetime import datetime\n",
    "\n",
    "from tqdm import tqdm\n",
    "from collections import defaultdict\n",
    "from collections import Counter\n",
    "from collection_cache import CollectionCache\n",
    "from pymongo import IndexModel, ASCENDING, DESCENDING\n",
    "from mongo_db import MongoDB\n",
    "from utils import load_location_data"
   ]
  },
  {
   "cell_type": "code",
   "execution_count": null,
   "metadata": {},
   "outputs": [],
   "source": [
    "mongo = MongoDB()"
   ]
  },
  {
   "cell_type": "code",
   "execution_count": 6,
   "metadata": {},
   "outputs": [
    {
     "ename": "TypeError",
     "evalue": "'Collection' object is not callable. If you meant to call the 'first' method on a 'Collection' object it is failing because no such method exists.",
     "output_type": "error",
     "traceback": [
      "\u001b[0;31m---------------------------------------------------------------------------\u001b[0m",
      "\u001b[0;31mTypeError\u001b[0m                                 Traceback (most recent call last)",
      "Cell \u001b[0;32mIn[6], line 1\u001b[0m\n\u001b[0;32m----> 1\u001b[0m mongo\u001b[39m.\u001b[39;49mcollection\u001b[39m.\u001b[39;49mfirst()\n",
      "File \u001b[0;32m/opt/anaconda3/envs/DistDataSys/lib/python3.10/site-packages/pymongo/collection.py:3213\u001b[0m, in \u001b[0;36mCollection.__call__\u001b[0;34m(self, *args, **kwargs)\u001b[0m\n\u001b[1;32m   3206\u001b[0m \u001b[39mif\u001b[39;00m \u001b[39m\"\u001b[39m\u001b[39m.\u001b[39m\u001b[39m\"\u001b[39m \u001b[39mnot\u001b[39;00m \u001b[39min\u001b[39;00m \u001b[39mself\u001b[39m\u001b[39m.\u001b[39m__name:\n\u001b[1;32m   3207\u001b[0m     \u001b[39mraise\u001b[39;00m \u001b[39mTypeError\u001b[39;00m(\n\u001b[1;32m   3208\u001b[0m         \u001b[39m\"\u001b[39m\u001b[39m'\u001b[39m\u001b[39mCollection\u001b[39m\u001b[39m'\u001b[39m\u001b[39m object is not callable. If you \u001b[39m\u001b[39m\"\u001b[39m\n\u001b[1;32m   3209\u001b[0m         \u001b[39m\"\u001b[39m\u001b[39mmeant to call the \u001b[39m\u001b[39m'\u001b[39m\u001b[39m%s\u001b[39;00m\u001b[39m'\u001b[39m\u001b[39m method on a \u001b[39m\u001b[39m'\u001b[39m\u001b[39mDatabase\u001b[39m\u001b[39m'\u001b[39m\u001b[39m \u001b[39m\u001b[39m\"\u001b[39m\n\u001b[1;32m   3210\u001b[0m         \u001b[39m\"\u001b[39m\u001b[39mobject it is failing because no such method \u001b[39m\u001b[39m\"\u001b[39m\n\u001b[1;32m   3211\u001b[0m         \u001b[39m\"\u001b[39m\u001b[39mexists.\u001b[39m\u001b[39m\"\u001b[39m \u001b[39m%\u001b[39m \u001b[39mself\u001b[39m\u001b[39m.\u001b[39m__name\n\u001b[1;32m   3212\u001b[0m     )\n\u001b[0;32m-> 3213\u001b[0m \u001b[39mraise\u001b[39;00m \u001b[39mTypeError\u001b[39;00m(\n\u001b[1;32m   3214\u001b[0m     \u001b[39m\"\u001b[39m\u001b[39m'\u001b[39m\u001b[39mCollection\u001b[39m\u001b[39m'\u001b[39m\u001b[39m object is not callable. If you meant to \u001b[39m\u001b[39m\"\u001b[39m\n\u001b[1;32m   3215\u001b[0m     \u001b[39m\"\u001b[39m\u001b[39mcall the \u001b[39m\u001b[39m'\u001b[39m\u001b[39m%s\u001b[39;00m\u001b[39m'\u001b[39m\u001b[39m method on a \u001b[39m\u001b[39m'\u001b[39m\u001b[39mCollection\u001b[39m\u001b[39m'\u001b[39m\u001b[39m object it is \u001b[39m\u001b[39m\"\u001b[39m\n\u001b[1;32m   3216\u001b[0m     \u001b[39m\"\u001b[39m\u001b[39mfailing because no such method exists.\u001b[39m\u001b[39m\"\u001b[39m \u001b[39m%\u001b[39m \u001b[39mself\u001b[39m\u001b[39m.\u001b[39m__name\u001b[39m.\u001b[39msplit(\u001b[39m\"\u001b[39m\u001b[39m.\u001b[39m\u001b[39m\"\u001b[39m)[\u001b[39m-\u001b[39m\u001b[39m1\u001b[39m]\n\u001b[1;32m   3217\u001b[0m )\n",
      "\u001b[0;31mTypeError\u001b[0m: 'Collection' object is not callable. If you meant to call the 'first' method on a 'Collection' object it is failing because no such method exists."
     ]
    }
   ],
   "source": [
    "mongo.collection"
   ]
  },
  {
   "cell_type": "code",
   "execution_count": 24,
   "metadata": {},
   "outputs": [],
   "source": [
    "test = mongo.collection.aggregate([{\n",
    "        \"$group\": {\n",
    "            \"_id\": {\"lat\": \"$lat\", \"lon\": \"$lon\"},\n",
    "            \"total_radiance\": {\"$sum\": \"$solar_radiation\"}\n",
    "        }\n",
    "        },\n",
    "        {\n",
    "                \"$project\": {\n",
    "                        \"_id\": False,\n",
    "                        \"lat\": \"$_id.lat\",\n",
    "                        \"lon\": \"$_id.lon\",\n",
    "                        \"total_radiance\": True\n",
    "                }\n",
    "        }\n",
    "        ])\n",
    "\n",
    "results = list(test)\n",
    "results = pd.DataFrame(results)"
   ]
  },
  {
   "cell_type": "code",
   "execution_count": 25,
   "metadata": {},
   "outputs": [
    {
     "data": {
      "text/html": [
       "<div>\n",
       "<style scoped>\n",
       "    .dataframe tbody tr th:only-of-type {\n",
       "        vertical-align: middle;\n",
       "    }\n",
       "\n",
       "    .dataframe tbody tr th {\n",
       "        vertical-align: top;\n",
       "    }\n",
       "\n",
       "    .dataframe thead th {\n",
       "        text-align: right;\n",
       "    }\n",
       "</style>\n",
       "<table border=\"1\" class=\"dataframe\">\n",
       "  <thead>\n",
       "    <tr style=\"text-align: right;\">\n",
       "      <th></th>\n",
       "      <th>total_radiance</th>\n",
       "      <th>lat</th>\n",
       "      <th>lon</th>\n",
       "    </tr>\n",
       "  </thead>\n",
       "  <tbody>\n",
       "    <tr>\n",
       "      <th>0</th>\n",
       "      <td>1998262.0</td>\n",
       "      <td>36.117</td>\n",
       "      <td>-118.834</td>\n",
       "    </tr>\n",
       "    <tr>\n",
       "      <th>1</th>\n",
       "      <td>2082127.3</td>\n",
       "      <td>34.391</td>\n",
       "      <td>-117.412</td>\n",
       "    </tr>\n",
       "    <tr>\n",
       "      <th>2</th>\n",
       "      <td>2070641.0</td>\n",
       "      <td>32.978</td>\n",
       "      <td>-115.529</td>\n",
       "    </tr>\n",
       "    <tr>\n",
       "      <th>3</th>\n",
       "      <td>1997646.6</td>\n",
       "      <td>38.951</td>\n",
       "      <td>-122.721</td>\n",
       "    </tr>\n",
       "    <tr>\n",
       "      <th>4</th>\n",
       "      <td>2018041.9</td>\n",
       "      <td>37.757</td>\n",
       "      <td>-120.129</td>\n",
       "    </tr>\n",
       "  </tbody>\n",
       "</table>\n",
       "</div>"
      ],
      "text/plain": [
       "   total_radiance     lat      lon\n",
       "0       1998262.0  36.117 -118.834\n",
       "1       2082127.3  34.391 -117.412\n",
       "2       2070641.0  32.978 -115.529\n",
       "3       1997646.6  38.951 -122.721\n",
       "4       2018041.9  37.757 -120.129"
      ]
     },
     "execution_count": 25,
     "metadata": {},
     "output_type": "execute_result"
    }
   ],
   "source": [
    "results.head()"
   ]
  },
  {
   "cell_type": "code",
   "execution_count": 27,
   "metadata": {},
   "outputs": [
    {
     "data": {
      "text/html": [
       "<div>\n",
       "<style scoped>\n",
       "    .dataframe tbody tr th:only-of-type {\n",
       "        vertical-align: middle;\n",
       "    }\n",
       "\n",
       "    .dataframe tbody tr th {\n",
       "        vertical-align: top;\n",
       "    }\n",
       "\n",
       "    .dataframe thead th {\n",
       "        text-align: right;\n",
       "    }\n",
       "</style>\n",
       "<table border=\"1\" class=\"dataframe\">\n",
       "  <thead>\n",
       "    <tr style=\"text-align: right;\">\n",
       "      <th></th>\n",
       "      <th>city</th>\n",
       "      <th>lat</th>\n",
       "      <th>lon</th>\n",
       "      <th>population</th>\n",
       "    </tr>\n",
       "  </thead>\n",
       "  <tbody>\n",
       "    <tr>\n",
       "      <th>0</th>\n",
       "      <td>Los Angeles</td>\n",
       "      <td>34.114</td>\n",
       "      <td>-118.407</td>\n",
       "      <td>12750807</td>\n",
       "    </tr>\n",
       "    <tr>\n",
       "      <th>1</th>\n",
       "      <td>San Francisco</td>\n",
       "      <td>37.756</td>\n",
       "      <td>-122.443</td>\n",
       "      <td>3592294</td>\n",
       "    </tr>\n",
       "    <tr>\n",
       "      <th>2</th>\n",
       "      <td>San Diego</td>\n",
       "      <td>32.831</td>\n",
       "      <td>-117.122</td>\n",
       "      <td>3220118</td>\n",
       "    </tr>\n",
       "    <tr>\n",
       "      <th>3</th>\n",
       "      <td>Riverside</td>\n",
       "      <td>33.938</td>\n",
       "      <td>-117.395</td>\n",
       "      <td>2107852</td>\n",
       "    </tr>\n",
       "    <tr>\n",
       "      <th>4</th>\n",
       "      <td>Sacramento</td>\n",
       "      <td>38.567</td>\n",
       "      <td>-121.468</td>\n",
       "      <td>1898019</td>\n",
       "    </tr>\n",
       "  </tbody>\n",
       "</table>\n",
       "</div>"
      ],
      "text/plain": [
       "            city     lat      lon  population\n",
       "0    Los Angeles  34.114 -118.407    12750807\n",
       "1  San Francisco  37.756 -122.443     3592294\n",
       "2      San Diego  32.831 -117.122     3220118\n",
       "3      Riverside  33.938 -117.395     2107852\n",
       "4     Sacramento  38.567 -121.468     1898019"
      ]
     },
     "execution_count": 27,
     "metadata": {},
     "output_type": "execute_result"
    }
   ],
   "source": [
    "locations = pd.read_csv(\"locations.csv\")\n",
    "locations.head()"
   ]
  },
  {
   "cell_type": "code",
   "execution_count": 48,
   "metadata": {},
   "outputs": [
    {
     "data": {
      "text/html": [
       "<div>\n",
       "<style scoped>\n",
       "    .dataframe tbody tr th:only-of-type {\n",
       "        vertical-align: middle;\n",
       "    }\n",
       "\n",
       "    .dataframe tbody tr th {\n",
       "        vertical-align: top;\n",
       "    }\n",
       "\n",
       "    .dataframe thead th {\n",
       "        text-align: right;\n",
       "    }\n",
       "</style>\n",
       "<table border=\"1\" class=\"dataframe\">\n",
       "  <thead>\n",
       "    <tr style=\"text-align: right;\">\n",
       "      <th></th>\n",
       "      <th>city</th>\n",
       "      <th>total_radiance</th>\n",
       "    </tr>\n",
       "  </thead>\n",
       "  <tbody>\n",
       "    <tr>\n",
       "      <th>226</th>\n",
       "      <td>Acton</td>\n",
       "      <td>2093052.5</td>\n",
       "    </tr>\n",
       "    <tr>\n",
       "      <th>116</th>\n",
       "      <td>Adelanto</td>\n",
       "      <td>1866636.7</td>\n",
       "    </tr>\n",
       "    <tr>\n",
       "      <th>265</th>\n",
       "      <td>Agua Dulce</td>\n",
       "      <td>1271765.3</td>\n",
       "    </tr>\n",
       "    <tr>\n",
       "      <th>412</th>\n",
       "      <td>Aguanga</td>\n",
       "      <td>2085709.8</td>\n",
       "    </tr>\n",
       "    <tr>\n",
       "      <th>440</th>\n",
       "      <td>Allensworth</td>\n",
       "      <td>1950691.0</td>\n",
       "    </tr>\n",
       "  </tbody>\n",
       "</table>\n",
       "</div>"
      ],
      "text/plain": [
       "            city  total_radiance\n",
       "226        Acton       2093052.5\n",
       "116     Adelanto       1866636.7\n",
       "265   Agua Dulce       1271765.3\n",
       "412      Aguanga       2085709.8\n",
       "440  Allensworth       1950691.0"
      ]
     },
     "execution_count": 48,
     "metadata": {},
     "output_type": "execute_result"
    }
   ],
   "source": [
    "true_vals = locations.merge(results, on=['lat','lon'])[['city', 'total_radiance']]\n",
    "true_vals = true_vals.sort_values('city')\n",
    "true_vals.head()"
   ]
  },
  {
   "cell_type": "code",
   "execution_count": 50,
   "metadata": {},
   "outputs": [
    {
     "data": {
      "text/html": [
       "<div>\n",
       "<style scoped>\n",
       "    .dataframe tbody tr th:only-of-type {\n",
       "        vertical-align: middle;\n",
       "    }\n",
       "\n",
       "    .dataframe tbody tr th {\n",
       "        vertical-align: top;\n",
       "    }\n",
       "\n",
       "    .dataframe thead th {\n",
       "        text-align: right;\n",
       "    }\n",
       "</style>\n",
       "<table border=\"1\" class=\"dataframe\">\n",
       "  <thead>\n",
       "    <tr style=\"text-align: right;\">\n",
       "      <th></th>\n",
       "      <th>city</th>\n",
       "      <th>pred_radiance</th>\n",
       "    </tr>\n",
       "  </thead>\n",
       "  <tbody>\n",
       "    <tr>\n",
       "      <th>127</th>\n",
       "      <td>Acton</td>\n",
       "      <td>1963624.337191</td>\n",
       "    </tr>\n",
       "    <tr>\n",
       "      <th>130</th>\n",
       "      <td>Adelanto</td>\n",
       "      <td>1968915.339942</td>\n",
       "    </tr>\n",
       "    <tr>\n",
       "      <th>128</th>\n",
       "      <td>Agua Dulce</td>\n",
       "      <td>1789310.655009</td>\n",
       "    </tr>\n",
       "    <tr>\n",
       "      <th>30</th>\n",
       "      <td>Aguanga</td>\n",
       "      <td>1982199.626511</td>\n",
       "    </tr>\n",
       "    <tr>\n",
       "      <th>182</th>\n",
       "      <td>Allensworth</td>\n",
       "      <td>1879156.246152</td>\n",
       "    </tr>\n",
       "  </tbody>\n",
       "</table>\n",
       "</div>"
      ],
      "text/plain": [
       "            city   pred_radiance\n",
       "127        Acton  1963624.337191\n",
       "130     Adelanto  1968915.339942\n",
       "128   Agua Dulce  1789310.655009\n",
       "30       Aguanga  1982199.626511\n",
       "182  Allensworth  1879156.246152"
      ]
     },
     "execution_count": 50,
     "metadata": {},
     "output_type": "execute_result"
    }
   ],
   "source": [
    "import json\n",
    "\n",
    "with open('predictions.json', 'r') as file:\n",
    "    pred = json.loads(file.read())\n",
    "pred = pd.DataFrame(list(zip(*pred.items()))).T\n",
    "pred.columns = ['city', 'pred_radiance']\n",
    "pred = pred.sort_values('city')\n",
    "pred.head()"
   ]
  },
  {
   "cell_type": "code",
   "execution_count": 53,
   "metadata": {},
   "outputs": [],
   "source": [
    "def compute_yearly_cost_savings(\n",
    "    irradiance_total: float,\n",
    "    num_panels: int,\n",
    "    max_panel_power: float,\n",
    "    ) -> float:\n",
    "    \"\"\" Function to compute the total yearly energy cost savings for a \n",
    "    provided set of irradiance values and solar panel configuration \n",
    "    \n",
    "    Parameters:\n",
    "        irradiance_total (float): Total yearly solar irradiance Wh (watt hours)\n",
    "        num_panels (int): Number of solar panels\n",
    "        max_panel_power (float): Max power output of solar panel (W/m^2)\n",
    "    Returns:\n",
    "        float: Yearly energy savings in dollars\n",
    "        float: Percentage of yearly energy bill saved\n",
    "    \"\"\"\n",
    "    ENERGY_COST = 0.0003  # $0.30 per kWh\n",
    "    MONTHLY_HOUSEHOLD_ENERGY_USAGE = 600000  # 600 KWH\n",
    "    total_panel_energy = num_panels * max_panel_power * (irradiance_total / 1000)\n",
    "    proportion_energy_bill = min(1, total_panel_energy / (12 * MONTHLY_HOUSEHOLD_ENERGY_USAGE))\n",
    "    savings = min(total_panel_energy, 12 * MONTHLY_HOUSEHOLD_ENERGY_USAGE) * ENERGY_COST\n",
    "    return round(savings, 2), round(100 * proportion_energy_bill, 1)"
   ]
  },
  {
   "cell_type": "code",
   "execution_count": 59,
   "metadata": {},
   "outputs": [
    {
     "data": {
      "text/html": [
       "<div>\n",
       "<style scoped>\n",
       "    .dataframe tbody tr th:only-of-type {\n",
       "        vertical-align: middle;\n",
       "    }\n",
       "\n",
       "    .dataframe tbody tr th {\n",
       "        vertical-align: top;\n",
       "    }\n",
       "\n",
       "    .dataframe thead th {\n",
       "        text-align: right;\n",
       "    }\n",
       "</style>\n",
       "<table border=\"1\" class=\"dataframe\">\n",
       "  <thead>\n",
       "    <tr style=\"text-align: right;\">\n",
       "      <th></th>\n",
       "      <th>city</th>\n",
       "      <th>total_radiance</th>\n",
       "      <th>pred_radiance</th>\n",
       "      <th>diff</th>\n",
       "      <th>diff_price</th>\n",
       "      <th>actual_price</th>\n",
       "      <th>pred_price</th>\n",
       "    </tr>\n",
       "  </thead>\n",
       "  <tbody>\n",
       "    <tr>\n",
       "      <th>0</th>\n",
       "      <td>Acton</td>\n",
       "      <td>2093052.5</td>\n",
       "      <td>1963624.337191</td>\n",
       "      <td>129428.162809</td>\n",
       "      <td>19.41</td>\n",
       "      <td>313.96</td>\n",
       "      <td>294.54</td>\n",
       "    </tr>\n",
       "    <tr>\n",
       "      <th>1</th>\n",
       "      <td>Adelanto</td>\n",
       "      <td>1866636.7</td>\n",
       "      <td>1968915.339942</td>\n",
       "      <td>102278.639942</td>\n",
       "      <td>15.34</td>\n",
       "      <td>280.00</td>\n",
       "      <td>295.34</td>\n",
       "    </tr>\n",
       "    <tr>\n",
       "      <th>2</th>\n",
       "      <td>Agua Dulce</td>\n",
       "      <td>1271765.3</td>\n",
       "      <td>1789310.655009</td>\n",
       "      <td>517545.355009</td>\n",
       "      <td>77.63</td>\n",
       "      <td>190.76</td>\n",
       "      <td>268.40</td>\n",
       "    </tr>\n",
       "    <tr>\n",
       "      <th>3</th>\n",
       "      <td>Aguanga</td>\n",
       "      <td>2085709.8</td>\n",
       "      <td>1982199.626511</td>\n",
       "      <td>103510.173489</td>\n",
       "      <td>15.53</td>\n",
       "      <td>312.86</td>\n",
       "      <td>297.33</td>\n",
       "    </tr>\n",
       "    <tr>\n",
       "      <th>4</th>\n",
       "      <td>Allensworth</td>\n",
       "      <td>1950691.0</td>\n",
       "      <td>1879156.246152</td>\n",
       "      <td>71534.753848</td>\n",
       "      <td>10.73</td>\n",
       "      <td>292.60</td>\n",
       "      <td>281.87</td>\n",
       "    </tr>\n",
       "    <tr>\n",
       "      <th>...</th>\n",
       "      <td>...</td>\n",
       "      <td>...</td>\n",
       "      <td>...</td>\n",
       "      <td>...</td>\n",
       "      <td>...</td>\n",
       "      <td>...</td>\n",
       "      <td>...</td>\n",
       "    </tr>\n",
       "    <tr>\n",
       "      <th>445</th>\n",
       "      <td>Yosemite Valley</td>\n",
       "      <td>1514094.6</td>\n",
       "      <td>1652262.010044</td>\n",
       "      <td>138167.410044</td>\n",
       "      <td>20.73</td>\n",
       "      <td>227.11</td>\n",
       "      <td>247.84</td>\n",
       "    </tr>\n",
       "    <tr>\n",
       "      <th>446</th>\n",
       "      <td>Yreka</td>\n",
       "      <td>1744538.0</td>\n",
       "      <td>1706928.329148</td>\n",
       "      <td>37609.670852</td>\n",
       "      <td>5.64</td>\n",
       "      <td>261.68</td>\n",
       "      <td>256.04</td>\n",
       "    </tr>\n",
       "    <tr>\n",
       "      <th>447</th>\n",
       "      <td>Yuba City</td>\n",
       "      <td>3083013.6</td>\n",
       "      <td>3100228.205875</td>\n",
       "      <td>17214.605875</td>\n",
       "      <td>2.58</td>\n",
       "      <td>462.45</td>\n",
       "      <td>465.03</td>\n",
       "    </tr>\n",
       "    <tr>\n",
       "      <th>448</th>\n",
       "      <td>Yucaipa</td>\n",
       "      <td>1468168.4</td>\n",
       "      <td>1829796.920661</td>\n",
       "      <td>361628.520661</td>\n",
       "      <td>54.24</td>\n",
       "      <td>220.23</td>\n",
       "      <td>274.47</td>\n",
       "    </tr>\n",
       "    <tr>\n",
       "      <th>449</th>\n",
       "      <td>Yucca Valley</td>\n",
       "      <td>2238814.0</td>\n",
       "      <td>2121844.617109</td>\n",
       "      <td>116969.382891</td>\n",
       "      <td>17.55</td>\n",
       "      <td>335.82</td>\n",
       "      <td>318.28</td>\n",
       "    </tr>\n",
       "  </tbody>\n",
       "</table>\n",
       "<p>450 rows × 7 columns</p>\n",
       "</div>"
      ],
      "text/plain": [
       "                city  total_radiance   pred_radiance           diff  \\\n",
       "0              Acton       2093052.5  1963624.337191  129428.162809   \n",
       "1           Adelanto       1866636.7  1968915.339942  102278.639942   \n",
       "2         Agua Dulce       1271765.3  1789310.655009  517545.355009   \n",
       "3            Aguanga       2085709.8  1982199.626511  103510.173489   \n",
       "4        Allensworth       1950691.0  1879156.246152   71534.753848   \n",
       "..               ...             ...             ...            ...   \n",
       "445  Yosemite Valley       1514094.6  1652262.010044  138167.410044   \n",
       "446            Yreka       1744538.0  1706928.329148   37609.670852   \n",
       "447        Yuba City       3083013.6  3100228.205875   17214.605875   \n",
       "448          Yucaipa       1468168.4  1829796.920661  361628.520661   \n",
       "449     Yucca Valley       2238814.0  2121844.617109  116969.382891   \n",
       "\n",
       "     diff_price  actual_price  pred_price  \n",
       "0         19.41        313.96      294.54  \n",
       "1         15.34        280.00      295.34  \n",
       "2         77.63        190.76      268.40  \n",
       "3         15.53        312.86      297.33  \n",
       "4         10.73        292.60      281.87  \n",
       "..          ...           ...         ...  \n",
       "445       20.73        227.11      247.84  \n",
       "446        5.64        261.68      256.04  \n",
       "447        2.58        462.45      465.03  \n",
       "448       54.24        220.23      274.47  \n",
       "449       17.55        335.82      318.28  \n",
       "\n",
       "[450 rows x 7 columns]"
      ]
     },
     "execution_count": 59,
     "metadata": {},
     "output_type": "execute_result"
    }
   ],
   "source": [
    "combined = true_vals.merge(pred, on='city')\n",
    "combined['diff'] = abs(combined['total_radiance'] - combined['pred_radiance'])\n",
    "combined['diff_price'] = combined['diff'].apply(\n",
    "    lambda x: compute_yearly_cost_savings(x, 5, 100)[0]\n",
    ")\n",
    "combined['actual_price'] = combined['total_radiance'].apply(\n",
    "    lambda x: compute_yearly_cost_savings(x, 5, 100)[0]\n",
    ")\n",
    "combined['pred_price'] = combined['pred_radiance'].apply(\n",
    "    lambda x: compute_yearly_cost_savings(x, 5, 100)[0]\n",
    ")\n",
    "combined"
   ]
  },
  {
   "cell_type": "code",
   "execution_count": 62,
   "metadata": {},
   "outputs": [
    {
     "data": {
      "text/plain": [
       "(27.142088888888885, 0.11119055464090188)"
      ]
     },
     "execution_count": 62,
     "metadata": {},
     "output_type": "execute_result"
    }
   ],
   "source": [
    "from sklearn.metrics import mean_absolute_error, mean_absolute_percentage_error\n",
    "\n",
    "y_true = combined['actual_price']\n",
    "y_pred = combined['pred_price']\n",
    "\n",
    "mean_absolute_error(y_true, y_pred), mean_absolute_percentage_error(y_true, y_pred)"
   ]
  },
  {
   "cell_type": "code",
   "execution_count": 57,
   "metadata": {},
   "outputs": [],
   "source": [
    "diff = combined['diff_price'].values"
   ]
  },
  {
   "cell_type": "code",
   "execution_count": 58,
   "metadata": {},
   "outputs": [
    {
     "data": {
      "text/plain": [
       "27.14217777777778"
      ]
     },
     "execution_count": 58,
     "metadata": {},
     "output_type": "execute_result"
    }
   ],
   "source": [
    "np.mean(diff)"
   ]
  },
  {
   "cell_type": "code",
   "execution_count": 8,
   "metadata": {},
   "outputs": [
    {
     "data": {
      "text/plain": [
       "True"
      ]
     },
     "execution_count": 8,
     "metadata": {},
     "output_type": "execute_result"
    }
   ],
   "source": [
    "cache = CollectionCache()\n",
    "locations = load_location_data()\n",
    "cache.collection_complete(locations)"
   ]
  },
  {
   "cell_type": "code",
   "execution_count": 21,
   "metadata": {},
   "outputs": [],
   "source": [
    "def date_to_str(date):\n",
    "    date = str(date)\n",
    "    return '_'.join(date.split(' '))"
   ]
  },
  {
   "cell_type": "code",
   "execution_count": 24,
   "metadata": {},
   "outputs": [],
   "source": [
    "start = datetime(2022,1,1,0,0,0)\n",
    "end = datetime(2022,12,31,23,0,0)\n",
    "\n",
    "dates = list(pd.date_range(start,end,freq='H'))\n",
    "\n",
    "dates = np.vectorize(date_to_str)(dates)"
   ]
  },
  {
   "cell_type": "code",
   "execution_count": 3,
   "metadata": {},
   "outputs": [
    {
     "ename": "NameError",
     "evalue": "name 'locations' is not defined",
     "output_type": "error",
     "traceback": [
      "\u001b[0;31m---------------------------------------------------------------------------\u001b[0m",
      "\u001b[0;31mNameError\u001b[0m                                 Traceback (most recent call last)",
      "Cell \u001b[0;32mIn[3], line 4\u001b[0m\n\u001b[1;32m      1\u001b[0m mongo \u001b[39m=\u001b[39m MongoDB()\n\u001b[1;32m      2\u001b[0m totals \u001b[39m=\u001b[39m []\n\u001b[0;32m----> 4\u001b[0m \u001b[39mfor\u001b[39;00m lat, lon \u001b[39min\u001b[39;00m tqdm(locations):\n\u001b[1;32m      5\u001b[0m     totals\u001b[39m.\u001b[39mappend(mongo\u001b[39m.\u001b[39mcollection\u001b[39m.\u001b[39mcount_documents({\u001b[39m\"\u001b[39m\u001b[39mlat\u001b[39m\u001b[39m\"\u001b[39m: lat, \u001b[39m\"\u001b[39m\u001b[39mlon\u001b[39m\u001b[39m\"\u001b[39m: lon}))\n",
      "\u001b[0;31mNameError\u001b[0m: name 'locations' is not defined"
     ]
    }
   ],
   "source": [
    "mongo = MongoDB()\n",
    "totals = []\n",
    "\n",
    "for lat, lon in tqdm(locations):\n",
    "    totals.append(mongo.collection.count_documents({\"lat\": lat, \"lon\": lon}))"
   ]
  },
  {
   "cell_type": "code",
   "execution_count": 38,
   "metadata": {},
   "outputs": [
    {
     "data": {
      "text/plain": [
       "'lat_-1_lon_1'"
      ]
     },
     "execution_count": 38,
     "metadata": {},
     "output_type": "execute_result"
    }
   ],
   "source": [
    "mongo.collection.create_index([(\"lat\", DESCENDING),(\"lon\", ASCENDING)])"
   ]
  },
  {
   "cell_type": "code",
   "execution_count": 44,
   "metadata": {},
   "outputs": [
    {
     "data": {
      "text/plain": [
       "Counter({8161: 450})"
      ]
     },
     "execution_count": 44,
     "metadata": {},
     "output_type": "execute_result"
    }
   ],
   "source": [
    "Counter(totals)"
   ]
  },
  {
   "cell_type": "code",
   "execution_count": 55,
   "metadata": {},
   "outputs": [],
   "source": [
    "from tqdm.contrib import itertools"
   ]
  },
  {
   "cell_type": "code",
   "execution_count": 110,
   "metadata": {},
   "outputs": [],
   "source": [
    "import pickle\n",
    "\n",
    "def save_pickle(obj, filename):\n",
    "    with open(filename, 'wb') as file:\n",
    "        pickle.dump(obj, file)"
   ]
  },
  {
   "cell_type": "code",
   "execution_count": 111,
   "metadata": {},
   "outputs": [
    {
     "data": {
      "application/vnd.jupyter.widget-view+json": {
       "model_id": "1a4c8e677a0d47ffbf49aa672df63e82",
       "version_major": 2,
       "version_minor": 0
      },
      "text/plain": [
       "  0%|          | 0/87600 [00:00<?, ?it/s]"
      ]
     },
     "metadata": {},
     "output_type": "display_data"
    },
    {
     "ename": "KeyboardInterrupt",
     "evalue": "",
     "output_type": "error",
     "traceback": [
      "\u001b[0;31m---------------------------------------------------------------------------\u001b[0m",
      "\u001b[0;31mKeyboardInterrupt\u001b[0m                         Traceback (most recent call last)",
      "Cell \u001b[0;32mIn[111], line 8\u001b[0m\n\u001b[1;32m      6\u001b[0m lon \u001b[39m=\u001b[39m loc[\u001b[39m1\u001b[39m]\n\u001b[1;32m      7\u001b[0m key \u001b[39m=\u001b[39m \u001b[39mf\u001b[39m\u001b[39m\"\u001b[39m\u001b[39m{\u001b[39;00mlat\u001b[39m}\u001b[39;00m\u001b[39m_\u001b[39m\u001b[39m{\u001b[39;00mlon\u001b[39m}\u001b[39;00m\u001b[39m_\u001b[39m\u001b[39m{\u001b[39;00mdate\u001b[39m}\u001b[39;00m\u001b[39m\"\u001b[39m\n\u001b[0;32m----> 8\u001b[0m num_doc \u001b[39m=\u001b[39m \u001b[39mlen\u001b[39m(\u001b[39mlist\u001b[39;49m(mongo\u001b[39m.\u001b[39;49mcollection\u001b[39m.\u001b[39;49mfind({\u001b[39m\"\u001b[39;49m\u001b[39m_id\u001b[39;49m\u001b[39m\"\u001b[39;49m: key})\u001b[39m.\u001b[39;49mlimit(\u001b[39m1\u001b[39;49m)))\n\u001b[1;32m      9\u001b[0m \u001b[39mif\u001b[39;00m num_doc \u001b[39m==\u001b[39m \u001b[39m0\u001b[39m:\n\u001b[1;32m     10\u001b[0m     results[\u001b[39mf\u001b[39m\u001b[39m\"\u001b[39m\u001b[39m{\u001b[39;00mlat\u001b[39m}\u001b[39;00m\u001b[39m_\u001b[39m\u001b[39m{\u001b[39;00mlon\u001b[39m}\u001b[39;00m\u001b[39m\"\u001b[39m]\u001b[39m.\u001b[39madd(date)\n",
      "File \u001b[0;32m/opt/anaconda3/envs/DistDataSys/lib/python3.10/site-packages/pymongo/cursor.py:1248\u001b[0m, in \u001b[0;36mCursor.next\u001b[0;34m(self)\u001b[0m\n\u001b[1;32m   1246\u001b[0m \u001b[39mif\u001b[39;00m \u001b[39mself\u001b[39m\u001b[39m.\u001b[39m__empty:\n\u001b[1;32m   1247\u001b[0m     \u001b[39mraise\u001b[39;00m \u001b[39mStopIteration\u001b[39;00m\n\u001b[0;32m-> 1248\u001b[0m \u001b[39mif\u001b[39;00m \u001b[39mlen\u001b[39m(\u001b[39mself\u001b[39m\u001b[39m.\u001b[39m__data) \u001b[39mor\u001b[39;00m \u001b[39mself\u001b[39;49m\u001b[39m.\u001b[39;49m_refresh():\n\u001b[1;32m   1249\u001b[0m     \u001b[39mreturn\u001b[39;00m \u001b[39mself\u001b[39m\u001b[39m.\u001b[39m__data\u001b[39m.\u001b[39mpopleft()\n\u001b[1;32m   1250\u001b[0m \u001b[39melse\u001b[39;00m:\n",
      "File \u001b[0;32m/opt/anaconda3/envs/DistDataSys/lib/python3.10/site-packages/pymongo/cursor.py:1165\u001b[0m, in \u001b[0;36mCursor._refresh\u001b[0;34m(self)\u001b[0m\n\u001b[1;32m   1143\u001b[0m         \u001b[39mraise\u001b[39;00m InvalidOperation(\n\u001b[1;32m   1144\u001b[0m             \u001b[39m\"\u001b[39m\u001b[39mPassing a \u001b[39m\u001b[39m'\u001b[39m\u001b[39mhint\u001b[39m\u001b[39m'\u001b[39m\u001b[39m is required when using the min/max query\u001b[39m\u001b[39m\"\u001b[39m\n\u001b[1;32m   1145\u001b[0m             \u001b[39m\"\u001b[39m\u001b[39m option to ensure the query utilizes the correct index\u001b[39m\u001b[39m\"\u001b[39m\n\u001b[1;32m   1146\u001b[0m         )\n\u001b[1;32m   1147\u001b[0m     q \u001b[39m=\u001b[39m \u001b[39mself\u001b[39m\u001b[39m.\u001b[39m_query_class(\n\u001b[1;32m   1148\u001b[0m         \u001b[39mself\u001b[39m\u001b[39m.\u001b[39m__query_flags,\n\u001b[1;32m   1149\u001b[0m         \u001b[39mself\u001b[39m\u001b[39m.\u001b[39m__collection\u001b[39m.\u001b[39mdatabase\u001b[39m.\u001b[39mname,\n\u001b[0;32m   (...)\u001b[0m\n\u001b[1;32m   1163\u001b[0m         \u001b[39mself\u001b[39m\u001b[39m.\u001b[39m__exhaust,\n\u001b[1;32m   1164\u001b[0m     )\n\u001b[0;32m-> 1165\u001b[0m     \u001b[39mself\u001b[39;49m\u001b[39m.\u001b[39;49m__send_message(q)\n\u001b[1;32m   1166\u001b[0m \u001b[39melif\u001b[39;00m \u001b[39mself\u001b[39m\u001b[39m.\u001b[39m__id:  \u001b[39m# Get More\u001b[39;00m\n\u001b[1;32m   1167\u001b[0m     \u001b[39mif\u001b[39;00m \u001b[39mself\u001b[39m\u001b[39m.\u001b[39m__limit:\n",
      "File \u001b[0;32m/opt/anaconda3/envs/DistDataSys/lib/python3.10/site-packages/pymongo/cursor.py:1052\u001b[0m, in \u001b[0;36mCursor.__send_message\u001b[0;34m(self, operation)\u001b[0m\n\u001b[1;32m   1049\u001b[0m     \u001b[39mraise\u001b[39;00m InvalidOperation(\u001b[39m\"\u001b[39m\u001b[39mexhaust cursors do not support auto encryption\u001b[39m\u001b[39m\"\u001b[39m)\n\u001b[1;32m   1051\u001b[0m \u001b[39mtry\u001b[39;00m:\n\u001b[0;32m-> 1052\u001b[0m     response \u001b[39m=\u001b[39m client\u001b[39m.\u001b[39;49m_run_operation(\n\u001b[1;32m   1053\u001b[0m         operation, \u001b[39mself\u001b[39;49m\u001b[39m.\u001b[39;49m_unpack_response, address\u001b[39m=\u001b[39;49m\u001b[39mself\u001b[39;49m\u001b[39m.\u001b[39;49m__address\n\u001b[1;32m   1054\u001b[0m     )\n\u001b[1;32m   1055\u001b[0m \u001b[39mexcept\u001b[39;00m OperationFailure \u001b[39mas\u001b[39;00m exc:\n\u001b[1;32m   1056\u001b[0m     \u001b[39mif\u001b[39;00m exc\u001b[39m.\u001b[39mcode \u001b[39min\u001b[39;00m _CURSOR_CLOSED_ERRORS \u001b[39mor\u001b[39;00m \u001b[39mself\u001b[39m\u001b[39m.\u001b[39m__exhaust:\n\u001b[1;32m   1057\u001b[0m         \u001b[39m# Don't send killCursors because the cursor is already closed.\u001b[39;00m\n",
      "File \u001b[0;32m/opt/anaconda3/envs/DistDataSys/lib/python3.10/site-packages/pymongo/_csot.py:105\u001b[0m, in \u001b[0;36mapply.<locals>.csot_wrapper\u001b[0;34m(self, *args, **kwargs)\u001b[0m\n\u001b[1;32m    103\u001b[0m         \u001b[39mwith\u001b[39;00m _TimeoutContext(timeout):\n\u001b[1;32m    104\u001b[0m             \u001b[39mreturn\u001b[39;00m func(\u001b[39mself\u001b[39m, \u001b[39m*\u001b[39margs, \u001b[39m*\u001b[39m\u001b[39m*\u001b[39mkwargs)\n\u001b[0;32m--> 105\u001b[0m \u001b[39mreturn\u001b[39;00m func(\u001b[39mself\u001b[39;49m, \u001b[39m*\u001b[39;49margs, \u001b[39m*\u001b[39;49m\u001b[39m*\u001b[39;49mkwargs)\n",
      "File \u001b[0;32m/opt/anaconda3/envs/DistDataSys/lib/python3.10/site-packages/pymongo/mongo_client.py:1330\u001b[0m, in \u001b[0;36mMongoClient._run_operation\u001b[0;34m(self, operation, unpack_res, address)\u001b[0m\n\u001b[1;32m   1325\u001b[0m     operation\u001b[39m.\u001b[39mreset()  \u001b[39m# Reset op in case of retry.\u001b[39;00m\n\u001b[1;32m   1326\u001b[0m     \u001b[39mreturn\u001b[39;00m server\u001b[39m.\u001b[39mrun_operation(\n\u001b[1;32m   1327\u001b[0m         sock_info, operation, read_preference, \u001b[39mself\u001b[39m\u001b[39m.\u001b[39m_event_listeners, unpack_res\n\u001b[1;32m   1328\u001b[0m     )\n\u001b[0;32m-> 1330\u001b[0m \u001b[39mreturn\u001b[39;00m \u001b[39mself\u001b[39;49m\u001b[39m.\u001b[39;49m_retryable_read(\n\u001b[1;32m   1331\u001b[0m     _cmd,\n\u001b[1;32m   1332\u001b[0m     operation\u001b[39m.\u001b[39;49mread_preference,\n\u001b[1;32m   1333\u001b[0m     operation\u001b[39m.\u001b[39;49msession,\n\u001b[1;32m   1334\u001b[0m     address\u001b[39m=\u001b[39;49maddress,\n\u001b[1;32m   1335\u001b[0m     retryable\u001b[39m=\u001b[39;49m\u001b[39misinstance\u001b[39;49m(operation, message\u001b[39m.\u001b[39;49m_Query),\n\u001b[1;32m   1336\u001b[0m )\n",
      "File \u001b[0;32m/opt/anaconda3/envs/DistDataSys/lib/python3.10/site-packages/pymongo/_csot.py:105\u001b[0m, in \u001b[0;36mapply.<locals>.csot_wrapper\u001b[0;34m(self, *args, **kwargs)\u001b[0m\n\u001b[1;32m    103\u001b[0m         \u001b[39mwith\u001b[39;00m _TimeoutContext(timeout):\n\u001b[1;32m    104\u001b[0m             \u001b[39mreturn\u001b[39;00m func(\u001b[39mself\u001b[39m, \u001b[39m*\u001b[39margs, \u001b[39m*\u001b[39m\u001b[39m*\u001b[39mkwargs)\n\u001b[0;32m--> 105\u001b[0m \u001b[39mreturn\u001b[39;00m func(\u001b[39mself\u001b[39;49m, \u001b[39m*\u001b[39;49margs, \u001b[39m*\u001b[39;49m\u001b[39m*\u001b[39;49mkwargs)\n",
      "File \u001b[0;32m/opt/anaconda3/envs/DistDataSys/lib/python3.10/site-packages/pymongo/mongo_client.py:1448\u001b[0m, in \u001b[0;36mMongoClient._retryable_read\u001b[0;34m(self, func, read_pref, session, address, retryable)\u001b[0m\n\u001b[1;32m   1446\u001b[0m             \u001b[39massert\u001b[39;00m last_error \u001b[39mis\u001b[39;00m \u001b[39mnot\u001b[39;00m \u001b[39mNone\u001b[39;00m\n\u001b[1;32m   1447\u001b[0m             \u001b[39mraise\u001b[39;00m last_error\n\u001b[0;32m-> 1448\u001b[0m         \u001b[39mreturn\u001b[39;00m func(session, server, sock_info, read_pref)\n\u001b[1;32m   1449\u001b[0m \u001b[39mexcept\u001b[39;00m ServerSelectionTimeoutError:\n\u001b[1;32m   1450\u001b[0m     \u001b[39mif\u001b[39;00m retrying:\n\u001b[1;32m   1451\u001b[0m         \u001b[39m# The application may think the write was never attempted\u001b[39;00m\n\u001b[1;32m   1452\u001b[0m         \u001b[39m# if we raise ServerSelectionTimeoutError on the retry\u001b[39;00m\n\u001b[1;32m   1453\u001b[0m         \u001b[39m# attempt. Raise the original exception instead.\u001b[39;00m\n",
      "File \u001b[0;32m/opt/anaconda3/envs/DistDataSys/lib/python3.10/site-packages/pymongo/mongo_client.py:1326\u001b[0m, in \u001b[0;36mMongoClient._run_operation.<locals>._cmd\u001b[0;34m(session, server, sock_info, read_preference)\u001b[0m\n\u001b[1;32m   1324\u001b[0m \u001b[39mdef\u001b[39;00m \u001b[39m_cmd\u001b[39m(session, server, sock_info, read_preference):\n\u001b[1;32m   1325\u001b[0m     operation\u001b[39m.\u001b[39mreset()  \u001b[39m# Reset op in case of retry.\u001b[39;00m\n\u001b[0;32m-> 1326\u001b[0m     \u001b[39mreturn\u001b[39;00m server\u001b[39m.\u001b[39;49mrun_operation(\n\u001b[1;32m   1327\u001b[0m         sock_info, operation, read_preference, \u001b[39mself\u001b[39;49m\u001b[39m.\u001b[39;49m_event_listeners, unpack_res\n\u001b[1;32m   1328\u001b[0m     )\n",
      "File \u001b[0;32m/opt/anaconda3/envs/DistDataSys/lib/python3.10/site-packages/pymongo/server.py:115\u001b[0m, in \u001b[0;36mServer.run_operation\u001b[0;34m(self, sock_info, operation, read_preference, listeners, unpack_res)\u001b[0m\n\u001b[1;32m    113\u001b[0m \u001b[39melse\u001b[39;00m:\n\u001b[1;32m    114\u001b[0m     sock_info\u001b[39m.\u001b[39msend_message(data, max_doc_size)\n\u001b[0;32m--> 115\u001b[0m     reply \u001b[39m=\u001b[39m sock_info\u001b[39m.\u001b[39;49mreceive_message(request_id)\n\u001b[1;32m    117\u001b[0m \u001b[39m# Unpack and check for command errors.\u001b[39;00m\n\u001b[1;32m    118\u001b[0m \u001b[39mif\u001b[39;00m use_cmd:\n",
      "File \u001b[0;32m/opt/anaconda3/envs/DistDataSys/lib/python3.10/site-packages/pymongo/pool.py:821\u001b[0m, in \u001b[0;36mSocketInfo.receive_message\u001b[0;34m(self, request_id)\u001b[0m\n\u001b[1;32m    819\u001b[0m     \u001b[39mreturn\u001b[39;00m receive_message(\u001b[39mself\u001b[39m, request_id, \u001b[39mself\u001b[39m\u001b[39m.\u001b[39mmax_message_size)\n\u001b[1;32m    820\u001b[0m \u001b[39mexcept\u001b[39;00m \u001b[39mBaseException\u001b[39;00m \u001b[39mas\u001b[39;00m error:\n\u001b[0;32m--> 821\u001b[0m     \u001b[39mself\u001b[39;49m\u001b[39m.\u001b[39;49m_raise_connection_failure(error)\n",
      "File \u001b[0;32m/opt/anaconda3/envs/DistDataSys/lib/python3.10/site-packages/pymongo/pool.py:819\u001b[0m, in \u001b[0;36mSocketInfo.receive_message\u001b[0;34m(self, request_id)\u001b[0m\n\u001b[1;32m    814\u001b[0m \u001b[39m\u001b[39m\u001b[39m\"\"\"Receive a raw BSON message or raise ConnectionFailure.\u001b[39;00m\n\u001b[1;32m    815\u001b[0m \n\u001b[1;32m    816\u001b[0m \u001b[39mIf any exception is raised, the socket is closed.\u001b[39;00m\n\u001b[1;32m    817\u001b[0m \u001b[39m\"\"\"\u001b[39;00m\n\u001b[1;32m    818\u001b[0m \u001b[39mtry\u001b[39;00m:\n\u001b[0;32m--> 819\u001b[0m     \u001b[39mreturn\u001b[39;00m receive_message(\u001b[39mself\u001b[39;49m, request_id, \u001b[39mself\u001b[39;49m\u001b[39m.\u001b[39;49mmax_message_size)\n\u001b[1;32m    820\u001b[0m \u001b[39mexcept\u001b[39;00m \u001b[39mBaseException\u001b[39;00m \u001b[39mas\u001b[39;00m error:\n\u001b[1;32m    821\u001b[0m     \u001b[39mself\u001b[39m\u001b[39m.\u001b[39m_raise_connection_failure(error)\n",
      "File \u001b[0;32m/opt/anaconda3/envs/DistDataSys/lib/python3.10/site-packages/pymongo/network.py:217\u001b[0m, in \u001b[0;36mreceive_message\u001b[0;34m(sock_info, request_id, max_message_size)\u001b[0m\n\u001b[1;32m    214\u001b[0m         deadline \u001b[39m=\u001b[39m \u001b[39mNone\u001b[39;00m\n\u001b[1;32m    215\u001b[0m \u001b[39m# Ignore the response's request id.\u001b[39;00m\n\u001b[1;32m    216\u001b[0m length, _, response_to, op_code \u001b[39m=\u001b[39m _UNPACK_HEADER(\n\u001b[0;32m--> 217\u001b[0m     _receive_data_on_socket(sock_info, \u001b[39m16\u001b[39;49m, deadline)\n\u001b[1;32m    218\u001b[0m )\n\u001b[1;32m    219\u001b[0m \u001b[39m# No request_id for exhaust cursor \"getMore\".\u001b[39;00m\n\u001b[1;32m    220\u001b[0m \u001b[39mif\u001b[39;00m request_id \u001b[39mis\u001b[39;00m \u001b[39mnot\u001b[39;00m \u001b[39mNone\u001b[39;00m:\n",
      "File \u001b[0;32m/opt/anaconda3/envs/DistDataSys/lib/python3.10/site-packages/pymongo/network.py:299\u001b[0m, in \u001b[0;36m_receive_data_on_socket\u001b[0;34m(sock_info, length, deadline)\u001b[0m\n\u001b[1;32m    297\u001b[0m     \u001b[39mif\u001b[39;00m _csot\u001b[39m.\u001b[39mget_timeout():\n\u001b[1;32m    298\u001b[0m         sock_info\u001b[39m.\u001b[39mset_socket_timeout(\u001b[39mmax\u001b[39m(deadline \u001b[39m-\u001b[39m time\u001b[39m.\u001b[39mmonotonic(), \u001b[39m0\u001b[39m))\n\u001b[0;32m--> 299\u001b[0m     chunk_length \u001b[39m=\u001b[39m sock_info\u001b[39m.\u001b[39;49msock\u001b[39m.\u001b[39;49mrecv_into(mv[bytes_read:])\n\u001b[1;32m    300\u001b[0m \u001b[39mexcept\u001b[39;00m BLOCKING_IO_ERRORS:\n\u001b[1;32m    301\u001b[0m     \u001b[39mraise\u001b[39;00m socket\u001b[39m.\u001b[39mtimeout(\u001b[39m\"\u001b[39m\u001b[39mtimed out\u001b[39m\u001b[39m\"\u001b[39m)\n",
      "File \u001b[0;32m/opt/anaconda3/envs/DistDataSys/lib/python3.10/ssl.py:1273\u001b[0m, in \u001b[0;36mSSLSocket.recv_into\u001b[0;34m(self, buffer, nbytes, flags)\u001b[0m\n\u001b[1;32m   1269\u001b[0m     \u001b[39mif\u001b[39;00m flags \u001b[39m!=\u001b[39m \u001b[39m0\u001b[39m:\n\u001b[1;32m   1270\u001b[0m         \u001b[39mraise\u001b[39;00m \u001b[39mValueError\u001b[39;00m(\n\u001b[1;32m   1271\u001b[0m           \u001b[39m\"\u001b[39m\u001b[39mnon-zero flags not allowed in calls to recv_into() on \u001b[39m\u001b[39m%s\u001b[39;00m\u001b[39m\"\u001b[39m \u001b[39m%\u001b[39m\n\u001b[1;32m   1272\u001b[0m           \u001b[39mself\u001b[39m\u001b[39m.\u001b[39m\u001b[39m__class__\u001b[39m)\n\u001b[0;32m-> 1273\u001b[0m     \u001b[39mreturn\u001b[39;00m \u001b[39mself\u001b[39;49m\u001b[39m.\u001b[39;49mread(nbytes, buffer)\n\u001b[1;32m   1274\u001b[0m \u001b[39melse\u001b[39;00m:\n\u001b[1;32m   1275\u001b[0m     \u001b[39mreturn\u001b[39;00m \u001b[39msuper\u001b[39m()\u001b[39m.\u001b[39mrecv_into(buffer, nbytes, flags)\n",
      "File \u001b[0;32m/opt/anaconda3/envs/DistDataSys/lib/python3.10/ssl.py:1129\u001b[0m, in \u001b[0;36mSSLSocket.read\u001b[0;34m(self, len, buffer)\u001b[0m\n\u001b[1;32m   1127\u001b[0m \u001b[39mtry\u001b[39;00m:\n\u001b[1;32m   1128\u001b[0m     \u001b[39mif\u001b[39;00m buffer \u001b[39mis\u001b[39;00m \u001b[39mnot\u001b[39;00m \u001b[39mNone\u001b[39;00m:\n\u001b[0;32m-> 1129\u001b[0m         \u001b[39mreturn\u001b[39;00m \u001b[39mself\u001b[39;49m\u001b[39m.\u001b[39;49m_sslobj\u001b[39m.\u001b[39;49mread(\u001b[39mlen\u001b[39;49m, buffer)\n\u001b[1;32m   1130\u001b[0m     \u001b[39melse\u001b[39;00m:\n\u001b[1;32m   1131\u001b[0m         \u001b[39mreturn\u001b[39;00m \u001b[39mself\u001b[39m\u001b[39m.\u001b[39m_sslobj\u001b[39m.\u001b[39mread(\u001b[39mlen\u001b[39m)\n",
      "\u001b[0;31mKeyboardInterrupt\u001b[0m: "
     ]
    }
   ],
   "source": [
    "results = defaultdict(set)\n",
    "\n",
    "counter = 0\n",
    "for loc, date in itertools.product(locations[:10], dates):\n",
    "    lat = loc[0]\n",
    "    lon = loc[1]\n",
    "    key = f\"{lat}_{lon}_{date}\"\n",
    "    num_doc = len(list(mongo.collection.find({\"_id\": key}).limit(1)))\n",
    "    if num_doc == 0:\n",
    "        results[f\"{lat}_{lon}\"].add(date)\n",
    "    if counter % 1000 == 0:\n",
    "        save_pickle(results, '../data_analysis.pickle')\n",
    "    counter += 1"
   ]
  },
  {
   "cell_type": "code",
   "execution_count": 112,
   "metadata": {},
   "outputs": [
    {
     "data": {
      "text/plain": [
       "defaultdict(set,\n",
       "            {'34.114_-118.407': {'2022-03-13_02:00:00',\n",
       "              '2022-11-06_02:00:00',\n",
       "              '2022-11-06_03:00:00',\n",
       "              '2022-11-06_04:00:00',\n",
       "              '2022-11-06_05:00:00',\n",
       "              '2022-11-06_06:00:00',\n",
       "              '2022-11-06_07:00:00',\n",
       "              '2022-11-06_08:00:00',\n",
       "              '2022-11-06_09:00:00',\n",
       "              '2022-11-06_10:00:00',\n",
       "              '2022-11-06_11:00:00',\n",
       "              '2022-11-06_12:00:00',\n",
       "              '2022-11-06_13:00:00',\n",
       "              '2022-11-06_14:00:00',\n",
       "              '2022-11-06_15:00:00',\n",
       "              '2022-11-06_16:00:00',\n",
       "              '2022-11-06_17:00:00',\n",
       "              '2022-11-06_18:00:00',\n",
       "              '2022-11-06_19:00:00',\n",
       "              '2022-11-06_20:00:00',\n",
       "              '2022-11-06_21:00:00',\n",
       "              '2022-11-06_22:00:00',\n",
       "              '2022-11-06_23:00:00',\n",
       "              '2022-11-07_00:00:00',\n",
       "              '2022-11-07_01:00:00',\n",
       "              '2022-11-07_02:00:00',\n",
       "              '2022-11-07_03:00:00',\n",
       "              '2022-11-07_04:00:00',\n",
       "              '2022-11-07_05:00:00',\n",
       "              '2022-11-07_06:00:00',\n",
       "              '2022-11-07_07:00:00',\n",
       "              '2022-11-07_08:00:00',\n",
       "              '2022-11-07_09:00:00',\n",
       "              '2022-11-07_10:00:00',\n",
       "              '2022-11-07_11:00:00',\n",
       "              '2022-11-07_12:00:00',\n",
       "              '2022-11-07_13:00:00',\n",
       "              '2022-11-07_14:00:00',\n",
       "              '2022-11-07_15:00:00',\n",
       "              '2022-11-07_16:00:00',\n",
       "              '2022-11-07_17:00:00',\n",
       "              '2022-11-07_18:00:00',\n",
       "              '2022-11-07_19:00:00',\n",
       "              '2022-11-07_20:00:00',\n",
       "              '2022-11-07_21:00:00',\n",
       "              '2022-11-07_22:00:00',\n",
       "              '2022-11-07_23:00:00',\n",
       "              '2022-11-08_00:00:00',\n",
       "              '2022-11-08_01:00:00',\n",
       "              '2022-11-08_02:00:00',\n",
       "              '2022-11-08_03:00:00',\n",
       "              '2022-11-08_04:00:00',\n",
       "              '2022-11-08_05:00:00',\n",
       "              '2022-11-08_06:00:00',\n",
       "              '2022-11-08_07:00:00',\n",
       "              '2022-11-08_08:00:00',\n",
       "              '2022-11-08_09:00:00',\n",
       "              '2022-11-08_10:00:00',\n",
       "              '2022-11-08_11:00:00',\n",
       "              '2022-11-08_12:00:00',\n",
       "              '2022-11-08_13:00:00',\n",
       "              '2022-11-08_14:00:00',\n",
       "              '2022-11-08_15:00:00',\n",
       "              '2022-11-08_16:00:00',\n",
       "              '2022-11-08_17:00:00',\n",
       "              '2022-11-08_18:00:00',\n",
       "              '2022-11-08_19:00:00',\n",
       "              '2022-11-08_20:00:00',\n",
       "              '2022-11-08_21:00:00',\n",
       "              '2022-11-08_22:00:00',\n",
       "              '2022-11-08_23:00:00',\n",
       "              '2022-11-09_00:00:00',\n",
       "              '2022-11-09_01:00:00',\n",
       "              '2022-11-09_02:00:00',\n",
       "              '2022-11-09_03:00:00',\n",
       "              '2022-11-09_04:00:00',\n",
       "              '2022-11-09_05:00:00',\n",
       "              '2022-11-09_06:00:00',\n",
       "              '2022-11-09_07:00:00',\n",
       "              '2022-11-09_08:00:00',\n",
       "              '2022-11-09_09:00:00',\n",
       "              '2022-11-09_10:00:00',\n",
       "              '2022-11-09_11:00:00',\n",
       "              '2022-11-09_12:00:00',\n",
       "              '2022-11-09_13:00:00',\n",
       "              '2022-11-09_14:00:00',\n",
       "              '2022-11-09_15:00:00',\n",
       "              '2022-11-09_16:00:00',\n",
       "              '2022-11-09_17:00:00',\n",
       "              '2022-11-09_18:00:00',\n",
       "              '2022-11-09_19:00:00',\n",
       "              '2022-11-09_20:00:00',\n",
       "              '2022-11-09_21:00:00',\n",
       "              '2022-11-09_22:00:00',\n",
       "              '2022-11-09_23:00:00',\n",
       "              '2022-11-10_00:00:00',\n",
       "              '2022-11-10_01:00:00',\n",
       "              '2022-11-10_02:00:00',\n",
       "              '2022-11-10_03:00:00',\n",
       "              '2022-11-10_04:00:00',\n",
       "              '2022-11-10_05:00:00',\n",
       "              '2022-11-10_06:00:00',\n",
       "              '2022-11-10_07:00:00',\n",
       "              '2022-11-10_08:00:00',\n",
       "              '2022-11-10_09:00:00',\n",
       "              '2022-11-10_10:00:00',\n",
       "              '2022-11-10_11:00:00',\n",
       "              '2022-11-10_12:00:00',\n",
       "              '2022-11-10_13:00:00',\n",
       "              '2022-11-10_14:00:00',\n",
       "              '2022-11-10_15:00:00',\n",
       "              '2022-11-10_16:00:00',\n",
       "              '2022-11-10_17:00:00',\n",
       "              '2022-11-10_18:00:00',\n",
       "              '2022-11-10_19:00:00',\n",
       "              '2022-11-10_20:00:00',\n",
       "              '2022-11-10_21:00:00',\n",
       "              '2022-11-10_22:00:00',\n",
       "              '2022-11-10_23:00:00',\n",
       "              '2022-11-11_00:00:00',\n",
       "              '2022-11-11_01:00:00',\n",
       "              '2022-11-11_02:00:00',\n",
       "              '2022-11-11_03:00:00',\n",
       "              '2022-11-11_04:00:00',\n",
       "              '2022-11-11_05:00:00',\n",
       "              '2022-11-11_06:00:00',\n",
       "              '2022-11-11_07:00:00',\n",
       "              '2022-11-11_08:00:00',\n",
       "              '2022-11-11_09:00:00',\n",
       "              '2022-11-11_10:00:00',\n",
       "              '2022-11-11_11:00:00',\n",
       "              '2022-11-11_12:00:00',\n",
       "              '2022-11-11_13:00:00',\n",
       "              '2022-11-11_14:00:00',\n",
       "              '2022-11-11_15:00:00',\n",
       "              '2022-11-11_16:00:00',\n",
       "              '2022-11-11_17:00:00',\n",
       "              '2022-11-11_18:00:00',\n",
       "              '2022-11-11_19:00:00',\n",
       "              '2022-11-11_20:00:00',\n",
       "              '2022-11-11_21:00:00',\n",
       "              '2022-11-11_22:00:00',\n",
       "              '2022-11-11_23:00:00',\n",
       "              '2022-11-12_00:00:00',\n",
       "              '2022-11-12_01:00:00',\n",
       "              '2022-11-12_02:00:00',\n",
       "              '2022-11-12_03:00:00',\n",
       "              '2022-11-12_04:00:00',\n",
       "              '2022-11-12_05:00:00',\n",
       "              '2022-11-12_06:00:00',\n",
       "              '2022-11-12_07:00:00',\n",
       "              '2022-11-12_08:00:00',\n",
       "              '2022-11-12_09:00:00',\n",
       "              '2022-11-12_10:00:00',\n",
       "              '2022-11-12_11:00:00',\n",
       "              '2022-11-12_12:00:00',\n",
       "              '2022-11-12_13:00:00',\n",
       "              '2022-11-12_14:00:00',\n",
       "              '2022-11-12_15:00:00',\n",
       "              '2022-11-12_16:00:00',\n",
       "              '2022-11-12_17:00:00',\n",
       "              '2022-11-12_18:00:00',\n",
       "              '2022-11-12_19:00:00',\n",
       "              '2022-11-12_20:00:00',\n",
       "              '2022-11-12_21:00:00',\n",
       "              '2022-11-12_22:00:00',\n",
       "              '2022-11-12_23:00:00',\n",
       "              '2022-11-13_00:00:00',\n",
       "              '2022-11-13_01:00:00',\n",
       "              '2022-11-13_02:00:00',\n",
       "              '2022-11-13_03:00:00',\n",
       "              '2022-11-13_04:00:00',\n",
       "              '2022-11-13_05:00:00',\n",
       "              '2022-11-13_06:00:00',\n",
       "              '2022-11-13_07:00:00',\n",
       "              '2022-11-13_08:00:00',\n",
       "              '2022-11-13_09:00:00',\n",
       "              '2022-11-13_10:00:00',\n",
       "              '2022-11-13_11:00:00',\n",
       "              '2022-11-13_12:00:00',\n",
       "              '2022-11-13_13:00:00',\n",
       "              '2022-11-13_14:00:00',\n",
       "              '2022-11-13_15:00:00',\n",
       "              '2022-11-13_16:00:00',\n",
       "              '2022-11-13_17:00:00',\n",
       "              '2022-11-13_18:00:00',\n",
       "              '2022-11-13_19:00:00',\n",
       "              '2022-11-13_20:00:00',\n",
       "              '2022-11-13_21:00:00',\n",
       "              '2022-11-13_22:00:00',\n",
       "              '2022-11-13_23:00:00',\n",
       "              '2022-11-14_00:00:00',\n",
       "              '2022-11-14_01:00:00',\n",
       "              '2022-11-14_02:00:00',\n",
       "              '2022-11-14_03:00:00',\n",
       "              '2022-11-14_04:00:00',\n",
       "              '2022-11-14_05:00:00',\n",
       "              '2022-11-14_06:00:00',\n",
       "              '2022-11-14_07:00:00',\n",
       "              '2022-11-14_08:00:00',\n",
       "              '2022-11-14_09:00:00',\n",
       "              '2022-11-14_10:00:00',\n",
       "              '2022-11-14_11:00:00',\n",
       "              '2022-11-14_12:00:00',\n",
       "              '2022-11-14_13:00:00',\n",
       "              '2022-11-14_14:00:00',\n",
       "              '2022-11-14_15:00:00',\n",
       "              '2022-11-14_16:00:00',\n",
       "              '2022-11-14_17:00:00',\n",
       "              '2022-11-14_18:00:00',\n",
       "              '2022-11-14_19:00:00',\n",
       "              '2022-11-14_20:00:00',\n",
       "              '2022-11-14_21:00:00',\n",
       "              '2022-11-14_22:00:00',\n",
       "              '2022-11-14_23:00:00',\n",
       "              '2022-11-15_00:00:00',\n",
       "              '2022-11-15_01:00:00',\n",
       "              '2022-11-15_02:00:00',\n",
       "              '2022-11-15_03:00:00',\n",
       "              '2022-11-15_04:00:00',\n",
       "              '2022-11-15_05:00:00',\n",
       "              '2022-11-15_06:00:00',\n",
       "              '2022-11-15_07:00:00',\n",
       "              '2022-11-15_08:00:00',\n",
       "              '2022-11-15_09:00:00',\n",
       "              '2022-11-15_10:00:00',\n",
       "              '2022-11-15_11:00:00',\n",
       "              '2022-11-15_12:00:00',\n",
       "              '2022-11-15_13:00:00',\n",
       "              '2022-11-15_14:00:00',\n",
       "              '2022-11-15_15:00:00',\n",
       "              '2022-11-15_16:00:00',\n",
       "              '2022-11-15_17:00:00',\n",
       "              '2022-11-15_18:00:00',\n",
       "              '2022-11-15_19:00:00',\n",
       "              '2022-11-15_20:00:00',\n",
       "              '2022-11-15_21:00:00',\n",
       "              '2022-11-15_22:00:00',\n",
       "              '2022-11-15_23:00:00',\n",
       "              '2022-11-16_00:00:00',\n",
       "              '2022-11-16_01:00:00',\n",
       "              '2022-11-16_02:00:00',\n",
       "              '2022-11-16_03:00:00',\n",
       "              '2022-11-16_04:00:00',\n",
       "              '2022-11-16_05:00:00',\n",
       "              '2022-11-16_06:00:00',\n",
       "              '2022-11-16_07:00:00',\n",
       "              '2022-11-16_08:00:00',\n",
       "              '2022-11-16_09:00:00',\n",
       "              '2022-11-16_10:00:00',\n",
       "              '2022-11-16_11:00:00',\n",
       "              '2022-11-16_12:00:00',\n",
       "              '2022-11-16_13:00:00',\n",
       "              '2022-11-16_14:00:00',\n",
       "              '2022-11-16_15:00:00',\n",
       "              '2022-11-16_16:00:00',\n",
       "              '2022-11-16_17:00:00',\n",
       "              '2022-11-16_18:00:00',\n",
       "              '2022-11-16_19:00:00',\n",
       "              '2022-11-16_20:00:00',\n",
       "              '2022-11-16_21:00:00',\n",
       "              '2022-11-16_22:00:00',\n",
       "              '2022-11-16_23:00:00',\n",
       "              '2022-11-17_00:00:00',\n",
       "              '2022-11-17_01:00:00',\n",
       "              '2022-11-17_02:00:00',\n",
       "              '2022-11-17_03:00:00',\n",
       "              '2022-11-17_04:00:00',\n",
       "              '2022-11-17_05:00:00',\n",
       "              '2022-11-17_06:00:00',\n",
       "              '2022-11-17_07:00:00',\n",
       "              '2022-11-17_08:00:00',\n",
       "              '2022-11-17_09:00:00',\n",
       "              '2022-11-17_10:00:00',\n",
       "              '2022-11-17_11:00:00',\n",
       "              '2022-11-17_12:00:00',\n",
       "              '2022-11-17_13:00:00',\n",
       "              '2022-11-17_14:00:00',\n",
       "              '2022-11-17_15:00:00',\n",
       "              '2022-11-17_16:00:00',\n",
       "              '2022-11-17_17:00:00',\n",
       "              '2022-11-17_18:00:00',\n",
       "              '2022-11-17_19:00:00',\n",
       "              '2022-11-17_20:00:00',\n",
       "              '2022-11-17_21:00:00',\n",
       "              '2022-11-17_22:00:00',\n",
       "              '2022-11-17_23:00:00',\n",
       "              '2022-11-18_00:00:00',\n",
       "              '2022-11-18_01:00:00',\n",
       "              '2022-11-18_02:00:00',\n",
       "              '2022-11-18_03:00:00',\n",
       "              '2022-11-18_04:00:00',\n",
       "              '2022-11-18_05:00:00',\n",
       "              '2022-11-18_06:00:00',\n",
       "              '2022-11-18_07:00:00',\n",
       "              '2022-11-18_08:00:00',\n",
       "              '2022-11-18_09:00:00',\n",
       "              '2022-11-18_10:00:00',\n",
       "              '2022-11-18_11:00:00',\n",
       "              '2022-11-18_12:00:00',\n",
       "              '2022-11-18_13:00:00',\n",
       "              '2022-11-18_14:00:00',\n",
       "              '2022-11-18_15:00:00',\n",
       "              '2022-11-18_16:00:00',\n",
       "              '2022-11-18_17:00:00',\n",
       "              '2022-11-18_18:00:00',\n",
       "              '2022-11-18_19:00:00',\n",
       "              '2022-11-18_20:00:00',\n",
       "              '2022-11-18_21:00:00',\n",
       "              '2022-11-18_22:00:00',\n",
       "              '2022-11-18_23:00:00',\n",
       "              '2022-11-19_00:00:00',\n",
       "              '2022-11-19_01:00:00',\n",
       "              '2022-11-19_02:00:00',\n",
       "              '2022-11-19_03:00:00',\n",
       "              '2022-11-19_04:00:00',\n",
       "              '2022-11-19_05:00:00',\n",
       "              '2022-11-19_06:00:00',\n",
       "              '2022-11-19_07:00:00',\n",
       "              '2022-11-19_08:00:00',\n",
       "              '2022-11-19_09:00:00',\n",
       "              '2022-11-19_10:00:00',\n",
       "              '2022-11-19_11:00:00',\n",
       "              '2022-11-19_12:00:00',\n",
       "              '2022-11-19_13:00:00',\n",
       "              '2022-11-19_14:00:00',\n",
       "              '2022-11-19_15:00:00',\n",
       "              '2022-11-19_16:00:00',\n",
       "              '2022-11-19_17:00:00',\n",
       "              '2022-11-19_18:00:00',\n",
       "              '2022-11-19_19:00:00',\n",
       "              '2022-11-19_20:00:00',\n",
       "              '2022-11-19_21:00:00',\n",
       "              '2022-11-19_22:00:00',\n",
       "              '2022-11-19_23:00:00',\n",
       "              '2022-11-20_00:00:00',\n",
       "              '2022-11-20_01:00:00',\n",
       "              '2022-11-20_02:00:00',\n",
       "              '2022-11-20_03:00:00',\n",
       "              '2022-11-20_04:00:00',\n",
       "              '2022-11-20_05:00:00',\n",
       "              '2022-11-20_06:00:00',\n",
       "              '2022-11-20_07:00:00',\n",
       "              '2022-11-20_08:00:00',\n",
       "              '2022-11-20_09:00:00',\n",
       "              '2022-11-20_10:00:00',\n",
       "              '2022-11-20_11:00:00',\n",
       "              '2022-11-20_12:00:00',\n",
       "              '2022-11-20_13:00:00',\n",
       "              '2022-11-20_14:00:00',\n",
       "              '2022-11-20_15:00:00',\n",
       "              '2022-11-20_16:00:00',\n",
       "              '2022-11-20_17:00:00',\n",
       "              '2022-11-20_18:00:00',\n",
       "              '2022-11-20_19:00:00',\n",
       "              '2022-11-20_20:00:00',\n",
       "              '2022-11-20_21:00:00',\n",
       "              '2022-11-20_22:00:00',\n",
       "              '2022-11-20_23:00:00',\n",
       "              '2022-11-21_00:00:00',\n",
       "              '2022-11-21_01:00:00',\n",
       "              '2022-11-21_02:00:00',\n",
       "              '2022-11-21_03:00:00',\n",
       "              '2022-11-21_04:00:00',\n",
       "              '2022-11-21_05:00:00',\n",
       "              '2022-11-21_06:00:00',\n",
       "              '2022-11-21_07:00:00',\n",
       "              '2022-11-21_08:00:00',\n",
       "              '2022-11-21_09:00:00',\n",
       "              '2022-11-21_10:00:00',\n",
       "              '2022-11-21_11:00:00',\n",
       "              '2022-11-21_12:00:00',\n",
       "              '2022-11-21_13:00:00',\n",
       "              '2022-11-21_14:00:00',\n",
       "              '2022-11-21_15:00:00',\n",
       "              '2022-11-21_16:00:00',\n",
       "              '2022-11-21_17:00:00',\n",
       "              '2022-11-21_18:00:00',\n",
       "              '2022-11-21_19:00:00',\n",
       "              '2022-11-21_20:00:00',\n",
       "              '2022-11-21_21:00:00',\n",
       "              '2022-11-21_22:00:00',\n",
       "              '2022-11-21_23:00:00',\n",
       "              '2022-11-22_00:00:00',\n",
       "              '2022-11-22_01:00:00',\n",
       "              '2022-11-22_02:00:00',\n",
       "              '2022-11-22_03:00:00',\n",
       "              '2022-11-22_04:00:00',\n",
       "              '2022-11-22_05:00:00',\n",
       "              '2022-11-22_06:00:00',\n",
       "              '2022-11-22_07:00:00',\n",
       "              '2022-11-22_08:00:00',\n",
       "              '2022-11-22_09:00:00',\n",
       "              '2022-11-22_10:00:00',\n",
       "              '2022-11-22_11:00:00',\n",
       "              '2022-11-22_12:00:00',\n",
       "              '2022-11-22_13:00:00',\n",
       "              '2022-11-22_14:00:00',\n",
       "              '2022-11-22_15:00:00',\n",
       "              '2022-11-22_16:00:00',\n",
       "              '2022-11-22_17:00:00',\n",
       "              '2022-11-22_18:00:00',\n",
       "              '2022-11-22_19:00:00',\n",
       "              '2022-11-22_20:00:00',\n",
       "              '2022-11-22_21:00:00',\n",
       "              '2022-11-22_22:00:00',\n",
       "              '2022-11-22_23:00:00',\n",
       "              '2022-11-23_00:00:00',\n",
       "              '2022-11-23_01:00:00',\n",
       "              '2022-11-23_02:00:00',\n",
       "              '2022-11-23_03:00:00',\n",
       "              '2022-11-23_04:00:00',\n",
       "              '2022-11-23_05:00:00',\n",
       "              '2022-11-23_06:00:00',\n",
       "              '2022-11-23_07:00:00',\n",
       "              '2022-11-23_08:00:00',\n",
       "              '2022-11-23_09:00:00',\n",
       "              '2022-11-23_10:00:00',\n",
       "              '2022-11-23_11:00:00',\n",
       "              '2022-11-23_12:00:00',\n",
       "              '2022-11-23_13:00:00',\n",
       "              '2022-11-23_14:00:00',\n",
       "              '2022-11-23_15:00:00',\n",
       "              '2022-11-23_16:00:00',\n",
       "              '2022-11-23_17:00:00',\n",
       "              '2022-11-23_18:00:00',\n",
       "              '2022-11-23_19:00:00',\n",
       "              '2022-11-23_20:00:00',\n",
       "              '2022-11-23_21:00:00',\n",
       "              '2022-11-23_22:00:00',\n",
       "              '2022-11-23_23:00:00',\n",
       "              '2022-11-24_00:00:00',\n",
       "              '2022-11-24_01:00:00',\n",
       "              '2022-11-24_02:00:00',\n",
       "              '2022-11-24_03:00:00',\n",
       "              '2022-11-24_04:00:00',\n",
       "              '2022-11-24_05:00:00',\n",
       "              '2022-11-24_06:00:00',\n",
       "              '2022-11-24_07:00:00',\n",
       "              '2022-11-24_08:00:00',\n",
       "              '2022-11-24_09:00:00',\n",
       "              '2022-11-24_10:00:00',\n",
       "              '2022-11-24_11:00:00',\n",
       "              '2022-11-24_12:00:00',\n",
       "              '2022-11-24_13:00:00',\n",
       "              '2022-11-24_14:00:00',\n",
       "              '2022-11-24_15:00:00',\n",
       "              '2022-11-24_16:00:00',\n",
       "              '2022-11-24_17:00:00',\n",
       "              '2022-11-24_18:00:00',\n",
       "              '2022-11-24_19:00:00',\n",
       "              '2022-11-24_20:00:00',\n",
       "              '2022-11-24_21:00:00',\n",
       "              '2022-11-24_22:00:00',\n",
       "              '2022-11-24_23:00:00',\n",
       "              '2022-11-25_00:00:00',\n",
       "              '2022-11-25_01:00:00',\n",
       "              '2022-11-25_02:00:00',\n",
       "              '2022-11-25_03:00:00',\n",
       "              '2022-11-25_04:00:00',\n",
       "              '2022-11-25_05:00:00',\n",
       "              '2022-11-25_06:00:00',\n",
       "              '2022-11-25_07:00:00',\n",
       "              '2022-11-25_08:00:00',\n",
       "              '2022-11-25_09:00:00',\n",
       "              '2022-11-25_10:00:00',\n",
       "              '2022-11-25_11:00:00',\n",
       "              '2022-11-25_12:00:00',\n",
       "              '2022-11-25_13:00:00',\n",
       "              '2022-11-25_14:00:00',\n",
       "              '2022-11-25_15:00:00',\n",
       "              '2022-11-25_16:00:00',\n",
       "              '2022-11-25_17:00:00',\n",
       "              '2022-11-25_18:00:00',\n",
       "              '2022-11-25_19:00:00',\n",
       "              '2022-11-25_20:00:00',\n",
       "              '2022-11-25_21:00:00',\n",
       "              '2022-11-25_22:00:00',\n",
       "              '2022-11-25_23:00:00',\n",
       "              '2022-11-26_00:00:00',\n",
       "              '2022-11-26_01:00:00',\n",
       "              '2022-11-26_02:00:00',\n",
       "              '2022-11-26_03:00:00',\n",
       "              '2022-11-26_04:00:00',\n",
       "              '2022-11-26_05:00:00',\n",
       "              '2022-11-26_06:00:00',\n",
       "              '2022-11-26_07:00:00',\n",
       "              '2022-11-26_08:00:00',\n",
       "              '2022-11-26_09:00:00',\n",
       "              '2022-11-26_10:00:00',\n",
       "              '2022-11-26_11:00:00',\n",
       "              '2022-11-26_12:00:00',\n",
       "              '2022-11-26_13:00:00',\n",
       "              '2022-11-26_14:00:00',\n",
       "              '2022-11-26_15:00:00',\n",
       "              '2022-11-26_16:00:00',\n",
       "              '2022-11-26_17:00:00',\n",
       "              '2022-11-26_18:00:00',\n",
       "              '2022-11-26_19:00:00',\n",
       "              '2022-11-26_20:00:00',\n",
       "              '2022-11-26_21:00:00',\n",
       "              '2022-11-26_22:00:00',\n",
       "              '2022-11-26_23:00:00',\n",
       "              '2022-11-27_00:00:00',\n",
       "              '2022-11-27_01:00:00',\n",
       "              '2022-11-27_02:00:00',\n",
       "              '2022-11-27_03:00:00',\n",
       "              '2022-11-27_04:00:00',\n",
       "              '2022-11-27_05:00:00',\n",
       "              '2022-11-27_06:00:00',\n",
       "              '2022-11-27_07:00:00',\n",
       "              '2022-11-27_08:00:00',\n",
       "              '2022-11-27_09:00:00',\n",
       "              '2022-11-27_10:00:00',\n",
       "              '2022-11-27_11:00:00',\n",
       "              '2022-11-27_12:00:00',\n",
       "              '2022-11-27_13:00:00',\n",
       "              '2022-11-27_14:00:00',\n",
       "              '2022-11-27_15:00:00',\n",
       "              '2022-11-27_16:00:00',\n",
       "              '2022-11-27_17:00:00',\n",
       "              '2022-11-27_18:00:00',\n",
       "              '2022-11-27_19:00:00',\n",
       "              '2022-11-27_20:00:00',\n",
       "              '2022-11-27_21:00:00',\n",
       "              '2022-11-27_22:00:00',\n",
       "              '2022-11-27_23:00:00',\n",
       "              '2022-11-28_00:00:00',\n",
       "              '2022-11-28_01:00:00',\n",
       "              '2022-11-28_02:00:00',\n",
       "              '2022-11-28_03:00:00',\n",
       "              '2022-11-28_04:00:00',\n",
       "              '2022-11-28_05:00:00',\n",
       "              '2022-11-28_06:00:00',\n",
       "              '2022-11-28_07:00:00',\n",
       "              '2022-11-28_08:00:00',\n",
       "              '2022-11-28_09:00:00',\n",
       "              '2022-11-28_10:00:00',\n",
       "              '2022-11-28_11:00:00',\n",
       "              '2022-11-28_12:00:00',\n",
       "              '2022-11-28_13:00:00',\n",
       "              '2022-11-28_14:00:00',\n",
       "              '2022-11-28_15:00:00',\n",
       "              '2022-11-28_16:00:00',\n",
       "              '2022-11-28_17:00:00',\n",
       "              '2022-11-28_18:00:00',\n",
       "              '2022-11-28_19:00:00',\n",
       "              '2022-11-28_20:00:00',\n",
       "              '2022-11-28_21:00:00',\n",
       "              '2022-11-28_22:00:00',\n",
       "              '2022-11-28_23:00:00',\n",
       "              '2022-11-29_00:00:00',\n",
       "              '2022-11-29_01:00:00',\n",
       "              '2022-11-29_02:00:00',\n",
       "              '2022-11-29_03:00:00',\n",
       "              '2022-11-29_04:00:00',\n",
       "              '2022-11-29_05:00:00',\n",
       "              '2022-11-29_06:00:00',\n",
       "              '2022-11-29_07:00:00',\n",
       "              '2022-11-29_08:00:00',\n",
       "              '2022-11-29_09:00:00',\n",
       "              '2022-11-29_10:00:00',\n",
       "              '2022-11-29_11:00:00',\n",
       "              '2022-11-29_12:00:00',\n",
       "              '2022-11-29_13:00:00',\n",
       "              '2022-11-29_14:00:00',\n",
       "              '2022-11-29_15:00:00',\n",
       "              '2022-11-29_16:00:00',\n",
       "              '2022-11-29_17:00:00',\n",
       "              '2022-11-29_18:00:00',\n",
       "              '2022-11-29_19:00:00',\n",
       "              '2022-11-29_20:00:00',\n",
       "              '2022-11-29_21:00:00',\n",
       "              '2022-11-29_22:00:00',\n",
       "              '2022-11-29_23:00:00',\n",
       "              '2022-11-30_00:00:00',\n",
       "              '2022-11-30_01:00:00',\n",
       "              '2022-11-30_02:00:00',\n",
       "              '2022-11-30_03:00:00',\n",
       "              '2022-11-30_04:00:00',\n",
       "              '2022-11-30_05:00:00',\n",
       "              '2022-11-30_06:00:00',\n",
       "              '2022-11-30_07:00:00',\n",
       "              '2022-11-30_08:00:00',\n",
       "              '2022-11-30_09:00:00',\n",
       "              '2022-11-30_10:00:00',\n",
       "              '2022-11-30_11:00:00',\n",
       "              '2022-11-30_12:00:00',\n",
       "              '2022-11-30_13:00:00',\n",
       "              '2022-11-30_14:00:00',\n",
       "              '2022-11-30_15:00:00',\n",
       "              '2022-11-30_16:00:00',\n",
       "              '2022-11-30_17:00:00',\n",
       "              '2022-11-30_18:00:00',\n",
       "              '2022-11-30_19:00:00',\n",
       "              '2022-11-30_20:00:00',\n",
       "              '2022-11-30_21:00:00',\n",
       "              '2022-11-30_22:00:00',\n",
       "              '2022-11-30_23:00:00'},\n",
       "             '37.756_-122.443': {'2022-03-13_02:00:00',\n",
       "              '2022-11-06_02:00:00',\n",
       "              '2022-11-06_03:00:00',\n",
       "              '2022-11-06_04:00:00',\n",
       "              '2022-11-06_05:00:00',\n",
       "              '2022-11-06_06:00:00',\n",
       "              '2022-11-06_07:00:00',\n",
       "              '2022-11-06_08:00:00',\n",
       "              '2022-11-06_09:00:00',\n",
       "              '2022-11-06_10:00:00',\n",
       "              '2022-11-06_11:00:00',\n",
       "              '2022-11-06_12:00:00',\n",
       "              '2022-11-06_13:00:00',\n",
       "              '2022-11-06_14:00:00',\n",
       "              '2022-11-06_15:00:00',\n",
       "              '2022-11-06_16:00:00',\n",
       "              '2022-11-06_17:00:00',\n",
       "              '2022-11-06_18:00:00',\n",
       "              '2022-11-06_19:00:00',\n",
       "              '2022-11-06_20:00:00',\n",
       "              '2022-11-06_21:00:00',\n",
       "              '2022-11-06_22:00:00',\n",
       "              '2022-11-06_23:00:00',\n",
       "              '2022-11-07_00:00:00',\n",
       "              '2022-11-07_01:00:00',\n",
       "              '2022-11-07_02:00:00',\n",
       "              '2022-11-07_03:00:00',\n",
       "              '2022-11-07_04:00:00',\n",
       "              '2022-11-07_05:00:00',\n",
       "              '2022-11-07_06:00:00',\n",
       "              '2022-11-07_07:00:00',\n",
       "              '2022-11-07_08:00:00',\n",
       "              '2022-11-07_09:00:00',\n",
       "              '2022-11-07_10:00:00',\n",
       "              '2022-11-07_11:00:00',\n",
       "              '2022-11-07_12:00:00',\n",
       "              '2022-11-07_13:00:00',\n",
       "              '2022-11-07_14:00:00',\n",
       "              '2022-11-07_15:00:00',\n",
       "              '2022-11-07_16:00:00',\n",
       "              '2022-11-07_17:00:00',\n",
       "              '2022-11-07_18:00:00',\n",
       "              '2022-11-07_19:00:00',\n",
       "              '2022-11-07_20:00:00',\n",
       "              '2022-11-07_21:00:00',\n",
       "              '2022-11-07_22:00:00',\n",
       "              '2022-11-07_23:00:00',\n",
       "              '2022-11-08_00:00:00',\n",
       "              '2022-11-08_01:00:00',\n",
       "              '2022-11-08_02:00:00',\n",
       "              '2022-11-08_03:00:00',\n",
       "              '2022-11-08_04:00:00',\n",
       "              '2022-11-08_05:00:00',\n",
       "              '2022-11-08_06:00:00',\n",
       "              '2022-11-08_07:00:00',\n",
       "              '2022-11-08_08:00:00',\n",
       "              '2022-11-08_09:00:00',\n",
       "              '2022-11-08_10:00:00',\n",
       "              '2022-11-08_11:00:00',\n",
       "              '2022-11-08_12:00:00',\n",
       "              '2022-11-08_13:00:00',\n",
       "              '2022-11-08_14:00:00',\n",
       "              '2022-11-08_15:00:00',\n",
       "              '2022-11-08_16:00:00',\n",
       "              '2022-11-08_17:00:00',\n",
       "              '2022-11-08_18:00:00',\n",
       "              '2022-11-08_19:00:00',\n",
       "              '2022-11-08_20:00:00',\n",
       "              '2022-11-08_21:00:00',\n",
       "              '2022-11-08_22:00:00',\n",
       "              '2022-11-08_23:00:00',\n",
       "              '2022-11-09_00:00:00',\n",
       "              '2022-11-09_01:00:00',\n",
       "              '2022-11-09_02:00:00',\n",
       "              '2022-11-09_03:00:00',\n",
       "              '2022-11-09_04:00:00',\n",
       "              '2022-11-09_05:00:00',\n",
       "              '2022-11-09_06:00:00',\n",
       "              '2022-11-09_07:00:00',\n",
       "              '2022-11-09_08:00:00',\n",
       "              '2022-11-09_09:00:00',\n",
       "              '2022-11-09_10:00:00',\n",
       "              '2022-11-09_11:00:00',\n",
       "              '2022-11-09_12:00:00',\n",
       "              '2022-11-09_13:00:00',\n",
       "              '2022-11-09_14:00:00',\n",
       "              '2022-11-09_15:00:00',\n",
       "              '2022-11-09_16:00:00',\n",
       "              '2022-11-09_17:00:00',\n",
       "              '2022-11-09_18:00:00',\n",
       "              '2022-11-09_19:00:00',\n",
       "              '2022-11-09_20:00:00',\n",
       "              '2022-11-09_21:00:00',\n",
       "              '2022-11-09_22:00:00',\n",
       "              '2022-11-09_23:00:00',\n",
       "              '2022-11-10_00:00:00',\n",
       "              '2022-11-10_01:00:00',\n",
       "              '2022-11-10_02:00:00',\n",
       "              '2022-11-10_03:00:00',\n",
       "              '2022-11-10_04:00:00',\n",
       "              '2022-11-10_05:00:00',\n",
       "              '2022-11-10_06:00:00',\n",
       "              '2022-11-10_07:00:00',\n",
       "              '2022-11-10_08:00:00',\n",
       "              '2022-11-10_09:00:00',\n",
       "              '2022-11-10_10:00:00',\n",
       "              '2022-11-10_11:00:00',\n",
       "              '2022-11-10_12:00:00',\n",
       "              '2022-11-10_13:00:00',\n",
       "              '2022-11-10_14:00:00',\n",
       "              '2022-11-10_15:00:00',\n",
       "              '2022-11-10_16:00:00',\n",
       "              '2022-11-10_17:00:00',\n",
       "              '2022-11-10_18:00:00',\n",
       "              '2022-11-10_19:00:00',\n",
       "              '2022-11-10_20:00:00',\n",
       "              '2022-11-10_21:00:00',\n",
       "              '2022-11-10_22:00:00',\n",
       "              '2022-11-10_23:00:00',\n",
       "              '2022-11-11_00:00:00',\n",
       "              '2022-11-11_01:00:00',\n",
       "              '2022-11-11_02:00:00',\n",
       "              '2022-11-11_03:00:00',\n",
       "              '2022-11-11_04:00:00',\n",
       "              '2022-11-11_05:00:00',\n",
       "              '2022-11-11_06:00:00',\n",
       "              '2022-11-11_07:00:00',\n",
       "              '2022-11-11_08:00:00',\n",
       "              '2022-11-11_09:00:00',\n",
       "              '2022-11-11_10:00:00',\n",
       "              '2022-11-11_11:00:00',\n",
       "              '2022-11-11_12:00:00',\n",
       "              '2022-11-11_13:00:00',\n",
       "              '2022-11-11_14:00:00',\n",
       "              '2022-11-11_15:00:00',\n",
       "              '2022-11-11_16:00:00',\n",
       "              '2022-11-11_17:00:00',\n",
       "              '2022-11-11_18:00:00',\n",
       "              '2022-11-11_19:00:00',\n",
       "              '2022-11-11_20:00:00',\n",
       "              '2022-11-11_21:00:00',\n",
       "              '2022-11-11_22:00:00',\n",
       "              '2022-11-11_23:00:00',\n",
       "              '2022-11-12_00:00:00',\n",
       "              '2022-11-12_01:00:00',\n",
       "              '2022-11-12_02:00:00',\n",
       "              '2022-11-12_03:00:00',\n",
       "              '2022-11-12_04:00:00',\n",
       "              '2022-11-12_05:00:00',\n",
       "              '2022-11-12_06:00:00',\n",
       "              '2022-11-12_07:00:00',\n",
       "              '2022-11-12_08:00:00',\n",
       "              '2022-11-12_09:00:00',\n",
       "              '2022-11-12_10:00:00',\n",
       "              '2022-11-12_11:00:00',\n",
       "              '2022-11-12_12:00:00',\n",
       "              '2022-11-12_13:00:00',\n",
       "              '2022-11-12_14:00:00',\n",
       "              '2022-11-12_15:00:00',\n",
       "              '2022-11-12_16:00:00',\n",
       "              '2022-11-12_17:00:00',\n",
       "              '2022-11-12_18:00:00',\n",
       "              '2022-11-12_19:00:00',\n",
       "              '2022-11-12_20:00:00',\n",
       "              '2022-11-12_21:00:00',\n",
       "              '2022-11-12_22:00:00',\n",
       "              '2022-11-12_23:00:00',\n",
       "              '2022-11-13_00:00:00',\n",
       "              '2022-11-13_01:00:00',\n",
       "              '2022-11-13_02:00:00',\n",
       "              '2022-11-13_03:00:00',\n",
       "              '2022-11-13_04:00:00',\n",
       "              '2022-11-13_05:00:00',\n",
       "              '2022-11-13_06:00:00',\n",
       "              '2022-11-13_07:00:00',\n",
       "              '2022-11-13_08:00:00',\n",
       "              '2022-11-13_09:00:00',\n",
       "              '2022-11-13_10:00:00',\n",
       "              '2022-11-13_11:00:00',\n",
       "              '2022-11-13_12:00:00',\n",
       "              '2022-11-13_13:00:00',\n",
       "              '2022-11-13_14:00:00',\n",
       "              '2022-11-13_15:00:00',\n",
       "              '2022-11-13_16:00:00',\n",
       "              '2022-11-13_17:00:00',\n",
       "              '2022-11-13_18:00:00',\n",
       "              '2022-11-13_19:00:00',\n",
       "              '2022-11-13_20:00:00',\n",
       "              '2022-11-13_21:00:00',\n",
       "              '2022-11-13_22:00:00',\n",
       "              '2022-11-13_23:00:00',\n",
       "              '2022-11-14_00:00:00',\n",
       "              '2022-11-14_01:00:00',\n",
       "              '2022-11-14_02:00:00',\n",
       "              '2022-11-14_03:00:00',\n",
       "              '2022-11-14_04:00:00',\n",
       "              '2022-11-14_05:00:00',\n",
       "              '2022-11-14_06:00:00',\n",
       "              '2022-11-14_07:00:00',\n",
       "              '2022-11-14_08:00:00',\n",
       "              '2022-11-14_09:00:00',\n",
       "              '2022-11-14_10:00:00',\n",
       "              '2022-11-14_11:00:00',\n",
       "              '2022-11-14_12:00:00',\n",
       "              '2022-11-14_13:00:00',\n",
       "              '2022-11-14_14:00:00',\n",
       "              '2022-11-14_15:00:00',\n",
       "              '2022-11-14_16:00:00',\n",
       "              '2022-11-14_17:00:00',\n",
       "              '2022-11-14_18:00:00',\n",
       "              '2022-11-14_19:00:00',\n",
       "              '2022-11-14_20:00:00',\n",
       "              '2022-11-14_21:00:00',\n",
       "              '2022-11-14_22:00:00',\n",
       "              '2022-11-14_23:00:00',\n",
       "              '2022-11-15_00:00:00',\n",
       "              '2022-11-15_01:00:00',\n",
       "              '2022-11-15_02:00:00',\n",
       "              '2022-11-15_03:00:00',\n",
       "              '2022-11-15_04:00:00',\n",
       "              '2022-11-15_05:00:00',\n",
       "              '2022-11-15_06:00:00',\n",
       "              '2022-11-15_07:00:00',\n",
       "              '2022-11-15_08:00:00',\n",
       "              '2022-11-15_09:00:00',\n",
       "              '2022-11-15_10:00:00',\n",
       "              '2022-11-15_11:00:00',\n",
       "              '2022-11-15_12:00:00',\n",
       "              '2022-11-15_13:00:00',\n",
       "              '2022-11-15_14:00:00',\n",
       "              '2022-11-15_15:00:00',\n",
       "              '2022-11-15_16:00:00',\n",
       "              '2022-11-15_17:00:00',\n",
       "              '2022-11-15_18:00:00',\n",
       "              '2022-11-15_19:00:00',\n",
       "              '2022-11-15_20:00:00',\n",
       "              '2022-11-15_21:00:00',\n",
       "              '2022-11-15_22:00:00',\n",
       "              '2022-11-15_23:00:00',\n",
       "              '2022-11-16_00:00:00',\n",
       "              '2022-11-16_01:00:00',\n",
       "              '2022-11-16_02:00:00',\n",
       "              '2022-11-16_03:00:00',\n",
       "              '2022-11-16_04:00:00',\n",
       "              '2022-11-16_05:00:00',\n",
       "              '2022-11-16_06:00:00',\n",
       "              '2022-11-16_07:00:00',\n",
       "              '2022-11-16_08:00:00',\n",
       "              '2022-11-16_09:00:00',\n",
       "              '2022-11-16_10:00:00',\n",
       "              '2022-11-16_11:00:00',\n",
       "              '2022-11-16_12:00:00',\n",
       "              '2022-11-16_13:00:00',\n",
       "              '2022-11-16_14:00:00',\n",
       "              '2022-11-16_15:00:00',\n",
       "              '2022-11-16_16:00:00',\n",
       "              '2022-11-16_17:00:00',\n",
       "              '2022-11-16_18:00:00',\n",
       "              '2022-11-16_19:00:00',\n",
       "              '2022-11-16_20:00:00',\n",
       "              '2022-11-16_21:00:00',\n",
       "              '2022-11-16_22:00:00',\n",
       "              '2022-11-16_23:00:00',\n",
       "              '2022-11-17_00:00:00',\n",
       "              '2022-11-17_01:00:00',\n",
       "              '2022-11-17_02:00:00',\n",
       "              '2022-11-17_03:00:00',\n",
       "              '2022-11-17_04:00:00',\n",
       "              '2022-11-17_05:00:00',\n",
       "              '2022-11-17_06:00:00',\n",
       "              '2022-11-17_07:00:00',\n",
       "              '2022-11-17_08:00:00',\n",
       "              '2022-11-17_09:00:00',\n",
       "              '2022-11-17_10:00:00',\n",
       "              '2022-11-17_11:00:00',\n",
       "              '2022-11-17_12:00:00',\n",
       "              '2022-11-17_13:00:00',\n",
       "              '2022-11-17_14:00:00',\n",
       "              '2022-11-17_15:00:00',\n",
       "              '2022-11-17_16:00:00',\n",
       "              '2022-11-17_17:00:00',\n",
       "              '2022-11-17_18:00:00',\n",
       "              '2022-11-17_19:00:00',\n",
       "              '2022-11-17_20:00:00',\n",
       "              '2022-11-17_21:00:00',\n",
       "              '2022-11-17_22:00:00',\n",
       "              '2022-11-17_23:00:00',\n",
       "              '2022-11-18_00:00:00',\n",
       "              '2022-11-18_01:00:00',\n",
       "              '2022-11-18_02:00:00',\n",
       "              '2022-11-18_03:00:00',\n",
       "              '2022-11-18_04:00:00',\n",
       "              '2022-11-18_05:00:00',\n",
       "              '2022-11-18_06:00:00',\n",
       "              '2022-11-18_07:00:00',\n",
       "              '2022-11-18_08:00:00',\n",
       "              '2022-11-18_09:00:00',\n",
       "              '2022-11-18_10:00:00',\n",
       "              '2022-11-18_11:00:00',\n",
       "              '2022-11-18_12:00:00',\n",
       "              '2022-11-18_13:00:00',\n",
       "              '2022-11-18_14:00:00',\n",
       "              '2022-11-18_15:00:00',\n",
       "              '2022-11-18_16:00:00',\n",
       "              '2022-11-18_17:00:00',\n",
       "              '2022-11-18_18:00:00',\n",
       "              '2022-11-18_19:00:00',\n",
       "              '2022-11-18_20:00:00',\n",
       "              '2022-11-18_21:00:00',\n",
       "              '2022-11-18_22:00:00',\n",
       "              '2022-11-18_23:00:00',\n",
       "              '2022-11-19_00:00:00',\n",
       "              '2022-11-19_01:00:00',\n",
       "              '2022-11-19_02:00:00',\n",
       "              '2022-11-19_03:00:00',\n",
       "              '2022-11-19_04:00:00',\n",
       "              '2022-11-19_05:00:00',\n",
       "              '2022-11-19_06:00:00',\n",
       "              '2022-11-19_07:00:00',\n",
       "              '2022-11-19_08:00:00',\n",
       "              '2022-11-19_09:00:00',\n",
       "              '2022-11-19_10:00:00',\n",
       "              '2022-11-19_11:00:00',\n",
       "              '2022-11-19_12:00:00',\n",
       "              '2022-11-19_13:00:00',\n",
       "              '2022-11-19_14:00:00',\n",
       "              '2022-11-19_15:00:00',\n",
       "              '2022-11-19_16:00:00',\n",
       "              '2022-11-19_17:00:00',\n",
       "              '2022-11-19_18:00:00',\n",
       "              '2022-11-19_19:00:00',\n",
       "              '2022-11-19_20:00:00',\n",
       "              '2022-11-19_21:00:00',\n",
       "              '2022-11-19_22:00:00',\n",
       "              '2022-11-19_23:00:00',\n",
       "              '2022-11-20_00:00:00',\n",
       "              '2022-11-20_01:00:00',\n",
       "              '2022-11-20_02:00:00',\n",
       "              '2022-11-20_03:00:00',\n",
       "              '2022-11-20_04:00:00',\n",
       "              '2022-11-20_05:00:00',\n",
       "              '2022-11-20_06:00:00',\n",
       "              '2022-11-20_07:00:00',\n",
       "              '2022-11-20_08:00:00',\n",
       "              '2022-11-20_09:00:00',\n",
       "              '2022-11-20_10:00:00',\n",
       "              '2022-11-20_11:00:00',\n",
       "              '2022-11-20_12:00:00',\n",
       "              '2022-11-20_13:00:00',\n",
       "              '2022-11-20_14:00:00',\n",
       "              '2022-11-20_15:00:00',\n",
       "              '2022-11-20_16:00:00',\n",
       "              '2022-11-20_17:00:00',\n",
       "              '2022-11-20_18:00:00',\n",
       "              '2022-11-20_19:00:00',\n",
       "              '2022-11-20_20:00:00',\n",
       "              '2022-11-20_21:00:00',\n",
       "              '2022-11-20_22:00:00',\n",
       "              '2022-11-20_23:00:00',\n",
       "              '2022-11-21_00:00:00',\n",
       "              '2022-11-21_01:00:00',\n",
       "              '2022-11-21_02:00:00',\n",
       "              '2022-11-21_03:00:00',\n",
       "              '2022-11-21_04:00:00',\n",
       "              '2022-11-21_05:00:00',\n",
       "              '2022-11-21_06:00:00',\n",
       "              '2022-11-21_07:00:00',\n",
       "              '2022-11-21_08:00:00',\n",
       "              '2022-11-21_09:00:00',\n",
       "              '2022-11-21_10:00:00',\n",
       "              '2022-11-21_11:00:00',\n",
       "              '2022-11-21_12:00:00',\n",
       "              '2022-11-21_13:00:00',\n",
       "              '2022-11-21_14:00:00',\n",
       "              '2022-11-21_15:00:00',\n",
       "              '2022-11-21_16:00:00',\n",
       "              '2022-11-21_17:00:00',\n",
       "              '2022-11-21_18:00:00',\n",
       "              '2022-11-21_19:00:00',\n",
       "              '2022-11-21_20:00:00',\n",
       "              '2022-11-21_21:00:00',\n",
       "              '2022-11-21_22:00:00',\n",
       "              '2022-11-21_23:00:00',\n",
       "              '2022-11-22_00:00:00',\n",
       "              '2022-11-22_01:00:00',\n",
       "              '2022-11-22_02:00:00',\n",
       "              '2022-11-22_03:00:00',\n",
       "              '2022-11-22_04:00:00',\n",
       "              '2022-11-22_05:00:00',\n",
       "              '2022-11-22_06:00:00',\n",
       "              '2022-11-22_07:00:00',\n",
       "              '2022-11-22_08:00:00',\n",
       "              '2022-11-22_09:00:00',\n",
       "              '2022-11-22_10:00:00',\n",
       "              '2022-11-22_11:00:00',\n",
       "              '2022-11-22_12:00:00',\n",
       "              '2022-11-22_13:00:00',\n",
       "              '2022-11-22_14:00:00',\n",
       "              '2022-11-22_15:00:00',\n",
       "              '2022-11-22_16:00:00',\n",
       "              '2022-11-22_17:00:00',\n",
       "              '2022-11-22_18:00:00',\n",
       "              '2022-11-22_19:00:00',\n",
       "              '2022-11-22_20:00:00',\n",
       "              '2022-11-22_21:00:00',\n",
       "              '2022-11-22_22:00:00',\n",
       "              '2022-11-22_23:00:00',\n",
       "              '2022-11-23_00:00:00',\n",
       "              '2022-11-23_01:00:00',\n",
       "              '2022-11-23_02:00:00',\n",
       "              '2022-11-23_03:00:00',\n",
       "              '2022-11-23_04:00:00',\n",
       "              '2022-11-23_05:00:00',\n",
       "              '2022-11-23_06:00:00',\n",
       "              '2022-11-23_07:00:00',\n",
       "              '2022-11-23_08:00:00',\n",
       "              '2022-11-23_09:00:00',\n",
       "              '2022-11-23_10:00:00',\n",
       "              '2022-11-23_11:00:00',\n",
       "              '2022-11-23_12:00:00',\n",
       "              '2022-11-23_13:00:00',\n",
       "              '2022-11-23_14:00:00',\n",
       "              '2022-11-23_15:00:00',\n",
       "              '2022-11-23_16:00:00',\n",
       "              '2022-11-23_17:00:00',\n",
       "              '2022-11-23_18:00:00',\n",
       "              '2022-11-23_19:00:00',\n",
       "              '2022-11-23_20:00:00',\n",
       "              '2022-11-23_21:00:00',\n",
       "              '2022-11-23_22:00:00',\n",
       "              '2022-11-23_23:00:00',\n",
       "              '2022-11-24_00:00:00',\n",
       "              '2022-11-24_01:00:00',\n",
       "              '2022-11-24_02:00:00',\n",
       "              '2022-11-24_03:00:00',\n",
       "              '2022-11-24_04:00:00',\n",
       "              '2022-11-24_05:00:00',\n",
       "              '2022-11-24_06:00:00',\n",
       "              '2022-11-24_07:00:00',\n",
       "              '2022-11-24_08:00:00',\n",
       "              '2022-11-24_09:00:00',\n",
       "              '2022-11-24_10:00:00',\n",
       "              '2022-11-24_11:00:00',\n",
       "              '2022-11-24_12:00:00',\n",
       "              '2022-11-24_13:00:00',\n",
       "              '2022-11-24_14:00:00',\n",
       "              '2022-11-24_15:00:00',\n",
       "              '2022-11-24_16:00:00',\n",
       "              '2022-11-24_17:00:00',\n",
       "              '2022-11-24_18:00:00',\n",
       "              '2022-11-24_19:00:00',\n",
       "              '2022-11-24_20:00:00',\n",
       "              '2022-11-24_21:00:00',\n",
       "              '2022-11-24_22:00:00',\n",
       "              '2022-11-24_23:00:00',\n",
       "              '2022-11-25_00:00:00',\n",
       "              '2022-11-25_01:00:00',\n",
       "              '2022-11-25_02:00:00',\n",
       "              '2022-11-25_03:00:00',\n",
       "              '2022-11-25_04:00:00',\n",
       "              '2022-11-25_05:00:00',\n",
       "              '2022-11-25_06:00:00',\n",
       "              '2022-11-25_07:00:00',\n",
       "              '2022-11-25_08:00:00',\n",
       "              '2022-11-25_09:00:00',\n",
       "              '2022-11-25_10:00:00',\n",
       "              '2022-11-25_11:00:00',\n",
       "              '2022-11-25_12:00:00',\n",
       "              '2022-11-25_13:00:00',\n",
       "              '2022-11-25_14:00:00',\n",
       "              '2022-11-25_15:00:00',\n",
       "              '2022-11-25_16:00:00',\n",
       "              '2022-11-25_17:00:00',\n",
       "              '2022-11-25_18:00:00',\n",
       "              '2022-11-25_19:00:00',\n",
       "              '2022-11-25_20:00:00',\n",
       "              '2022-11-25_21:00:00',\n",
       "              '2022-11-25_22:00:00',\n",
       "              '2022-11-25_23:00:00',\n",
       "              '2022-11-26_00:00:00',\n",
       "              '2022-11-26_01:00:00',\n",
       "              '2022-11-26_02:00:00',\n",
       "              '2022-11-26_03:00:00',\n",
       "              '2022-11-26_04:00:00',\n",
       "              '2022-11-26_05:00:00',\n",
       "              '2022-11-26_06:00:00',\n",
       "              '2022-11-26_07:00:00',\n",
       "              '2022-11-26_08:00:00',\n",
       "              '2022-11-26_09:00:00',\n",
       "              '2022-11-26_10:00:00',\n",
       "              '2022-11-26_11:00:00',\n",
       "              '2022-11-26_12:00:00',\n",
       "              '2022-11-26_13:00:00',\n",
       "              '2022-11-26_14:00:00',\n",
       "              '2022-11-26_15:00:00',\n",
       "              '2022-11-26_16:00:00',\n",
       "              '2022-11-26_17:00:00',\n",
       "              '2022-11-26_18:00:00',\n",
       "              '2022-11-26_19:00:00',\n",
       "              '2022-11-26_20:00:00',\n",
       "              '2022-11-26_21:00:00',\n",
       "              '2022-11-26_22:00:00',\n",
       "              '2022-11-26_23:00:00',\n",
       "              '2022-11-27_00:00:00',\n",
       "              '2022-11-27_01:00:00',\n",
       "              '2022-11-27_02:00:00',\n",
       "              '2022-11-27_03:00:00',\n",
       "              '2022-11-27_04:00:00',\n",
       "              '2022-11-27_05:00:00',\n",
       "              '2022-11-27_06:00:00',\n",
       "              '2022-11-27_07:00:00',\n",
       "              '2022-11-27_08:00:00',\n",
       "              '2022-11-27_09:00:00',\n",
       "              '2022-11-27_10:00:00',\n",
       "              '2022-11-27_11:00:00',\n",
       "              '2022-11-27_12:00:00',\n",
       "              '2022-11-27_13:00:00',\n",
       "              '2022-11-27_14:00:00',\n",
       "              '2022-11-27_15:00:00',\n",
       "              '2022-11-27_16:00:00',\n",
       "              '2022-11-27_17:00:00',\n",
       "              '2022-11-27_18:00:00',\n",
       "              '2022-11-27_19:00:00',\n",
       "              '2022-11-27_20:00:00',\n",
       "              '2022-11-27_21:00:00',\n",
       "              '2022-11-27_22:00:00',\n",
       "              '2022-11-27_23:00:00',\n",
       "              '2022-11-28_00:00:00',\n",
       "              '2022-11-28_01:00:00',\n",
       "              '2022-11-28_02:00:00',\n",
       "              '2022-11-28_03:00:00',\n",
       "              '2022-11-28_04:00:00',\n",
       "              '2022-11-28_05:00:00',\n",
       "              '2022-11-28_06:00:00',\n",
       "              '2022-11-28_07:00:00',\n",
       "              '2022-11-28_08:00:00',\n",
       "              '2022-11-28_09:00:00',\n",
       "              '2022-11-28_10:00:00',\n",
       "              '2022-11-28_11:00:00',\n",
       "              '2022-11-28_12:00:00',\n",
       "              '2022-11-28_13:00:00',\n",
       "              '2022-11-28_14:00:00',\n",
       "              '2022-11-28_15:00:00',\n",
       "              '2022-11-28_16:00:00',\n",
       "              '2022-11-28_17:00:00',\n",
       "              '2022-11-28_18:00:00',\n",
       "              '2022-11-28_19:00:00',\n",
       "              '2022-11-28_20:00:00',\n",
       "              '2022-11-28_21:00:00',\n",
       "              '2022-11-28_22:00:00',\n",
       "              '2022-11-28_23:00:00',\n",
       "              '2022-11-29_00:00:00',\n",
       "              '2022-11-29_01:00:00',\n",
       "              '2022-11-29_02:00:00',\n",
       "              '2022-11-29_03:00:00',\n",
       "              '2022-11-29_04:00:00',\n",
       "              '2022-11-29_05:00:00',\n",
       "              '2022-11-29_06:00:00',\n",
       "              '2022-11-29_07:00:00',\n",
       "              '2022-11-29_08:00:00',\n",
       "              '2022-11-29_09:00:00',\n",
       "              '2022-11-29_10:00:00',\n",
       "              '2022-11-29_11:00:00',\n",
       "              '2022-11-29_12:00:00',\n",
       "              '2022-11-29_13:00:00',\n",
       "              '2022-11-29_14:00:00',\n",
       "              '2022-11-29_15:00:00',\n",
       "              '2022-11-29_16:00:00',\n",
       "              '2022-11-29_17:00:00',\n",
       "              '2022-11-29_18:00:00',\n",
       "              '2022-11-29_19:00:00',\n",
       "              '2022-11-29_20:00:00',\n",
       "              '2022-11-29_21:00:00',\n",
       "              '2022-11-29_22:00:00',\n",
       "              '2022-11-29_23:00:00',\n",
       "              '2022-11-30_00:00:00',\n",
       "              '2022-11-30_01:00:00',\n",
       "              '2022-11-30_02:00:00',\n",
       "              '2022-11-30_03:00:00',\n",
       "              '2022-11-30_04:00:00',\n",
       "              '2022-11-30_05:00:00',\n",
       "              '2022-11-30_06:00:00',\n",
       "              '2022-11-30_07:00:00',\n",
       "              '2022-11-30_08:00:00',\n",
       "              '2022-11-30_09:00:00',\n",
       "              '2022-11-30_10:00:00',\n",
       "              '2022-11-30_11:00:00',\n",
       "              '2022-11-30_12:00:00',\n",
       "              '2022-11-30_13:00:00',\n",
       "              '2022-11-30_14:00:00',\n",
       "              '2022-11-30_15:00:00',\n",
       "              '2022-11-30_16:00:00',\n",
       "              '2022-11-30_17:00:00',\n",
       "              '2022-11-30_18:00:00',\n",
       "              '2022-11-30_19:00:00',\n",
       "              '2022-11-30_20:00:00',\n",
       "              '2022-11-30_21:00:00',\n",
       "              '2022-11-30_22:00:00',\n",
       "              '2022-11-30_23:00:00'},\n",
       "             '32.831_-117.122': {'2022-03-13_02:00:00',\n",
       "              '2022-11-06_02:00:00',\n",
       "              '2022-11-06_03:00:00',\n",
       "              '2022-11-06_04:00:00',\n",
       "              '2022-11-06_05:00:00',\n",
       "              '2022-11-06_06:00:00',\n",
       "              '2022-11-06_07:00:00',\n",
       "              '2022-11-06_08:00:00',\n",
       "              '2022-11-06_09:00:00',\n",
       "              '2022-11-06_10:00:00',\n",
       "              '2022-11-06_11:00:00',\n",
       "              '2022-11-06_12:00:00',\n",
       "              '2022-11-06_13:00:00',\n",
       "              '2022-11-06_14:00:00',\n",
       "              '2022-11-06_15:00:00',\n",
       "              '2022-11-06_16:00:00',\n",
       "              '2022-11-06_17:00:00',\n",
       "              '2022-11-06_18:00:00',\n",
       "              '2022-11-06_19:00:00',\n",
       "              '2022-11-06_20:00:00',\n",
       "              '2022-11-06_21:00:00',\n",
       "              '2022-11-06_22:00:00',\n",
       "              '2022-11-06_23:00:00',\n",
       "              '2022-11-07_00:00:00',\n",
       "              '2022-11-07_01:00:00',\n",
       "              '2022-11-07_02:00:00',\n",
       "              '2022-11-07_03:00:00',\n",
       "              '2022-11-07_04:00:00',\n",
       "              '2022-11-07_05:00:00',\n",
       "              '2022-11-07_06:00:00',\n",
       "              '2022-11-07_07:00:00',\n",
       "              '2022-11-07_08:00:00',\n",
       "              '2022-11-07_09:00:00',\n",
       "              '2022-11-07_10:00:00',\n",
       "              '2022-11-07_11:00:00',\n",
       "              '2022-11-07_12:00:00',\n",
       "              '2022-11-07_13:00:00',\n",
       "              '2022-11-07_14:00:00',\n",
       "              '2022-11-07_15:00:00',\n",
       "              '2022-11-07_16:00:00',\n",
       "              '2022-11-07_17:00:00',\n",
       "              '2022-11-07_18:00:00',\n",
       "              '2022-11-07_19:00:00',\n",
       "              '2022-11-07_20:00:00',\n",
       "              '2022-11-07_21:00:00',\n",
       "              '2022-11-07_22:00:00',\n",
       "              '2022-11-07_23:00:00',\n",
       "              '2022-11-08_00:00:00',\n",
       "              '2022-11-08_01:00:00',\n",
       "              '2022-11-08_02:00:00',\n",
       "              '2022-11-08_03:00:00',\n",
       "              '2022-11-08_04:00:00',\n",
       "              '2022-11-08_05:00:00',\n",
       "              '2022-11-08_06:00:00',\n",
       "              '2022-11-08_07:00:00',\n",
       "              '2022-11-08_08:00:00',\n",
       "              '2022-11-08_09:00:00',\n",
       "              '2022-11-08_10:00:00',\n",
       "              '2022-11-08_11:00:00',\n",
       "              '2022-11-08_12:00:00',\n",
       "              '2022-11-08_13:00:00',\n",
       "              '2022-11-08_14:00:00',\n",
       "              '2022-11-08_15:00:00',\n",
       "              '2022-11-08_16:00:00',\n",
       "              '2022-11-08_17:00:00',\n",
       "              '2022-11-08_18:00:00',\n",
       "              '2022-11-08_19:00:00',\n",
       "              '2022-11-08_20:00:00',\n",
       "              '2022-11-08_21:00:00',\n",
       "              '2022-11-08_22:00:00',\n",
       "              '2022-11-08_23:00:00',\n",
       "              '2022-11-09_00:00:00',\n",
       "              '2022-11-09_01:00:00',\n",
       "              '2022-11-09_02:00:00',\n",
       "              '2022-11-09_03:00:00',\n",
       "              '2022-11-09_04:00:00',\n",
       "              '2022-11-09_05:00:00',\n",
       "              '2022-11-09_06:00:00',\n",
       "              '2022-11-09_07:00:00',\n",
       "              '2022-11-09_08:00:00',\n",
       "              '2022-11-09_09:00:00',\n",
       "              '2022-11-09_10:00:00',\n",
       "              '2022-11-09_11:00:00',\n",
       "              '2022-11-09_12:00:00',\n",
       "              '2022-11-09_13:00:00',\n",
       "              '2022-11-09_14:00:00',\n",
       "              '2022-11-09_15:00:00',\n",
       "              '2022-11-09_16:00:00',\n",
       "              '2022-11-09_17:00:00',\n",
       "              '2022-11-09_18:00:00',\n",
       "              '2022-11-09_19:00:00',\n",
       "              '2022-11-09_20:00:00',\n",
       "              '2022-11-09_21:00:00',\n",
       "              '2022-11-09_22:00:00',\n",
       "              '2022-11-09_23:00:00',\n",
       "              '2022-11-10_00:00:00',\n",
       "              '2022-11-10_01:00:00',\n",
       "              '2022-11-10_02:00:00',\n",
       "              '2022-11-10_03:00:00',\n",
       "              '2022-11-10_04:00:00',\n",
       "              '2022-11-10_05:00:00',\n",
       "              '2022-11-10_06:00:00',\n",
       "              '2022-11-10_07:00:00',\n",
       "              '2022-11-10_08:00:00',\n",
       "              '2022-11-10_09:00:00',\n",
       "              '2022-11-10_10:00:00',\n",
       "              '2022-11-10_11:00:00',\n",
       "              '2022-11-10_12:00:00',\n",
       "              '2022-11-10_13:00:00',\n",
       "              '2022-11-10_14:00:00',\n",
       "              '2022-11-10_15:00:00',\n",
       "              '2022-11-10_16:00:00',\n",
       "              '2022-11-10_17:00:00',\n",
       "              '2022-11-10_18:00:00',\n",
       "              '2022-11-10_19:00:00',\n",
       "              '2022-11-10_20:00:00',\n",
       "              '2022-11-10_21:00:00',\n",
       "              '2022-11-10_22:00:00',\n",
       "              '2022-11-10_23:00:00',\n",
       "              '2022-11-11_00:00:00',\n",
       "              '2022-11-11_01:00:00',\n",
       "              '2022-11-11_02:00:00',\n",
       "              '2022-11-11_03:00:00',\n",
       "              '2022-11-11_04:00:00',\n",
       "              '2022-11-11_05:00:00',\n",
       "              '2022-11-11_06:00:00',\n",
       "              '2022-11-11_07:00:00',\n",
       "              '2022-11-11_08:00:00',\n",
       "              '2022-11-11_09:00:00',\n",
       "              '2022-11-11_10:00:00',\n",
       "              '2022-11-11_11:00:00',\n",
       "              '2022-11-11_12:00:00',\n",
       "              '2022-11-11_13:00:00',\n",
       "              '2022-11-11_14:00:00',\n",
       "              '2022-11-11_15:00:00',\n",
       "              '2022-11-11_16:00:00',\n",
       "              '2022-11-11_17:00:00',\n",
       "              '2022-11-11_18:00:00',\n",
       "              '2022-11-11_19:00:00',\n",
       "              '2022-11-11_20:00:00',\n",
       "              '2022-11-11_21:00:00',\n",
       "              '2022-11-11_22:00:00',\n",
       "              '2022-11-11_23:00:00',\n",
       "              '2022-11-12_00:00:00',\n",
       "              '2022-11-12_01:00:00',\n",
       "              '2022-11-12_02:00:00',\n",
       "              '2022-11-12_03:00:00',\n",
       "              '2022-11-12_04:00:00',\n",
       "              '2022-11-12_05:00:00',\n",
       "              '2022-11-12_06:00:00',\n",
       "              '2022-11-12_07:00:00',\n",
       "              '2022-11-12_08:00:00',\n",
       "              '2022-11-12_09:00:00',\n",
       "              '2022-11-12_10:00:00',\n",
       "              '2022-11-12_11:00:00',\n",
       "              '2022-11-12_12:00:00',\n",
       "              '2022-11-12_13:00:00',\n",
       "              '2022-11-12_14:00:00',\n",
       "              '2022-11-12_15:00:00',\n",
       "              '2022-11-12_16:00:00',\n",
       "              '2022-11-12_17:00:00',\n",
       "              '2022-11-12_18:00:00',\n",
       "              '2022-11-12_19:00:00',\n",
       "              '2022-11-12_20:00:00',\n",
       "              '2022-11-12_21:00:00',\n",
       "              '2022-11-12_22:00:00',\n",
       "              '2022-11-12_23:00:00',\n",
       "              '2022-11-13_00:00:00',\n",
       "              '2022-11-13_01:00:00',\n",
       "              '2022-11-13_02:00:00',\n",
       "              '2022-11-13_03:00:00',\n",
       "              '2022-11-13_04:00:00',\n",
       "              '2022-11-13_05:00:00',\n",
       "              '2022-11-13_06:00:00',\n",
       "              '2022-11-13_07:00:00',\n",
       "              '2022-11-13_08:00:00',\n",
       "              '2022-11-13_09:00:00',\n",
       "              '2022-11-13_10:00:00',\n",
       "              '2022-11-13_11:00:00',\n",
       "              '2022-11-13_12:00:00',\n",
       "              '2022-11-13_13:00:00',\n",
       "              '2022-11-13_14:00:00',\n",
       "              '2022-11-13_15:00:00',\n",
       "              '2022-11-13_16:00:00',\n",
       "              '2022-11-13_17:00:00',\n",
       "              '2022-11-13_18:00:00',\n",
       "              '2022-11-13_19:00:00',\n",
       "              '2022-11-13_20:00:00',\n",
       "              '2022-11-13_21:00:00',\n",
       "              '2022-11-13_22:00:00',\n",
       "              '2022-11-13_23:00:00',\n",
       "              '2022-11-14_00:00:00',\n",
       "              '2022-11-14_01:00:00',\n",
       "              '2022-11-14_02:00:00',\n",
       "              '2022-11-14_03:00:00',\n",
       "              '2022-11-14_04:00:00',\n",
       "              '2022-11-14_05:00:00',\n",
       "              '2022-11-14_06:00:00',\n",
       "              '2022-11-14_07:00:00',\n",
       "              '2022-11-14_08:00:00',\n",
       "              '2022-11-14_09:00:00',\n",
       "              '2022-11-14_10:00:00',\n",
       "              '2022-11-14_11:00:00',\n",
       "              '2022-11-14_12:00:00',\n",
       "              '2022-11-14_13:00:00',\n",
       "              '2022-11-14_14:00:00',\n",
       "              '2022-11-14_15:00:00',\n",
       "              '2022-11-14_16:00:00',\n",
       "              '2022-11-14_17:00:00',\n",
       "              '2022-11-14_18:00:00',\n",
       "              '2022-11-14_19:00:00',\n",
       "              '2022-11-14_20:00:00',\n",
       "              '2022-11-14_21:00:00',\n",
       "              '2022-11-14_22:00:00',\n",
       "              '2022-11-14_23:00:00',\n",
       "              '2022-11-15_00:00:00',\n",
       "              '2022-11-15_01:00:00',\n",
       "              '2022-11-15_02:00:00',\n",
       "              '2022-11-15_03:00:00',\n",
       "              '2022-11-15_04:00:00',\n",
       "              '2022-11-15_05:00:00',\n",
       "              '2022-11-15_06:00:00',\n",
       "              '2022-11-15_07:00:00',\n",
       "              '2022-11-15_08:00:00',\n",
       "              '2022-11-15_09:00:00',\n",
       "              '2022-11-15_10:00:00',\n",
       "              '2022-11-15_11:00:00',\n",
       "              '2022-11-15_12:00:00',\n",
       "              '2022-11-15_13:00:00',\n",
       "              '2022-11-15_14:00:00',\n",
       "              '2022-11-15_15:00:00',\n",
       "              '2022-11-15_16:00:00',\n",
       "              '2022-11-15_17:00:00',\n",
       "              '2022-11-15_18:00:00',\n",
       "              '2022-11-15_19:00:00',\n",
       "              '2022-11-15_20:00:00',\n",
       "              '2022-11-15_21:00:00',\n",
       "              '2022-11-15_22:00:00',\n",
       "              '2022-11-15_23:00:00',\n",
       "              '2022-11-16_00:00:00',\n",
       "              '2022-11-16_01:00:00',\n",
       "              '2022-11-16_02:00:00',\n",
       "              '2022-11-16_03:00:00',\n",
       "              '2022-11-16_04:00:00',\n",
       "              '2022-11-16_05:00:00',\n",
       "              '2022-11-16_06:00:00',\n",
       "              '2022-11-16_07:00:00',\n",
       "              '2022-11-16_08:00:00',\n",
       "              '2022-11-16_09:00:00',\n",
       "              '2022-11-16_10:00:00',\n",
       "              '2022-11-16_11:00:00',\n",
       "              '2022-11-16_12:00:00',\n",
       "              '2022-11-16_13:00:00',\n",
       "              '2022-11-16_14:00:00',\n",
       "              '2022-11-16_15:00:00',\n",
       "              '2022-11-16_16:00:00',\n",
       "              '2022-11-16_17:00:00',\n",
       "              '2022-11-16_18:00:00',\n",
       "              '2022-11-16_19:00:00',\n",
       "              '2022-11-16_20:00:00',\n",
       "              '2022-11-16_21:00:00',\n",
       "              '2022-11-16_22:00:00',\n",
       "              '2022-11-16_23:00:00',\n",
       "              '2022-11-17_00:00:00',\n",
       "              '2022-11-17_01:00:00',\n",
       "              '2022-11-17_02:00:00',\n",
       "              '2022-11-17_03:00:00',\n",
       "              '2022-11-17_04:00:00',\n",
       "              '2022-11-17_05:00:00',\n",
       "              '2022-11-17_06:00:00',\n",
       "              '2022-11-17_07:00:00',\n",
       "              '2022-11-17_08:00:00',\n",
       "              '2022-11-17_09:00:00',\n",
       "              '2022-11-17_10:00:00',\n",
       "              '2022-11-17_11:00:00',\n",
       "              '2022-11-17_12:00:00',\n",
       "              '2022-11-17_13:00:00',\n",
       "              '2022-11-17_14:00:00',\n",
       "              '2022-11-17_15:00:00',\n",
       "              '2022-11-17_16:00:00',\n",
       "              '2022-11-17_17:00:00',\n",
       "              '2022-11-17_18:00:00',\n",
       "              '2022-11-17_19:00:00',\n",
       "              '2022-11-17_20:00:00',\n",
       "              '2022-11-17_21:00:00',\n",
       "              '2022-11-17_22:00:00',\n",
       "              '2022-11-17_23:00:00',\n",
       "              '2022-11-18_00:00:00',\n",
       "              '2022-11-18_01:00:00',\n",
       "              '2022-11-18_02:00:00',\n",
       "              '2022-11-18_03:00:00',\n",
       "              '2022-11-18_04:00:00',\n",
       "              '2022-11-18_05:00:00',\n",
       "              '2022-11-18_06:00:00',\n",
       "              '2022-11-18_07:00:00',\n",
       "              '2022-11-18_08:00:00',\n",
       "              '2022-11-18_09:00:00',\n",
       "              '2022-11-18_10:00:00',\n",
       "              '2022-11-18_11:00:00',\n",
       "              '2022-11-18_12:00:00',\n",
       "              '2022-11-18_13:00:00',\n",
       "              '2022-11-18_14:00:00',\n",
       "              '2022-11-18_15:00:00',\n",
       "              '2022-11-18_16:00:00',\n",
       "              '2022-11-18_17:00:00',\n",
       "              '2022-11-18_18:00:00',\n",
       "              '2022-11-18_19:00:00',\n",
       "              '2022-11-18_20:00:00',\n",
       "              '2022-11-18_21:00:00',\n",
       "              '2022-11-18_22:00:00',\n",
       "              '2022-11-18_23:00:00',\n",
       "              '2022-11-19_00:00:00',\n",
       "              '2022-11-19_01:00:00',\n",
       "              '2022-11-19_02:00:00',\n",
       "              '2022-11-19_03:00:00',\n",
       "              '2022-11-19_04:00:00',\n",
       "              '2022-11-19_05:00:00',\n",
       "              '2022-11-19_06:00:00',\n",
       "              '2022-11-19_07:00:00',\n",
       "              '2022-11-19_08:00:00',\n",
       "              '2022-11-19_09:00:00',\n",
       "              '2022-11-19_10:00:00',\n",
       "              '2022-11-19_11:00:00',\n",
       "              '2022-11-19_12:00:00',\n",
       "              '2022-11-19_13:00:00',\n",
       "              '2022-11-19_14:00:00',\n",
       "              '2022-11-19_15:00:00',\n",
       "              '2022-11-19_16:00:00',\n",
       "              '2022-11-19_17:00:00',\n",
       "              '2022-11-19_18:00:00',\n",
       "              '2022-11-19_19:00:00',\n",
       "              '2022-11-19_20:00:00',\n",
       "              '2022-11-19_21:00:00',\n",
       "              '2022-11-19_22:00:00',\n",
       "              '2022-11-19_23:00:00',\n",
       "              '2022-11-20_00:00:00',\n",
       "              '2022-11-20_01:00:00',\n",
       "              '2022-11-20_02:00:00',\n",
       "              '2022-11-20_03:00:00',\n",
       "              '2022-11-20_04:00:00',\n",
       "              '2022-11-20_05:00:00',\n",
       "              '2022-11-20_06:00:00',\n",
       "              '2022-11-20_07:00:00',\n",
       "              '2022-11-20_08:00:00',\n",
       "              '2022-11-20_09:00:00',\n",
       "              '2022-11-20_10:00:00',\n",
       "              '2022-11-20_11:00:00',\n",
       "              '2022-11-20_12:00:00',\n",
       "              '2022-11-20_13:00:00',\n",
       "              '2022-11-20_14:00:00',\n",
       "              '2022-11-20_15:00:00',\n",
       "              '2022-11-20_16:00:00',\n",
       "              '2022-11-20_17:00:00',\n",
       "              '2022-11-20_18:00:00',\n",
       "              '2022-11-20_19:00:00',\n",
       "              '2022-11-20_20:00:00',\n",
       "              '2022-11-20_21:00:00',\n",
       "              '2022-11-20_22:00:00',\n",
       "              '2022-11-20_23:00:00',\n",
       "              '2022-11-21_00:00:00',\n",
       "              '2022-11-21_01:00:00',\n",
       "              '2022-11-21_02:00:00',\n",
       "              '2022-11-21_03:00:00',\n",
       "              '2022-11-21_04:00:00',\n",
       "              '2022-11-21_05:00:00',\n",
       "              '2022-11-21_06:00:00',\n",
       "              '2022-11-21_07:00:00',\n",
       "              '2022-11-21_08:00:00',\n",
       "              '2022-11-21_09:00:00',\n",
       "              '2022-11-21_10:00:00',\n",
       "              '2022-11-21_11:00:00',\n",
       "              '2022-11-21_12:00:00',\n",
       "              '2022-11-21_13:00:00',\n",
       "              '2022-11-21_14:00:00',\n",
       "              '2022-11-21_15:00:00',\n",
       "              '2022-11-21_16:00:00',\n",
       "              '2022-11-21_17:00:00',\n",
       "              '2022-11-21_18:00:00',\n",
       "              '2022-11-21_19:00:00',\n",
       "              '2022-11-21_20:00:00',\n",
       "              '2022-11-21_21:00:00',\n",
       "              '2022-11-21_22:00:00',\n",
       "              '2022-11-21_23:00:00',\n",
       "              '2022-11-22_00:00:00',\n",
       "              '2022-11-22_01:00:00',\n",
       "              '2022-11-22_02:00:00',\n",
       "              '2022-11-22_03:00:00',\n",
       "              '2022-11-22_04:00:00',\n",
       "              '2022-11-22_05:00:00',\n",
       "              '2022-11-22_06:00:00',\n",
       "              '2022-11-22_07:00:00',\n",
       "              '2022-11-22_08:00:00',\n",
       "              '2022-11-22_09:00:00',\n",
       "              '2022-11-22_10:00:00',\n",
       "              '2022-11-22_11:00:00',\n",
       "              '2022-11-22_12:00:00',\n",
       "              '2022-11-22_13:00:00',\n",
       "              '2022-11-22_14:00:00',\n",
       "              '2022-11-22_15:00:00',\n",
       "              '2022-11-22_16:00:00',\n",
       "              '2022-11-22_17:00:00',\n",
       "              '2022-11-22_18:00:00',\n",
       "              '2022-11-22_19:00:00',\n",
       "              '2022-11-22_20:00:00',\n",
       "              '2022-11-22_21:00:00',\n",
       "              '2022-11-22_22:00:00',\n",
       "              '2022-11-22_23:00:00',\n",
       "              '2022-11-23_00:00:00',\n",
       "              '2022-11-23_01:00:00',\n",
       "              '2022-11-23_02:00:00',\n",
       "              '2022-11-23_03:00:00',\n",
       "              '2022-11-23_04:00:00',\n",
       "              '2022-11-23_05:00:00',\n",
       "              '2022-11-23_06:00:00',\n",
       "              '2022-11-23_07:00:00',\n",
       "              '2022-11-23_08:00:00',\n",
       "              '2022-11-23_09:00:00',\n",
       "              '2022-11-23_10:00:00',\n",
       "              '2022-11-23_11:00:00',\n",
       "              '2022-11-23_12:00:00',\n",
       "              '2022-11-23_13:00:00',\n",
       "              '2022-11-23_14:00:00',\n",
       "              '2022-11-23_15:00:00',\n",
       "              '2022-11-23_16:00:00',\n",
       "              '2022-11-23_17:00:00',\n",
       "              '2022-11-23_18:00:00',\n",
       "              '2022-11-23_19:00:00',\n",
       "              '2022-11-23_20:00:00',\n",
       "              '2022-11-23_21:00:00',\n",
       "              '2022-11-23_22:00:00',\n",
       "              '2022-11-23_23:00:00',\n",
       "              '2022-11-24_00:00:00',\n",
       "              '2022-11-24_01:00:00',\n",
       "              '2022-11-24_02:00:00',\n",
       "              '2022-11-24_03:00:00',\n",
       "              '2022-11-24_04:00:00',\n",
       "              '2022-11-24_05:00:00',\n",
       "              '2022-11-24_06:00:00',\n",
       "              '2022-11-24_07:00:00',\n",
       "              '2022-11-24_08:00:00',\n",
       "              '2022-11-24_09:00:00',\n",
       "              '2022-11-24_10:00:00',\n",
       "              '2022-11-24_11:00:00',\n",
       "              '2022-11-24_12:00:00',\n",
       "              '2022-11-24_13:00:00',\n",
       "              '2022-11-24_14:00:00',\n",
       "              '2022-11-24_15:00:00',\n",
       "              '2022-11-24_16:00:00',\n",
       "              '2022-11-24_17:00:00',\n",
       "              '2022-11-24_18:00:00',\n",
       "              '2022-11-24_19:00:00',\n",
       "              '2022-11-24_20:00:00',\n",
       "              '2022-11-24_21:00:00',\n",
       "              '2022-11-24_22:00:00',\n",
       "              '2022-11-24_23:00:00',\n",
       "              '2022-11-25_00:00:00',\n",
       "              '2022-11-25_01:00:00',\n",
       "              '2022-11-25_02:00:00',\n",
       "              '2022-11-25_03:00:00',\n",
       "              '2022-11-25_04:00:00',\n",
       "              '2022-11-25_05:00:00',\n",
       "              '2022-11-25_06:00:00',\n",
       "              '2022-11-25_07:00:00',\n",
       "              '2022-11-25_08:00:00',\n",
       "              '2022-11-25_09:00:00',\n",
       "              '2022-11-25_10:00:00',\n",
       "              '2022-11-25_11:00:00',\n",
       "              '2022-11-25_12:00:00',\n",
       "              '2022-11-25_13:00:00',\n",
       "              '2022-11-25_14:00:00',\n",
       "              '2022-11-25_15:00:00',\n",
       "              '2022-11-25_16:00:00',\n",
       "              '2022-11-25_17:00:00',\n",
       "              '2022-11-25_18:00:00',\n",
       "              '2022-11-25_19:00:00',\n",
       "              '2022-11-25_20:00:00',\n",
       "              '2022-11-25_21:00:00',\n",
       "              '2022-11-25_22:00:00',\n",
       "              '2022-11-25_23:00:00',\n",
       "              '2022-11-26_00:00:00',\n",
       "              '2022-11-26_01:00:00',\n",
       "              '2022-11-26_02:00:00',\n",
       "              '2022-11-26_03:00:00',\n",
       "              '2022-11-26_04:00:00',\n",
       "              '2022-11-26_05:00:00',\n",
       "              '2022-11-26_06:00:00',\n",
       "              '2022-11-26_07:00:00',\n",
       "              '2022-11-26_08:00:00',\n",
       "              '2022-11-26_09:00:00',\n",
       "              '2022-11-26_10:00:00',\n",
       "              '2022-11-26_11:00:00',\n",
       "              '2022-11-26_12:00:00',\n",
       "              '2022-11-26_13:00:00',\n",
       "              '2022-11-26_14:00:00',\n",
       "              '2022-11-26_15:00:00',\n",
       "              '2022-11-26_16:00:00',\n",
       "              '2022-11-26_17:00:00',\n",
       "              '2022-11-26_18:00:00',\n",
       "              '2022-11-26_19:00:00',\n",
       "              '2022-11-26_20:00:00',\n",
       "              '2022-11-26_21:00:00',\n",
       "              '2022-11-26_22:00:00',\n",
       "              '2022-11-26_23:00:00',\n",
       "              '2022-11-27_00:00:00',\n",
       "              '2022-11-27_01:00:00',\n",
       "              '2022-11-27_02:00:00',\n",
       "              '2022-11-27_03:00:00',\n",
       "              '2022-11-27_04:00:00',\n",
       "              '2022-11-27_05:00:00',\n",
       "              '2022-11-27_06:00:00',\n",
       "              '2022-11-27_07:00:00',\n",
       "              '2022-11-27_08:00:00',\n",
       "              '2022-11-27_09:00:00',\n",
       "              '2022-11-27_10:00:00',\n",
       "              '2022-11-27_11:00:00',\n",
       "              '2022-11-27_12:00:00',\n",
       "              '2022-11-27_13:00:00',\n",
       "              '2022-11-27_14:00:00',\n",
       "              '2022-11-27_15:00:00',\n",
       "              '2022-11-27_16:00:00',\n",
       "              '2022-11-27_17:00:00',\n",
       "              '2022-11-27_18:00:00',\n",
       "              '2022-11-27_19:00:00',\n",
       "              '2022-11-27_20:00:00',\n",
       "              '2022-11-27_21:00:00',\n",
       "              '2022-11-27_22:00:00',\n",
       "              '2022-11-27_23:00:00',\n",
       "              '2022-11-28_00:00:00',\n",
       "              '2022-11-28_01:00:00',\n",
       "              '2022-11-28_02:00:00',\n",
       "              '2022-11-28_03:00:00',\n",
       "              '2022-11-28_04:00:00',\n",
       "              '2022-11-28_05:00:00',\n",
       "              '2022-11-28_06:00:00',\n",
       "              '2022-11-28_07:00:00',\n",
       "              '2022-11-28_08:00:00',\n",
       "              '2022-11-28_09:00:00',\n",
       "              '2022-11-28_10:00:00',\n",
       "              '2022-11-28_11:00:00',\n",
       "              '2022-11-28_12:00:00',\n",
       "              '2022-11-28_13:00:00',\n",
       "              '2022-11-28_14:00:00',\n",
       "              '2022-11-28_15:00:00',\n",
       "              '2022-11-28_16:00:00',\n",
       "              '2022-11-28_17:00:00',\n",
       "              '2022-11-28_18:00:00',\n",
       "              '2022-11-28_19:00:00',\n",
       "              '2022-11-28_20:00:00',\n",
       "              '2022-11-28_21:00:00',\n",
       "              '2022-11-28_22:00:00',\n",
       "              '2022-11-28_23:00:00',\n",
       "              '2022-11-29_00:00:00',\n",
       "              '2022-11-29_01:00:00',\n",
       "              '2022-11-29_02:00:00',\n",
       "              '2022-11-29_03:00:00',\n",
       "              '2022-11-29_04:00:00',\n",
       "              '2022-11-29_05:00:00',\n",
       "              '2022-11-29_06:00:00',\n",
       "              '2022-11-29_07:00:00',\n",
       "              '2022-11-29_08:00:00',\n",
       "              '2022-11-29_09:00:00',\n",
       "              '2022-11-29_10:00:00',\n",
       "              '2022-11-29_11:00:00',\n",
       "              '2022-11-29_12:00:00',\n",
       "              '2022-11-29_13:00:00',\n",
       "              '2022-11-29_14:00:00',\n",
       "              '2022-11-29_15:00:00',\n",
       "              '2022-11-29_16:00:00',\n",
       "              '2022-11-29_17:00:00',\n",
       "              '2022-11-29_18:00:00',\n",
       "              '2022-11-29_19:00:00',\n",
       "              '2022-11-29_20:00:00',\n",
       "              '2022-11-29_21:00:00',\n",
       "              '2022-11-29_22:00:00',\n",
       "              '2022-11-29_23:00:00',\n",
       "              '2022-11-30_00:00:00',\n",
       "              '2022-11-30_01:00:00',\n",
       "              '2022-11-30_02:00:00',\n",
       "              '2022-11-30_03:00:00',\n",
       "              '2022-11-30_04:00:00',\n",
       "              '2022-11-30_05:00:00',\n",
       "              '2022-11-30_06:00:00',\n",
       "              '2022-11-30_07:00:00',\n",
       "              '2022-11-30_08:00:00',\n",
       "              '2022-11-30_09:00:00',\n",
       "              '2022-11-30_10:00:00',\n",
       "              '2022-11-30_11:00:00',\n",
       "              '2022-11-30_12:00:00',\n",
       "              '2022-11-30_13:00:00',\n",
       "              '2022-11-30_14:00:00',\n",
       "              '2022-11-30_15:00:00',\n",
       "              '2022-11-30_16:00:00',\n",
       "              '2022-11-30_17:00:00',\n",
       "              '2022-11-30_18:00:00',\n",
       "              '2022-11-30_19:00:00',\n",
       "              '2022-11-30_20:00:00',\n",
       "              '2022-11-30_21:00:00',\n",
       "              '2022-11-30_22:00:00',\n",
       "              '2022-11-30_23:00:00'},\n",
       "             '33.938_-117.395': {'2022-03-13_02:00:00',\n",
       "              '2022-11-06_02:00:00',\n",
       "              '2022-11-06_03:00:00',\n",
       "              '2022-11-06_04:00:00',\n",
       "              '2022-11-06_05:00:00',\n",
       "              '2022-11-06_06:00:00',\n",
       "              '2022-11-06_07:00:00',\n",
       "              '2022-11-06_08:00:00',\n",
       "              '2022-11-06_09:00:00',\n",
       "              '2022-11-06_10:00:00',\n",
       "              '2022-11-06_11:00:00',\n",
       "              '2022-11-06_12:00:00',\n",
       "              '2022-11-06_13:00:00',\n",
       "              '2022-11-06_14:00:00',\n",
       "              '2022-11-06_15:00:00',\n",
       "              '2022-11-06_16:00:00',\n",
       "              '2022-11-06_17:00:00',\n",
       "              '2022-11-06_18:00:00',\n",
       "              '2022-11-06_19:00:00',\n",
       "              '2022-11-06_20:00:00',\n",
       "              '2022-11-06_21:00:00',\n",
       "              '2022-11-06_22:00:00',\n",
       "              '2022-11-06_23:00:00',\n",
       "              '2022-11-07_00:00:00',\n",
       "              '2022-11-07_01:00:00',\n",
       "              '2022-11-07_02:00:00',\n",
       "              '2022-11-07_03:00:00',\n",
       "              '2022-11-07_04:00:00',\n",
       "              '2022-11-07_05:00:00',\n",
       "              '2022-11-07_06:00:00',\n",
       "              '2022-11-07_07:00:00',\n",
       "              '2022-11-07_08:00:00',\n",
       "              '2022-11-07_09:00:00',\n",
       "              '2022-11-07_10:00:00',\n",
       "              '2022-11-07_11:00:00',\n",
       "              '2022-11-07_12:00:00',\n",
       "              '2022-11-07_13:00:00',\n",
       "              '2022-11-07_14:00:00',\n",
       "              '2022-11-07_15:00:00',\n",
       "              '2022-11-07_16:00:00',\n",
       "              '2022-11-07_17:00:00',\n",
       "              '2022-11-07_18:00:00',\n",
       "              '2022-11-07_19:00:00',\n",
       "              '2022-11-07_20:00:00',\n",
       "              '2022-11-07_21:00:00',\n",
       "              '2022-11-07_22:00:00',\n",
       "              '2022-11-07_23:00:00',\n",
       "              '2022-11-08_00:00:00',\n",
       "              '2022-11-08_01:00:00',\n",
       "              '2022-11-08_02:00:00',\n",
       "              '2022-11-08_03:00:00',\n",
       "              '2022-11-08_04:00:00',\n",
       "              '2022-11-08_05:00:00',\n",
       "              '2022-11-08_06:00:00',\n",
       "              '2022-11-08_07:00:00',\n",
       "              '2022-11-08_08:00:00',\n",
       "              '2022-11-08_09:00:00',\n",
       "              '2022-11-08_10:00:00',\n",
       "              '2022-11-08_11:00:00',\n",
       "              '2022-11-08_12:00:00',\n",
       "              '2022-11-08_13:00:00',\n",
       "              '2022-11-08_14:00:00',\n",
       "              '2022-11-08_15:00:00',\n",
       "              '2022-11-08_16:00:00',\n",
       "              '2022-11-08_17:00:00',\n",
       "              '2022-11-08_18:00:00',\n",
       "              '2022-11-08_19:00:00',\n",
       "              '2022-11-08_20:00:00',\n",
       "              '2022-11-08_21:00:00',\n",
       "              '2022-11-08_22:00:00',\n",
       "              '2022-11-08_23:00:00',\n",
       "              '2022-11-09_00:00:00',\n",
       "              '2022-11-09_01:00:00',\n",
       "              '2022-11-09_02:00:00',\n",
       "              '2022-11-09_03:00:00',\n",
       "              '2022-11-09_04:00:00',\n",
       "              '2022-11-09_05:00:00',\n",
       "              '2022-11-09_06:00:00',\n",
       "              '2022-11-09_07:00:00',\n",
       "              '2022-11-09_08:00:00',\n",
       "              '2022-11-09_09:00:00',\n",
       "              '2022-11-09_10:00:00',\n",
       "              '2022-11-09_11:00:00',\n",
       "              '2022-11-09_12:00:00',\n",
       "              '2022-11-09_13:00:00',\n",
       "              '2022-11-09_14:00:00',\n",
       "              '2022-11-09_15:00:00',\n",
       "              '2022-11-09_16:00:00',\n",
       "              '2022-11-09_17:00:00',\n",
       "              '2022-11-09_18:00:00',\n",
       "              '2022-11-09_19:00:00',\n",
       "              '2022-11-09_20:00:00',\n",
       "              '2022-11-09_21:00:00',\n",
       "              '2022-11-09_22:00:00',\n",
       "              '2022-11-09_23:00:00',\n",
       "              '2022-11-10_00:00:00',\n",
       "              '2022-11-10_01:00:00',\n",
       "              '2022-11-10_02:00:00',\n",
       "              '2022-11-10_03:00:00',\n",
       "              '2022-11-10_04:00:00',\n",
       "              '2022-11-10_05:00:00',\n",
       "              '2022-11-10_06:00:00',\n",
       "              '2022-11-10_07:00:00',\n",
       "              '2022-11-10_08:00:00',\n",
       "              '2022-11-10_09:00:00',\n",
       "              '2022-11-10_10:00:00',\n",
       "              '2022-11-10_11:00:00',\n",
       "              '2022-11-10_12:00:00',\n",
       "              '2022-11-10_13:00:00',\n",
       "              '2022-11-10_14:00:00',\n",
       "              '2022-11-10_15:00:00',\n",
       "              '2022-11-10_16:00:00',\n",
       "              '2022-11-10_17:00:00',\n",
       "              '2022-11-10_18:00:00',\n",
       "              '2022-11-10_19:00:00',\n",
       "              '2022-11-10_20:00:00',\n",
       "              '2022-11-10_21:00:00',\n",
       "              '2022-11-10_22:00:00',\n",
       "              '2022-11-10_23:00:00',\n",
       "              '2022-11-11_00:00:00',\n",
       "              '2022-11-11_01:00:00',\n",
       "              '2022-11-11_02:00:00',\n",
       "              '2022-11-11_03:00:00',\n",
       "              '2022-11-11_04:00:00',\n",
       "              '2022-11-11_05:00:00',\n",
       "              '2022-11-11_06:00:00',\n",
       "              '2022-11-11_07:00:00',\n",
       "              '2022-11-11_08:00:00',\n",
       "              '2022-11-11_09:00:00',\n",
       "              '2022-11-11_10:00:00',\n",
       "              '2022-11-11_11:00:00',\n",
       "              '2022-11-11_12:00:00',\n",
       "              '2022-11-11_13:00:00',\n",
       "              '2022-11-11_14:00:00',\n",
       "              '2022-11-11_15:00:00',\n",
       "              '2022-11-11_16:00:00',\n",
       "              '2022-11-11_17:00:00',\n",
       "              '2022-11-11_18:00:00',\n",
       "              '2022-11-11_19:00:00',\n",
       "              '2022-11-11_20:00:00',\n",
       "              '2022-11-11_21:00:00',\n",
       "              '2022-11-11_22:00:00',\n",
       "              '2022-11-11_23:00:00',\n",
       "              '2022-11-12_00:00:00',\n",
       "              '2022-11-12_01:00:00',\n",
       "              '2022-11-12_02:00:00',\n",
       "              '2022-11-12_03:00:00',\n",
       "              '2022-11-12_04:00:00',\n",
       "              '2022-11-12_05:00:00',\n",
       "              '2022-11-12_06:00:00',\n",
       "              '2022-11-12_07:00:00',\n",
       "              '2022-11-12_08:00:00',\n",
       "              '2022-11-12_09:00:00',\n",
       "              '2022-11-12_10:00:00',\n",
       "              '2022-11-12_11:00:00',\n",
       "              '2022-11-12_12:00:00',\n",
       "              '2022-11-12_13:00:00',\n",
       "              '2022-11-12_14:00:00',\n",
       "              '2022-11-12_15:00:00',\n",
       "              '2022-11-12_16:00:00',\n",
       "              '2022-11-12_17:00:00',\n",
       "              '2022-11-12_18:00:00',\n",
       "              '2022-11-12_19:00:00',\n",
       "              '2022-11-12_20:00:00',\n",
       "              '2022-11-12_21:00:00',\n",
       "              '2022-11-12_22:00:00',\n",
       "              '2022-11-12_23:00:00',\n",
       "              '2022-11-13_00:00:00',\n",
       "              '2022-11-13_01:00:00',\n",
       "              '2022-11-13_02:00:00',\n",
       "              '2022-11-13_03:00:00',\n",
       "              '2022-11-13_04:00:00',\n",
       "              '2022-11-13_05:00:00',\n",
       "              '2022-11-13_06:00:00',\n",
       "              '2022-11-13_07:00:00',\n",
       "              '2022-11-13_08:00:00',\n",
       "              '2022-11-13_09:00:00',\n",
       "              '2022-11-13_10:00:00',\n",
       "              '2022-11-13_11:00:00',\n",
       "              '2022-11-13_12:00:00',\n",
       "              '2022-11-13_13:00:00',\n",
       "              '2022-11-13_14:00:00',\n",
       "              '2022-11-13_15:00:00',\n",
       "              '2022-11-13_16:00:00',\n",
       "              '2022-11-13_17:00:00',\n",
       "              '2022-11-13_18:00:00',\n",
       "              '2022-11-13_19:00:00',\n",
       "              '2022-11-13_20:00:00',\n",
       "              '2022-11-13_21:00:00',\n",
       "              '2022-11-13_22:00:00',\n",
       "              '2022-11-13_23:00:00',\n",
       "              '2022-11-14_00:00:00',\n",
       "              '2022-11-14_01:00:00',\n",
       "              '2022-11-14_02:00:00',\n",
       "              '2022-11-14_03:00:00',\n",
       "              '2022-11-14_04:00:00',\n",
       "              '2022-11-14_05:00:00',\n",
       "              '2022-11-14_06:00:00',\n",
       "              '2022-11-14_07:00:00',\n",
       "              '2022-11-14_08:00:00',\n",
       "              '2022-11-14_09:00:00',\n",
       "              '2022-11-14_10:00:00',\n",
       "              '2022-11-14_11:00:00',\n",
       "              '2022-11-14_12:00:00',\n",
       "              '2022-11-14_13:00:00',\n",
       "              '2022-11-14_14:00:00',\n",
       "              '2022-11-14_15:00:00',\n",
       "              '2022-11-14_16:00:00',\n",
       "              '2022-11-14_17:00:00',\n",
       "              '2022-11-14_18:00:00',\n",
       "              '2022-11-14_19:00:00',\n",
       "              '2022-11-14_20:00:00',\n",
       "              '2022-11-14_21:00:00',\n",
       "              '2022-11-14_22:00:00',\n",
       "              '2022-11-14_23:00:00',\n",
       "              '2022-11-15_00:00:00',\n",
       "              '2022-11-15_01:00:00',\n",
       "              '2022-11-15_02:00:00',\n",
       "              '2022-11-15_03:00:00',\n",
       "              '2022-11-15_04:00:00',\n",
       "              '2022-11-15_05:00:00',\n",
       "              '2022-11-15_06:00:00',\n",
       "              '2022-11-15_07:00:00',\n",
       "              '2022-11-15_08:00:00',\n",
       "              '2022-11-15_09:00:00',\n",
       "              '2022-11-15_10:00:00',\n",
       "              '2022-11-15_11:00:00',\n",
       "              '2022-11-15_12:00:00',\n",
       "              '2022-11-15_13:00:00',\n",
       "              '2022-11-15_14:00:00',\n",
       "              '2022-11-15_15:00:00',\n",
       "              '2022-11-15_16:00:00',\n",
       "              '2022-11-15_17:00:00',\n",
       "              '2022-11-15_18:00:00',\n",
       "              '2022-11-15_19:00:00',\n",
       "              '2022-11-15_20:00:00',\n",
       "              '2022-11-15_21:00:00',\n",
       "              '2022-11-15_22:00:00',\n",
       "              '2022-11-15_23:00:00',\n",
       "              '2022-11-16_00:00:00',\n",
       "              '2022-11-16_01:00:00',\n",
       "              '2022-11-16_02:00:00',\n",
       "              '2022-11-16_03:00:00',\n",
       "              '2022-11-16_04:00:00',\n",
       "              '2022-11-16_05:00:00',\n",
       "              '2022-11-16_06:00:00',\n",
       "              '2022-11-16_07:00:00',\n",
       "              '2022-11-16_08:00:00',\n",
       "              '2022-11-16_09:00:00',\n",
       "              '2022-11-16_10:00:00',\n",
       "              '2022-11-16_11:00:00',\n",
       "              '2022-11-16_12:00:00',\n",
       "              '2022-11-16_13:00:00',\n",
       "              '2022-11-16_14:00:00',\n",
       "              '2022-11-16_15:00:00',\n",
       "              '2022-11-16_16:00:00',\n",
       "              '2022-11-16_17:00:00',\n",
       "              '2022-11-16_18:00:00',\n",
       "              '2022-11-16_19:00:00',\n",
       "              '2022-11-16_20:00:00',\n",
       "              '2022-11-16_21:00:00',\n",
       "              '2022-11-16_22:00:00',\n",
       "              '2022-11-16_23:00:00',\n",
       "              '2022-11-17_00:00:00',\n",
       "              '2022-11-17_01:00:00',\n",
       "              '2022-11-17_02:00:00',\n",
       "              '2022-11-17_03:00:00',\n",
       "              '2022-11-17_04:00:00',\n",
       "              '2022-11-17_05:00:00',\n",
       "              '2022-11-17_06:00:00',\n",
       "              '2022-11-17_07:00:00',\n",
       "              '2022-11-17_08:00:00',\n",
       "              '2022-11-17_09:00:00',\n",
       "              '2022-11-17_10:00:00',\n",
       "              '2022-11-17_11:00:00',\n",
       "              '2022-11-17_12:00:00',\n",
       "              '2022-11-17_13:00:00',\n",
       "              '2022-11-17_14:00:00',\n",
       "              '2022-11-17_15:00:00',\n",
       "              '2022-11-17_16:00:00',\n",
       "              '2022-11-17_17:00:00',\n",
       "              '2022-11-17_18:00:00',\n",
       "              '2022-11-17_19:00:00',\n",
       "              '2022-11-17_20:00:00',\n",
       "              '2022-11-17_21:00:00',\n",
       "              '2022-11-17_22:00:00',\n",
       "              '2022-11-17_23:00:00',\n",
       "              '2022-11-18_00:00:00',\n",
       "              '2022-11-18_01:00:00',\n",
       "              '2022-11-18_02:00:00',\n",
       "              '2022-11-18_03:00:00',\n",
       "              '2022-11-18_04:00:00',\n",
       "              '2022-11-18_05:00:00',\n",
       "              '2022-11-18_06:00:00',\n",
       "              '2022-11-18_07:00:00',\n",
       "              '2022-11-18_08:00:00',\n",
       "              '2022-11-18_09:00:00',\n",
       "              '2022-11-18_10:00:00',\n",
       "              '2022-11-18_11:00:00',\n",
       "              '2022-11-18_12:00:00',\n",
       "              '2022-11-18_13:00:00',\n",
       "              '2022-11-18_14:00:00',\n",
       "              '2022-11-18_15:00:00',\n",
       "              '2022-11-18_16:00:00',\n",
       "              '2022-11-18_17:00:00',\n",
       "              '2022-11-18_18:00:00',\n",
       "              '2022-11-18_19:00:00',\n",
       "              '2022-11-18_20:00:00',\n",
       "              '2022-11-18_21:00:00',\n",
       "              '2022-11-18_22:00:00',\n",
       "              '2022-11-18_23:00:00',\n",
       "              '2022-11-19_00:00:00',\n",
       "              '2022-11-19_01:00:00',\n",
       "              '2022-11-19_02:00:00',\n",
       "              '2022-11-19_03:00:00',\n",
       "              '2022-11-19_04:00:00',\n",
       "              '2022-11-19_05:00:00',\n",
       "              '2022-11-19_06:00:00',\n",
       "              '2022-11-19_07:00:00',\n",
       "              '2022-11-19_08:00:00',\n",
       "              '2022-11-19_09:00:00',\n",
       "              '2022-11-19_10:00:00',\n",
       "              '2022-11-19_11:00:00',\n",
       "              '2022-11-19_12:00:00',\n",
       "              '2022-11-19_13:00:00',\n",
       "              '2022-11-19_14:00:00',\n",
       "              '2022-11-19_15:00:00',\n",
       "              '2022-11-19_16:00:00',\n",
       "              '2022-11-19_17:00:00',\n",
       "              '2022-11-19_18:00:00',\n",
       "              '2022-11-19_19:00:00',\n",
       "              '2022-11-19_20:00:00',\n",
       "              '2022-11-19_21:00:00',\n",
       "              '2022-11-19_22:00:00',\n",
       "              '2022-11-19_23:00:00',\n",
       "              '2022-11-20_00:00:00',\n",
       "              '2022-11-20_01:00:00',\n",
       "              '2022-11-20_02:00:00',\n",
       "              '2022-11-20_03:00:00',\n",
       "              '2022-11-20_04:00:00',\n",
       "              '2022-11-20_05:00:00',\n",
       "              '2022-11-20_06:00:00',\n",
       "              '2022-11-20_07:00:00',\n",
       "              '2022-11-20_08:00:00',\n",
       "              '2022-11-20_09:00:00',\n",
       "              '2022-11-20_10:00:00',\n",
       "              '2022-11-20_11:00:00',\n",
       "              '2022-11-20_12:00:00',\n",
       "              '2022-11-20_13:00:00',\n",
       "              '2022-11-20_14:00:00',\n",
       "              '2022-11-20_15:00:00',\n",
       "              '2022-11-20_16:00:00',\n",
       "              '2022-11-20_17:00:00',\n",
       "              '2022-11-20_18:00:00',\n",
       "              '2022-11-20_19:00:00',\n",
       "              '2022-11-20_20:00:00',\n",
       "              '2022-11-20_21:00:00',\n",
       "              '2022-11-20_22:00:00',\n",
       "              '2022-11-20_23:00:00',\n",
       "              '2022-11-21_00:00:00',\n",
       "              '2022-11-21_01:00:00',\n",
       "              '2022-11-21_02:00:00',\n",
       "              '2022-11-21_03:00:00',\n",
       "              '2022-11-21_04:00:00',\n",
       "              '2022-11-21_05:00:00',\n",
       "              '2022-11-21_06:00:00',\n",
       "              '2022-11-21_07:00:00',\n",
       "              '2022-11-21_08:00:00',\n",
       "              '2022-11-21_09:00:00',\n",
       "              '2022-11-21_10:00:00',\n",
       "              '2022-11-21_11:00:00',\n",
       "              '2022-11-21_12:00:00',\n",
       "              '2022-11-21_13:00:00',\n",
       "              '2022-11-21_14:00:00',\n",
       "              '2022-11-21_15:00:00',\n",
       "              '2022-11-21_16:00:00',\n",
       "              '2022-11-21_17:00:00',\n",
       "              '2022-11-21_18:00:00',\n",
       "              '2022-11-21_19:00:00',\n",
       "              '2022-11-21_20:00:00',\n",
       "              '2022-11-21_21:00:00',\n",
       "              '2022-11-21_22:00:00',\n",
       "              '2022-11-21_23:00:00',\n",
       "              '2022-11-22_00:00:00',\n",
       "              '2022-11-22_01:00:00',\n",
       "              '2022-11-22_02:00:00',\n",
       "              '2022-11-22_03:00:00',\n",
       "              '2022-11-22_04:00:00',\n",
       "              '2022-11-22_05:00:00',\n",
       "              '2022-11-22_06:00:00',\n",
       "              '2022-11-22_07:00:00',\n",
       "              '2022-11-22_08:00:00',\n",
       "              '2022-11-22_09:00:00',\n",
       "              '2022-11-22_10:00:00',\n",
       "              '2022-11-22_11:00:00',\n",
       "              '2022-11-22_12:00:00',\n",
       "              '2022-11-22_13:00:00',\n",
       "              '2022-11-22_14:00:00',\n",
       "              '2022-11-22_15:00:00',\n",
       "              '2022-11-22_16:00:00',\n",
       "              '2022-11-22_17:00:00',\n",
       "              '2022-11-22_18:00:00',\n",
       "              '2022-11-22_19:00:00',\n",
       "              '2022-11-22_20:00:00',\n",
       "              '2022-11-22_21:00:00',\n",
       "              '2022-11-22_22:00:00',\n",
       "              '2022-11-22_23:00:00',\n",
       "              '2022-11-23_00:00:00',\n",
       "              '2022-11-23_01:00:00',\n",
       "              '2022-11-23_02:00:00',\n",
       "              '2022-11-23_03:00:00',\n",
       "              '2022-11-23_04:00:00',\n",
       "              '2022-11-23_05:00:00',\n",
       "              '2022-11-23_06:00:00',\n",
       "              '2022-11-23_07:00:00',\n",
       "              '2022-11-23_08:00:00',\n",
       "              '2022-11-23_09:00:00',\n",
       "              '2022-11-23_10:00:00',\n",
       "              '2022-11-23_11:00:00',\n",
       "              '2022-11-23_12:00:00',\n",
       "              '2022-11-23_13:00:00',\n",
       "              '2022-11-23_14:00:00',\n",
       "              '2022-11-23_15:00:00',\n",
       "              '2022-11-23_16:00:00',\n",
       "              '2022-11-23_17:00:00',\n",
       "              '2022-11-23_18:00:00',\n",
       "              '2022-11-23_19:00:00',\n",
       "              '2022-11-23_20:00:00',\n",
       "              '2022-11-23_21:00:00',\n",
       "              '2022-11-23_22:00:00',\n",
       "              '2022-11-23_23:00:00',\n",
       "              '2022-11-24_00:00:00',\n",
       "              '2022-11-24_01:00:00',\n",
       "              '2022-11-24_02:00:00',\n",
       "              '2022-11-24_03:00:00',\n",
       "              '2022-11-24_04:00:00',\n",
       "              '2022-11-24_05:00:00',\n",
       "              '2022-11-24_06:00:00',\n",
       "              '2022-11-24_07:00:00',\n",
       "              '2022-11-24_08:00:00',\n",
       "              '2022-11-24_09:00:00',\n",
       "              '2022-11-24_10:00:00',\n",
       "              '2022-11-24_11:00:00',\n",
       "              '2022-11-24_12:00:00',\n",
       "              '2022-11-24_13:00:00',\n",
       "              '2022-11-24_14:00:00',\n",
       "              '2022-11-24_15:00:00',\n",
       "              '2022-11-24_16:00:00',\n",
       "              '2022-11-24_17:00:00',\n",
       "              '2022-11-24_18:00:00',\n",
       "              '2022-11-24_19:00:00',\n",
       "              '2022-11-24_20:00:00',\n",
       "              '2022-11-24_21:00:00',\n",
       "              '2022-11-24_22:00:00',\n",
       "              '2022-11-24_23:00:00',\n",
       "              '2022-11-25_00:00:00',\n",
       "              '2022-11-25_01:00:00',\n",
       "              '2022-11-25_02:00:00',\n",
       "              '2022-11-25_03:00:00',\n",
       "              '2022-11-25_04:00:00',\n",
       "              '2022-11-25_05:00:00',\n",
       "              '2022-11-25_06:00:00',\n",
       "              '2022-11-25_07:00:00',\n",
       "              '2022-11-25_08:00:00',\n",
       "              '2022-11-25_09:00:00',\n",
       "              '2022-11-25_10:00:00',\n",
       "              '2022-11-25_11:00:00',\n",
       "              '2022-11-25_12:00:00',\n",
       "              '2022-11-25_13:00:00',\n",
       "              '2022-11-25_14:00:00',\n",
       "              '2022-11-25_15:00:00',\n",
       "              '2022-11-25_16:00:00',\n",
       "              '2022-11-25_17:00:00',\n",
       "              '2022-11-25_18:00:00',\n",
       "              '2022-11-25_19:00:00',\n",
       "              '2022-11-25_20:00:00',\n",
       "              '2022-11-25_21:00:00',\n",
       "              '2022-11-25_22:00:00',\n",
       "              '2022-11-25_23:00:00',\n",
       "              '2022-11-26_00:00:00',\n",
       "              '2022-11-26_01:00:00',\n",
       "              '2022-11-26_02:00:00',\n",
       "              '2022-11-26_03:00:00',\n",
       "              '2022-11-26_04:00:00',\n",
       "              '2022-11-26_05:00:00',\n",
       "              '2022-11-26_06:00:00',\n",
       "              '2022-11-26_07:00:00',\n",
       "              '2022-11-26_08:00:00',\n",
       "              '2022-11-26_09:00:00',\n",
       "              '2022-11-26_10:00:00',\n",
       "              '2022-11-26_11:00:00',\n",
       "              '2022-11-26_12:00:00',\n",
       "              '2022-11-26_13:00:00',\n",
       "              '2022-11-26_14:00:00',\n",
       "              '2022-11-26_15:00:00',\n",
       "              '2022-11-26_16:00:00',\n",
       "              '2022-11-26_17:00:00',\n",
       "              '2022-11-26_18:00:00',\n",
       "              '2022-11-26_19:00:00',\n",
       "              '2022-11-26_20:00:00',\n",
       "              '2022-11-26_21:00:00',\n",
       "              '2022-11-26_22:00:00',\n",
       "              '2022-11-26_23:00:00',\n",
       "              '2022-11-27_00:00:00',\n",
       "              '2022-11-27_01:00:00',\n",
       "              '2022-11-27_02:00:00',\n",
       "              '2022-11-27_03:00:00',\n",
       "              '2022-11-27_04:00:00',\n",
       "              '2022-11-27_05:00:00',\n",
       "              '2022-11-27_06:00:00',\n",
       "              '2022-11-27_07:00:00',\n",
       "              '2022-11-27_08:00:00',\n",
       "              '2022-11-27_09:00:00',\n",
       "              '2022-11-27_10:00:00',\n",
       "              '2022-11-27_11:00:00',\n",
       "              '2022-11-27_12:00:00',\n",
       "              '2022-11-27_13:00:00',\n",
       "              '2022-11-27_14:00:00',\n",
       "              '2022-11-27_15:00:00',\n",
       "              '2022-11-27_16:00:00',\n",
       "              '2022-11-27_17:00:00',\n",
       "              '2022-11-27_18:00:00',\n",
       "              '2022-11-27_19:00:00',\n",
       "              '2022-11-27_20:00:00',\n",
       "              '2022-11-27_21:00:00',\n",
       "              '2022-11-27_22:00:00',\n",
       "              '2022-11-27_23:00:00',\n",
       "              '2022-11-28_00:00:00',\n",
       "              '2022-11-28_01:00:00',\n",
       "              '2022-11-28_02:00:00',\n",
       "              '2022-11-28_03:00:00',\n",
       "              '2022-11-28_04:00:00',\n",
       "              '2022-11-28_05:00:00',\n",
       "              '2022-11-28_06:00:00',\n",
       "              '2022-11-28_07:00:00',\n",
       "              '2022-11-28_08:00:00',\n",
       "              '2022-11-28_09:00:00',\n",
       "              '2022-11-28_10:00:00',\n",
       "              '2022-11-28_11:00:00',\n",
       "              '2022-11-28_12:00:00',\n",
       "              '2022-11-28_13:00:00',\n",
       "              '2022-11-28_14:00:00',\n",
       "              '2022-11-28_15:00:00',\n",
       "              '2022-11-28_16:00:00',\n",
       "              '2022-11-28_17:00:00',\n",
       "              '2022-11-28_18:00:00',\n",
       "              '2022-11-28_19:00:00',\n",
       "              '2022-11-28_20:00:00',\n",
       "              '2022-11-28_21:00:00',\n",
       "              '2022-11-28_22:00:00',\n",
       "              '2022-11-28_23:00:00',\n",
       "              '2022-11-29_00:00:00',\n",
       "              '2022-11-29_01:00:00',\n",
       "              '2022-11-29_02:00:00',\n",
       "              '2022-11-29_03:00:00',\n",
       "              '2022-11-29_04:00:00',\n",
       "              '2022-11-29_05:00:00',\n",
       "              '2022-11-29_06:00:00',\n",
       "              '2022-11-29_07:00:00',\n",
       "              '2022-11-29_08:00:00',\n",
       "              '2022-11-29_09:00:00',\n",
       "              '2022-11-29_10:00:00',\n",
       "              '2022-11-29_11:00:00',\n",
       "              '2022-11-29_12:00:00',\n",
       "              '2022-11-29_13:00:00',\n",
       "              '2022-11-29_14:00:00',\n",
       "              '2022-11-29_15:00:00',\n",
       "              '2022-11-29_16:00:00',\n",
       "              '2022-11-29_17:00:00',\n",
       "              '2022-11-29_18:00:00',\n",
       "              '2022-11-29_19:00:00',\n",
       "              '2022-11-29_20:00:00',\n",
       "              '2022-11-29_21:00:00',\n",
       "              '2022-11-29_22:00:00',\n",
       "              '2022-11-29_23:00:00',\n",
       "              '2022-11-30_00:00:00',\n",
       "              '2022-11-30_01:00:00',\n",
       "              '2022-11-30_02:00:00',\n",
       "              '2022-11-30_03:00:00',\n",
       "              '2022-11-30_04:00:00',\n",
       "              '2022-11-30_05:00:00',\n",
       "              '2022-11-30_06:00:00',\n",
       "              '2022-11-30_07:00:00',\n",
       "              '2022-11-30_08:00:00',\n",
       "              '2022-11-30_09:00:00',\n",
       "              '2022-11-30_10:00:00',\n",
       "              '2022-11-30_11:00:00',\n",
       "              '2022-11-30_12:00:00',\n",
       "              '2022-11-30_13:00:00',\n",
       "              '2022-11-30_14:00:00',\n",
       "              '2022-11-30_15:00:00',\n",
       "              '2022-11-30_16:00:00',\n",
       "              '2022-11-30_17:00:00',\n",
       "              '2022-11-30_18:00:00',\n",
       "              '2022-11-30_19:00:00',\n",
       "              '2022-11-30_20:00:00',\n",
       "              '2022-11-30_21:00:00',\n",
       "              '2022-11-30_22:00:00',\n",
       "              '2022-11-30_23:00:00'}})"
      ]
     },
     "execution_count": 112,
     "metadata": {},
     "output_type": "execute_result"
    }
   ],
   "source": [
    "results"
   ]
  },
  {
   "cell_type": "code",
   "execution_count": 114,
   "metadata": {},
   "outputs": [
    {
     "data": {
      "text/plain": [
       "{'_id_': {'v': 2, 'key': [('_id', 1)]},\n",
       " 'lat_-1_lon_1': {'v': 2, 'key': [('lat', -1), ('lon', 1)]}}"
      ]
     },
     "execution_count": 114,
     "metadata": {},
     "output_type": "execute_result"
    }
   ],
   "source": [
    "mongo.collection.index_information()"
   ]
  },
  {
   "cell_type": "code",
   "execution_count": 115,
   "metadata": {},
   "outputs": [
    {
     "data": {
      "text/plain": [
       "dict_keys(['34.114_-118.407', '37.756_-122.443', '32.831_-117.122', '33.938_-117.395'])"
      ]
     },
     "execution_count": 115,
     "metadata": {},
     "output_type": "execute_result"
    }
   ],
   "source": [
    "results.keys()"
   ]
  },
  {
   "cell_type": "code",
   "execution_count": 3,
   "metadata": {},
   "outputs": [],
   "source": [
    "from spark_cache import SparkCache"
   ]
  },
  {
   "cell_type": "code",
   "execution_count": 78,
   "metadata": {},
   "outputs": [
    {
     "name": "stderr",
     "output_type": "stream",
     "text": [
      "100%|██████████| 450/450 [05:10<00:00,  1.45it/s]\n"
     ]
    }
   ],
   "source": [
    "locations = load_location_data()\n",
    "\n",
    "spark_cache = SparkCache()\n",
    "\n",
    "files = []\n",
    "\n",
    "for lat, lon in tqdm(locations):\n",
    "    file = f\"data/vc_{lat}_{lon}_2022_11.csv\"\n",
    "    spark_cache.add_file(file)\n",
    "    files.append(file)\n"
   ]
  },
  {
   "cell_type": "code",
   "execution_count": 5,
   "metadata": {},
   "outputs": [],
   "source": [
    "from airflow_dag import process_data_with_spark_store_in_mongo"
   ]
  },
  {
   "cell_type": "code",
   "execution_count": 79,
   "metadata": {},
   "outputs": [
    {
     "name": "stdout",
     "output_type": "stream",
     "text": [
      "[\u001b[34m2023-02-28 15:16:13,154\u001b[0m] {\u001b[34mairflow_dag.py:\u001b[0m96} INFO\u001b[0m - (0) Processing: gcp_filename = 'data/vc_34.114_-118.407_2022_11.csv'\u001b[0m\n"
     ]
    },
    {
     "name": "stderr",
     "output_type": "stream",
     "text": [
      "                                                                                \r"
     ]
    },
    {
     "name": "stdout",
     "output_type": "stream",
     "text": [
      "[\u001b[34m2023-02-28 15:16:19,758\u001b[0m] {\u001b[34mairflow_dag.py:\u001b[0m96} INFO\u001b[0m - (1) Processing: gcp_filename = 'data/vc_37.756_-122.443_2022_11.csv'\u001b[0m\n",
      "[\u001b[34m2023-02-28 15:16:22,653\u001b[0m] {\u001b[34mairflow_dag.py:\u001b[0m96} INFO\u001b[0m - (2) Processing: gcp_filename = 'data/vc_32.831_-117.122_2022_11.csv'\u001b[0m\n"
     ]
    },
    {
     "name": "stderr",
     "output_type": "stream",
     "text": [
      "                                                                                \r"
     ]
    },
    {
     "name": "stdout",
     "output_type": "stream",
     "text": [
      "[\u001b[34m2023-02-28 15:16:26,177\u001b[0m] {\u001b[34mairflow_dag.py:\u001b[0m96} INFO\u001b[0m - (3) Processing: gcp_filename = 'data/vc_33.938_-117.395_2022_11.csv'\u001b[0m\n"
     ]
    },
    {
     "name": "stderr",
     "output_type": "stream",
     "text": [
      "                                                                                \r"
     ]
    },
    {
     "name": "stdout",
     "output_type": "stream",
     "text": [
      "[\u001b[34m2023-02-28 15:16:31,041\u001b[0m] {\u001b[34mairflow_dag.py:\u001b[0m96} INFO\u001b[0m - (4) Processing: gcp_filename = 'data/vc_38.567_-121.468_2022_11.csv'\u001b[0m\n"
     ]
    },
    {
     "name": "stderr",
     "output_type": "stream",
     "text": [
      "                                                                                \r"
     ]
    },
    {
     "name": "stdout",
     "output_type": "stream",
     "text": [
      "[\u001b[34m2023-02-28 15:16:35,626\u001b[0m] {\u001b[34mairflow_dag.py:\u001b[0m96} INFO\u001b[0m - (5) Processing: gcp_filename = 'data/vc_37.302_-121.849_2022_11.csv'\u001b[0m\n"
     ]
    },
    {
     "name": "stderr",
     "output_type": "stream",
     "text": [
      "                                                                                \r"
     ]
    },
    {
     "name": "stdout",
     "output_type": "stream",
     "text": [
      "[\u001b[34m2023-02-28 15:16:40,744\u001b[0m] {\u001b[34mairflow_dag.py:\u001b[0m96} INFO\u001b[0m - (6) Processing: gcp_filename = 'data/vc_36.783_-119.794_2022_11.csv'\u001b[0m\n",
      "[\u001b[34m2023-02-28 15:16:44,688\u001b[0m] {\u001b[34mairflow_dag.py:\u001b[0m96} INFO\u001b[0m - (7) Processing: gcp_filename = 'data/vc_37.972_-122.002_2022_11.csv'\u001b[0m\n",
      "[\u001b[34m2023-02-28 15:16:49,940\u001b[0m] {\u001b[34mairflow_dag.py:\u001b[0m96} INFO\u001b[0m - (8) Processing: gcp_filename = 'data/vc_33.61_-117.655_2022_11.csv'\u001b[0m\n"
     ]
    },
    {
     "name": "stderr",
     "output_type": "stream",
     "text": [
      "                                                                                \r"
     ]
    },
    {
     "name": "stdout",
     "output_type": "stream",
     "text": [
      "[\u001b[34m2023-02-28 15:16:53,855\u001b[0m] {\u001b[34mairflow_dag.py:\u001b[0m96} INFO\u001b[0m - (9) Processing: gcp_filename = 'data/vc_35.353_-119.036_2022_11.csv'\u001b[0m\n"
     ]
    },
    {
     "name": "stderr",
     "output_type": "stream",
     "text": [
      "                                                                                \r"
     ]
    },
    {
     "name": "stdout",
     "output_type": "stream",
     "text": [
      "[\u001b[34m2023-02-28 15:16:57,517\u001b[0m] {\u001b[34mairflow_dag.py:\u001b[0m96} INFO\u001b[0m - (10) Processing: gcp_filename = 'data/vc_33.572_-117.191_2022_11.csv'\u001b[0m\n"
     ]
    },
    {
     "name": "stderr",
     "output_type": "stream",
     "text": [
      "                                                                                \r"
     ]
    },
    {
     "name": "stdout",
     "output_type": "stream",
     "text": [
      "[\u001b[34m2023-02-28 15:17:07,100\u001b[0m] {\u001b[34mairflow_dag.py:\u001b[0m96} INFO\u001b[0m - (11) Processing: gcp_filename = 'data/vc_33.798_-118.168_2022_11.csv'\u001b[0m\n"
     ]
    },
    {
     "name": "stderr",
     "output_type": "stream",
     "text": [
      "                                                                                \r"
     ]
    },
    {
     "name": "stdout",
     "output_type": "stream",
     "text": [
      "[\u001b[34m2023-02-28 15:17:09,782\u001b[0m] {\u001b[34mairflow_dag.py:\u001b[0m96} INFO\u001b[0m - (12) Processing: gcp_filename = 'data/vc_37.79_-122.216_2022_11.csv'\u001b[0m\n"
     ]
    },
    {
     "name": "stderr",
     "output_type": "stream",
     "text": [
      "                                                                                \r"
     ]
    },
    {
     "name": "stdout",
     "output_type": "stream",
     "text": [
      "[\u001b[34m2023-02-28 15:17:18,090\u001b[0m] {\u001b[34mairflow_dag.py:\u001b[0m96} INFO\u001b[0m - (13) Processing: gcp_filename = 'data/vc_33.735_-116.235_2022_11.csv'\u001b[0m\n"
     ]
    },
    {
     "name": "stderr",
     "output_type": "stream",
     "text": [
      "                                                                                \r"
     ]
    },
    {
     "name": "stdout",
     "output_type": "stream",
     "text": [
      "[\u001b[34m2023-02-28 15:17:23,493\u001b[0m] {\u001b[34mairflow_dag.py:\u001b[0m96} INFO\u001b[0m - (14) Processing: gcp_filename = 'data/vc_37.976_-121.311_2022_11.csv'\u001b[0m\n",
      "[\u001b[34m2023-02-28 15:17:27,927\u001b[0m] {\u001b[34mairflow_dag.py:\u001b[0m96} INFO\u001b[0m - (15) Processing: gcp_filename = 'data/vc_34.196_-119.182_2022_11.csv'\u001b[0m\n",
      "[\u001b[34m2023-02-28 15:17:31,902\u001b[0m] {\u001b[34mairflow_dag.py:\u001b[0m96} INFO\u001b[0m - (16) Processing: gcp_filename = 'data/vc_37.637_-121.003_2022_11.csv'\u001b[0m\n",
      "[\u001b[34m2023-02-28 15:17:40,536\u001b[0m] {\u001b[34mairflow_dag.py:\u001b[0m96} INFO\u001b[0m - (17) Processing: gcp_filename = 'data/vc_33.839_-117.857_2022_11.csv'\u001b[0m\n"
     ]
    },
    {
     "name": "stderr",
     "output_type": "stream",
     "text": [
      "                                                                                \r"
     ]
    },
    {
     "name": "stdout",
     "output_type": "stream",
     "text": [
      "[\u001b[34m2023-02-28 15:17:44,464\u001b[0m] {\u001b[34mairflow_dag.py:\u001b[0m96} INFO\u001b[0m - (18) Processing: gcp_filename = 'data/vc_34.528_-117.354_2022_11.csv'\u001b[0m\n",
      "[\u001b[34m2023-02-28 15:17:47,335\u001b[0m] {\u001b[34mairflow_dag.py:\u001b[0m96} INFO\u001b[0m - (19) Processing: gcp_filename = 'data/vc_34.694_-118.175_2022_11.csv'\u001b[0m\n",
      "[\u001b[34m2023-02-28 15:17:49,555\u001b[0m] {\u001b[34mairflow_dag.py:\u001b[0m96} INFO\u001b[0m - (20) Processing: gcp_filename = 'data/vc_33.737_-117.882_2022_11.csv'\u001b[0m\n"
     ]
    },
    {
     "name": "stderr",
     "output_type": "stream",
     "text": [
      "                                                                                \r"
     ]
    },
    {
     "name": "stdout",
     "output_type": "stream",
     "text": [
      "[\u001b[34m2023-02-28 15:17:56,211\u001b[0m] {\u001b[34mairflow_dag.py:\u001b[0m96} INFO\u001b[0m - (21) Processing: gcp_filename = 'data/vc_38.446_-122.707_2022_11.csv'\u001b[0m\n"
     ]
    },
    {
     "name": "stderr",
     "output_type": "stream",
     "text": [
      "                                                                                \r"
     ]
    },
    {
     "name": "stdout",
     "output_type": "stream",
     "text": [
      "[\u001b[34m2023-02-28 15:18:03,707\u001b[0m] {\u001b[34mairflow_dag.py:\u001b[0m96} INFO\u001b[0m - (22) Processing: gcp_filename = 'data/vc_34.418_-118.496_2022_11.csv'\u001b[0m\n"
     ]
    },
    {
     "name": "stderr",
     "output_type": "stream",
     "text": [
      "                                                                                \r"
     ]
    },
    {
     "name": "stdout",
     "output_type": "stream",
     "text": [
      "[\u001b[34m2023-02-28 15:18:09,341\u001b[0m] {\u001b[34mairflow_dag.py:\u001b[0m96} INFO\u001b[0m - (23) Processing: gcp_filename = 'data/vc_37.979_-121.796_2022_11.csv'\u001b[0m\n"
     ]
    },
    {
     "name": "stderr",
     "output_type": "stream",
     "text": [
      "                                                                                \r"
     ]
    },
    {
     "name": "stdout",
     "output_type": "stream",
     "text": [
      "[\u001b[34m2023-02-28 15:18:12,097\u001b[0m] {\u001b[34mairflow_dag.py:\u001b[0m96} INFO\u001b[0m - (24) Processing: gcp_filename = 'data/vc_33.677_-117.774_2022_11.csv'\u001b[0m\n"
     ]
    },
    {
     "name": "stderr",
     "output_type": "stream",
     "text": [
      "                                                                                \r"
     ]
    },
    {
     "name": "stdout",
     "output_type": "stream",
     "text": [
      "[\u001b[34m2023-02-28 15:18:15,914\u001b[0m] {\u001b[34mairflow_dag.py:\u001b[0m96} INFO\u001b[0m - (25) Processing: gcp_filename = 'data/vc_32.628_-117.014_2022_11.csv'\u001b[0m\n",
      "[\u001b[34m2023-02-28 15:18:19,063\u001b[0m] {\u001b[34mairflow_dag.py:\u001b[0m96} INFO\u001b[0m - (26) Processing: gcp_filename = 'data/vc_37.526_-121.985_2022_11.csv'\u001b[0m\n",
      "[\u001b[34m2023-02-28 15:18:22,446\u001b[0m] {\u001b[34mairflow_dag.py:\u001b[0m96} INFO\u001b[0m - (27) Processing: gcp_filename = 'data/vc_36.328_-119.327_2022_11.csv'\u001b[0m\n",
      "[\u001b[34m2023-02-28 15:18:27,164\u001b[0m] {\u001b[34mairflow_dag.py:\u001b[0m96} INFO\u001b[0m - (28) Processing: gcp_filename = 'data/vc_34.142_-117.295_2022_11.csv'\u001b[0m\n",
      "[\u001b[34m2023-02-28 15:18:29,918\u001b[0m] {\u001b[34mairflow_dag.py:\u001b[0m96} INFO\u001b[0m - (29) Processing: gcp_filename = 'data/vc_34.191_-118.876_2022_11.csv'\u001b[0m\n"
     ]
    },
    {
     "name": "stderr",
     "output_type": "stream",
     "text": [
      "                                                                                \r"
     ]
    },
    {
     "name": "stdout",
     "output_type": "stream",
     "text": [
      "[\u001b[34m2023-02-28 15:18:33,988\u001b[0m] {\u001b[34mairflow_dag.py:\u001b[0m96} INFO\u001b[0m - (30) Processing: gcp_filename = 'data/vc_34.097_-117.46_2022_11.csv'\u001b[0m\n",
      "[\u001b[34m2023-02-28 15:18:38,172\u001b[0m] {\u001b[34mairflow_dag.py:\u001b[0m96} INFO\u001b[0m - (31) Processing: gcp_filename = 'data/vc_33.924_-117.204_2022_11.csv'\u001b[0m\n",
      "[\u001b[34m2023-02-28 15:18:44,589\u001b[0m] {\u001b[34mairflow_dag.py:\u001b[0m96} INFO\u001b[0m - (32) Processing: gcp_filename = 'data/vc_34.428_-119.72_2022_11.csv'\u001b[0m\n"
     ]
    },
    {
     "name": "stderr",
     "output_type": "stream",
     "text": [
      "                                                                                \r"
     ]
    },
    {
     "name": "stdout",
     "output_type": "stream",
     "text": [
      "[\u001b[34m2023-02-28 15:18:52,456\u001b[0m] {\u001b[34mairflow_dag.py:\u001b[0m96} INFO\u001b[0m - (33) Processing: gcp_filename = 'data/vc_34.182_-118.247_2022_11.csv'\u001b[0m\n"
     ]
    },
    {
     "name": "stderr",
     "output_type": "stream",
     "text": [
      "                                                                                \r"
     ]
    },
    {
     "name": "stdout",
     "output_type": "stream",
     "text": [
      "[\u001b[34m2023-02-28 15:18:57,039\u001b[0m] {\u001b[34mairflow_dag.py:\u001b[0m96} INFO\u001b[0m - (34) Processing: gcp_filename = 'data/vc_33.696_-118.002_2022_11.csv'\u001b[0m\n",
      "[\u001b[34m2023-02-28 15:19:00,706\u001b[0m] {\u001b[34mairflow_dag.py:\u001b[0m96} INFO\u001b[0m - (35) Processing: gcp_filename = 'data/vc_36.688_-121.632_2022_11.csv'\u001b[0m\n"
     ]
    },
    {
     "name": "stderr",
     "output_type": "stream",
     "text": [
      "                                                                                \r"
     ]
    },
    {
     "name": "stdout",
     "output_type": "stream",
     "text": [
      "[\u001b[34m2023-02-28 15:19:03,456\u001b[0m] {\u001b[34mairflow_dag.py:\u001b[0m96} INFO\u001b[0m - (36) Processing: gcp_filename = 'data/vc_34.039_-117.606_2022_11.csv'\u001b[0m\n"
     ]
    },
    {
     "name": "stderr",
     "output_type": "stream",
     "text": [
      "                                                                                \r"
     ]
    },
    {
     "name": "stdout",
     "output_type": "stream",
     "text": [
      "[\u001b[34m2023-02-28 15:19:07,278\u001b[0m] {\u001b[34mairflow_dag.py:\u001b[0m96} INFO\u001b[0m - (37) Processing: gcp_filename = 'data/vc_34.125_-117.567_2022_11.csv'\u001b[0m\n",
      "[\u001b[34m2023-02-28 15:19:10,416\u001b[0m] {\u001b[34mairflow_dag.py:\u001b[0m96} INFO\u001b[0m - (38) Processing: gcp_filename = 'data/vc_33.734_-116.997_2022_11.csv'\u001b[0m\n",
      "[\u001b[34m2023-02-28 15:19:13,288\u001b[0m] {\u001b[34mairflow_dag.py:\u001b[0m96} INFO\u001b[0m - (39) Processing: gcp_filename = 'data/vc_36.979_-122.035_2022_11.csv'\u001b[0m\n",
      "[\u001b[34m2023-02-28 15:19:16,039\u001b[0m] {\u001b[34mairflow_dag.py:\u001b[0m96} INFO\u001b[0m - (40) Processing: gcp_filename = 'data/vc_33.225_-117.308_2022_11.csv'\u001b[0m\n"
     ]
    },
    {
     "name": "stderr",
     "output_type": "stream",
     "text": [
      "                                                                                \r"
     ]
    },
    {
     "name": "stdout",
     "output_type": "stream",
     "text": [
      "[\u001b[34m2023-02-28 15:19:25,473\u001b[0m] {\u001b[34mairflow_dag.py:\u001b[0m96} INFO\u001b[0m - (41) Processing: gcp_filename = 'data/vc_38.416_-121.384_2022_11.csv'\u001b[0m\n"
     ]
    },
    {
     "name": "stderr",
     "output_type": "stream",
     "text": [
      "                                                                                \r"
     ]
    },
    {
     "name": "stdout",
     "output_type": "stream",
     "text": [
      "[\u001b[34m2023-02-28 15:19:30,073\u001b[0m] {\u001b[34mairflow_dag.py:\u001b[0m96} INFO\u001b[0m - (42) Processing: gcp_filename = 'data/vc_38.113_-122.236_2022_11.csv'\u001b[0m\n",
      "[\u001b[34m2023-02-28 15:19:32,806\u001b[0m] {\u001b[34mairflow_dag.py:\u001b[0m96} INFO\u001b[0m - (43) Processing: gcp_filename = 'data/vc_33.779_-117.96_2022_11.csv'\u001b[0m\n"
     ]
    },
    {
     "name": "stderr",
     "output_type": "stream",
     "text": [
      "                                                                                \r"
     ]
    },
    {
     "name": "stdout",
     "output_type": "stream",
     "text": [
      "[\u001b[34m2023-02-28 15:19:36,615\u001b[0m] {\u001b[34mairflow_dag.py:\u001b[0m96} INFO\u001b[0m - (44) Processing: gcp_filename = 'data/vc_33.862_-117.565_2022_11.csv'\u001b[0m\n",
      "[\u001b[34m2023-02-28 15:19:40,015\u001b[0m] {\u001b[34mairflow_dag.py:\u001b[0m96} INFO\u001b[0m - (45) Processing: gcp_filename = 'data/vc_37.633_-122.077_2022_11.csv'\u001b[0m\n",
      "[\u001b[34m2023-02-28 15:19:45,914\u001b[0m] {\u001b[34mairflow_dag.py:\u001b[0m96} INFO\u001b[0m - (46) Processing: gcp_filename = 'data/vc_34.594_-118.106_2022_11.csv'\u001b[0m\n"
     ]
    },
    {
     "name": "stderr",
     "output_type": "stream",
     "text": [
      "                                                                                \r"
     ]
    },
    {
     "name": "stdout",
     "output_type": "stream",
     "text": [
      "[\u001b[34m2023-02-28 15:19:49,973\u001b[0m] {\u001b[34mairflow_dag.py:\u001b[0m96} INFO\u001b[0m - (47) Processing: gcp_filename = 'data/vc_37.384_-122.026_2022_11.csv'\u001b[0m\n"
     ]
    },
    {
     "name": "stderr",
     "output_type": "stream",
     "text": [
      "                                                                                \r"
     ]
    },
    {
     "name": "stdout",
     "output_type": "stream",
     "text": [
      "[\u001b[34m2023-02-28 15:19:52,725\u001b[0m] {\u001b[34mairflow_dag.py:\u001b[0m96} INFO\u001b[0m - (48) Processing: gcp_filename = 'data/vc_34.058_-117.763_2022_11.csv'\u001b[0m\n",
      "[\u001b[34m2023-02-28 15:19:55,348\u001b[0m] {\u001b[34mairflow_dag.py:\u001b[0m96} INFO\u001b[0m - (49) Processing: gcp_filename = 'data/vc_33.135_-117.072_2022_11.csv'\u001b[0m\n"
     ]
    },
    {
     "name": "stderr",
     "output_type": "stream",
     "text": [
      "                                                                                \r"
     ]
    },
    {
     "name": "stdout",
     "output_type": "stream",
     "text": [
      "[\u001b[34m2023-02-28 15:19:59,014\u001b[0m] {\u001b[34mairflow_dag.py:\u001b[0m96} INFO\u001b[0m - (50) Processing: gcp_filename = 'data/vc_38.259_-122.032_2022_11.csv'\u001b[0m\n",
      "[\u001b[34m2023-02-28 15:20:01,643\u001b[0m] {\u001b[34mairflow_dag.py:\u001b[0m96} INFO\u001b[0m - (51) Processing: gcp_filename = 'data/vc_33.835_-118.342_2022_11.csv'\u001b[0m\n",
      "[\u001b[34m2023-02-28 15:20:05,699\u001b[0m] {\u001b[34mairflow_dag.py:\u001b[0m96} INFO\u001b[0m - (52) Processing: gcp_filename = 'data/vc_34.933_-120.443_2022_11.csv'\u001b[0m\n"
     ]
    },
    {
     "name": "stderr",
     "output_type": "stream",
     "text": [
      "                                                                                \r"
     ]
    },
    {
     "name": "stdout",
     "output_type": "stream",
     "text": [
      "[\u001b[34m2023-02-28 15:20:08,450\u001b[0m] {\u001b[34mairflow_dag.py:\u001b[0m96} INFO\u001b[0m - (53) Processing: gcp_filename = 'data/vc_33.884_-117.928_2022_11.csv'\u001b[0m\n"
     ]
    },
    {
     "name": "stderr",
     "output_type": "stream",
     "text": [
      "                                                                                \r"
     ]
    },
    {
     "name": "stdout",
     "output_type": "stream",
     "text": [
      "[\u001b[34m2023-02-28 15:20:13,035\u001b[0m] {\u001b[34mairflow_dag.py:\u001b[0m96} INFO\u001b[0m - (54) Processing: gcp_filename = 'data/vc_37.364_-121.968_2022_11.csv'\u001b[0m\n",
      "[\u001b[34m2023-02-28 15:20:16,180\u001b[0m] {\u001b[34mairflow_dag.py:\u001b[0m96} INFO\u001b[0m - (55) Processing: gcp_filename = 'data/vc_40.57_-122.365_2022_11.csv'\u001b[0m\n",
      "[\u001b[34m2023-02-28 15:20:18,408\u001b[0m] {\u001b[34mairflow_dag.py:\u001b[0m96} INFO\u001b[0m - (56) Processing: gcp_filename = 'data/vc_39.136_-121.638_2022_11.csv'\u001b[0m\n"
     ]
    },
    {
     "name": "stderr",
     "output_type": "stream",
     "text": [
      "                                                                                \r"
     ]
    },
    {
     "name": "stdout",
     "output_type": "stream",
     "text": [
      "[\u001b[34m2023-02-28 15:20:22,164\u001b[0m] {\u001b[34mairflow_dag.py:\u001b[0m96} INFO\u001b[0m - (57) Processing: gcp_filename = 'data/vc_37.005_-121.586_2022_11.csv'\u001b[0m\n",
      "[\u001b[34m2023-02-28 15:20:24,116\u001b[0m] {\u001b[34mairflow_dag.py:\u001b[0m96} INFO\u001b[0m - (58) Processing: gcp_filename = 'data/vc_39.758_-121.815_2022_11.csv'\u001b[0m\n",
      "[\u001b[34m2023-02-28 15:20:26,662\u001b[0m] {\u001b[34mairflow_dag.py:\u001b[0m96} INFO\u001b[0m - (59) Processing: gcp_filename = 'data/vc_33.125_-117.284_2022_11.csv'\u001b[0m\n",
      "[\u001b[34m2023-02-28 15:20:28,889\u001b[0m] {\u001b[34mairflow_dag.py:\u001b[0m96} INFO\u001b[0m - (60) Processing: gcp_filename = 'data/vc_36.828_-119.683_2022_11.csv'\u001b[0m\n",
      "[\u001b[34m2023-02-28 15:20:30,856\u001b[0m] {\u001b[34mairflow_dag.py:\u001b[0m96} INFO\u001b[0m - (61) Processing: gcp_filename = 'data/vc_33.938_-118.131_2022_11.csv'\u001b[0m\n",
      "[\u001b[34m2023-02-28 15:20:33,084\u001b[0m] {\u001b[34mairflow_dag.py:\u001b[0m96} INFO\u001b[0m - (62) Processing: gcp_filename = 'data/vc_33.957_-118.344_2022_11.csv'\u001b[0m\n"
     ]
    },
    {
     "name": "stderr",
     "output_type": "stream",
     "text": [
      "                                                                                \r"
     ]
    },
    {
     "name": "stdout",
     "output_type": "stream",
     "text": [
      "[\u001b[34m2023-02-28 15:20:35,515\u001b[0m] {\u001b[34mairflow_dag.py:\u001b[0m96} INFO\u001b[0m - (63) Processing: gcp_filename = 'data/vc_37.505_-120.859_2022_11.csv'\u001b[0m\n",
      "[\u001b[34m2023-02-28 15:20:41,990\u001b[0m] {\u001b[34mairflow_dag.py:\u001b[0m96} INFO\u001b[0m - (64) Processing: gcp_filename = 'data/vc_37.686_-122.468_2022_11.csv'\u001b[0m\n"
     ]
    },
    {
     "name": "stderr",
     "output_type": "stream",
     "text": [
      "                                                                                \r"
     ]
    },
    {
     "name": "stdout",
     "output_type": "stream",
     "text": [
      "[\u001b[34m2023-02-28 15:20:47,104\u001b[0m] {\u001b[34mairflow_dag.py:\u001b[0m96} INFO\u001b[0m - (65) Processing: gcp_filename = 'data/vc_34.056_-117.911_2022_11.csv'\u001b[0m\n",
      "[\u001b[34m2023-02-28 15:20:50,249\u001b[0m] {\u001b[34mairflow_dag.py:\u001b[0m96} INFO\u001b[0m - (66) Processing: gcp_filename = 'data/vc_32.802_-116.96_2022_11.csv'\u001b[0m\n",
      "[\u001b[34m2023-02-28 15:20:53,391\u001b[0m] {\u001b[34mairflow_dag.py:\u001b[0m96} INFO\u001b[0m - (67) Processing: gcp_filename = 'data/vc_38.359_-121.968_2022_11.csv'\u001b[0m\n",
      "[\u001b[34m2023-02-28 15:20:57,065\u001b[0m] {\u001b[34mairflow_dag.py:\u001b[0m96} INFO\u001b[0m - (68) Processing: gcp_filename = 'data/vc_33.135_-117.174_2022_11.csv'\u001b[0m\n",
      "[\u001b[34m2023-02-28 15:20:59,291\u001b[0m] {\u001b[34mairflow_dag.py:\u001b[0m96} INFO\u001b[0m - (69) Processing: gcp_filename = 'data/vc_33.893_-118.228_2022_11.csv'\u001b[0m\n",
      "[\u001b[34m2023-02-28 15:21:03,349\u001b[0m] {\u001b[34mairflow_dag.py:\u001b[0m96} INFO\u001b[0m - (70) Processing: gcp_filename = 'data/vc_37.707_-122.16_2022_11.csv'\u001b[0m\n",
      "[\u001b[34m2023-02-28 15:21:06,104\u001b[0m] {\u001b[34mairflow_dag.py:\u001b[0m96} INFO\u001b[0m - (71) Processing: gcp_filename = 'data/vc_37.434_-121.892_2022_11.csv'\u001b[0m\n"
     ]
    },
    {
     "name": "stderr",
     "output_type": "stream",
     "text": [
      "                                                                                \r"
     ]
    },
    {
     "name": "stdout",
     "output_type": "stream",
     "text": [
      "[\u001b[34m2023-02-28 15:21:09,932\u001b[0m] {\u001b[34mairflow_dag.py:\u001b[0m96} INFO\u001b[0m - (72) Processing: gcp_filename = 'data/vc_37.666_-121.88_2022_11.csv'\u001b[0m\n",
      "[\u001b[34m2023-02-28 15:21:17,637\u001b[0m] {\u001b[34mairflow_dag.py:\u001b[0m96} INFO\u001b[0m - (73) Processing: gcp_filename = 'data/vc_38.667_-121.142_2022_11.csv'\u001b[0m\n"
     ]
    },
    {
     "name": "stderr",
     "output_type": "stream",
     "text": [
      "                                                                                \r"
     ]
    },
    {
     "name": "stdout",
     "output_type": "stream",
     "text": [
      "[\u001b[34m2023-02-28 15:21:22,290\u001b[0m] {\u001b[34mairflow_dag.py:\u001b[0m96} INFO\u001b[0m - (74) Processing: gcp_filename = 'data/vc_33.731_-117.811_2022_11.csv'\u001b[0m\n",
      "[\u001b[34m2023-02-28 15:21:25,434\u001b[0m] {\u001b[34mairflow_dag.py:\u001b[0m96} INFO\u001b[0m - (75) Processing: gcp_filename = 'data/vc_33.79_-117.223_2022_11.csv'\u001b[0m\n",
      "[\u001b[34m2023-02-28 15:21:32,386\u001b[0m] {\u001b[34mairflow_dag.py:\u001b[0m96} INFO\u001b[0m - (76) Processing: gcp_filename = 'data/vc_36.921_-121.771_2022_11.csv'\u001b[0m\n"
     ]
    },
    {
     "name": "stderr",
     "output_type": "stream",
     "text": [
      "                                                                                \r"
     ]
    },
    {
     "name": "stdout",
     "output_type": "stream",
     "text": [
      "[\u001b[34m2023-02-28 15:21:37,261\u001b[0m] {\u001b[34mairflow_dag.py:\u001b[0m96} INFO\u001b[0m - (77) Processing: gcp_filename = 'data/vc_36.064_-119.034_2022_11.csv'\u001b[0m\n",
      "[\u001b[34m2023-02-28 15:21:40,643\u001b[0m] {\u001b[34mairflow_dag.py:\u001b[0m96} INFO\u001b[0m - (78) Processing: gcp_filename = 'data/vc_34.223_-119.032_2022_11.csv'\u001b[0m\n",
      "[\u001b[34m2023-02-28 15:21:48,110\u001b[0m] {\u001b[34mairflow_dag.py:\u001b[0m96} INFO\u001b[0m - (79) Processing: gcp_filename = 'data/vc_38.122_-121.293_2022_11.csv'\u001b[0m\n"
     ]
    },
    {
     "name": "stderr",
     "output_type": "stream",
     "text": [
      "                                                                                \r"
     ]
    },
    {
     "name": "stdout",
     "output_type": "stream",
     "text": [
      "[\u001b[34m2023-02-28 15:21:52,694\u001b[0m] {\u001b[34mairflow_dag.py:\u001b[0m96} INFO\u001b[0m - (80) Processing: gcp_filename = 'data/vc_37.603_-122.019_2022_11.csv'\u001b[0m\n"
     ]
    },
    {
     "name": "stderr",
     "output_type": "stream",
     "text": [
      "                                                                                \r"
     ]
    },
    {
     "name": "stdout",
     "output_type": "stream",
     "text": [
      "[\u001b[34m2023-02-28 15:21:55,840\u001b[0m] {\u001b[34mairflow_dag.py:\u001b[0m96} INFO\u001b[0m - (81) Processing: gcp_filename = 'data/vc_34.051_-117.171_2022_11.csv'\u001b[0m\n",
      "[\u001b[34m2023-02-28 15:21:58,068\u001b[0m] {\u001b[34mairflow_dag.py:\u001b[0m96} INFO\u001b[0m - (82) Processing: gcp_filename = 'data/vc_33.685_-117.334_2022_11.csv'\u001b[0m\n"
     ]
    },
    {
     "name": "stderr",
     "output_type": "stream",
     "text": [
      "                                                                                \r"
     ]
    },
    {
     "name": "stdout",
     "output_type": "stream",
     "text": [
      "[\u001b[34m2023-02-28 15:22:02,135\u001b[0m] {\u001b[34mairflow_dag.py:\u001b[0m96} INFO\u001b[0m - (83) Processing: gcp_filename = 'data/vc_38.808_-121.249_2022_11.csv'\u001b[0m\n",
      "[\u001b[34m2023-02-28 15:22:05,278\u001b[0m] {\u001b[34mairflow_dag.py:\u001b[0m96} INFO\u001b[0m - (84) Processing: gcp_filename = 'data/vc_33.968_-118.245_2022_11.csv'\u001b[0m\n",
      "[\u001b[34m2023-02-28 15:22:07,504\u001b[0m] {\u001b[34mairflow_dag.py:\u001b[0m96} INFO\u001b[0m - (85) Processing: gcp_filename = 'data/vc_33.45_-117.61_2022_11.csv'\u001b[0m\n"
     ]
    },
    {
     "name": "stderr",
     "output_type": "stream",
     "text": [
      "                                                                                \r"
     ]
    },
    {
     "name": "stdout",
     "output_type": "stream",
     "text": [
      "[\u001b[34m2023-02-28 15:22:11,564\u001b[0m] {\u001b[34mairflow_dag.py:\u001b[0m96} INFO\u001b[0m - (86) Processing: gcp_filename = 'data/vc_35.267_-120.669_2022_11.csv'\u001b[0m\n",
      "[\u001b[34m2023-02-28 15:22:14,319\u001b[0m] {\u001b[34mairflow_dag.py:\u001b[0m96} INFO\u001b[0m - (87) Processing: gcp_filename = 'data/vc_32.665_-117.098_2022_11.csv'\u001b[0m\n"
     ]
    },
    {
     "name": "stderr",
     "output_type": "stream",
     "text": [
      "                                                                                \r"
     ]
    },
    {
     "name": "stdout",
     "output_type": "stream",
     "text": [
      "[\u001b[34m2023-02-28 15:22:18,905\u001b[0m] {\u001b[34mairflow_dag.py:\u001b[0m96} INFO\u001b[0m - (88) Processing: gcp_filename = 'data/vc_38.671_-121.75_2022_11.csv'\u001b[0m\n",
      "[\u001b[34m2023-02-28 15:22:21,127\u001b[0m] {\u001b[34mairflow_dag.py:\u001b[0m96} INFO\u001b[0m - (89) Processing: gcp_filename = 'data/vc_33.997_-117.973_2022_11.csv'\u001b[0m\n"
     ]
    },
    {
     "name": "stderr",
     "output_type": "stream",
     "text": [
      "                                                                                \r"
     ]
    },
    {
     "name": "stdout",
     "output_type": "stream",
     "text": [
      "[\u001b[34m2023-02-28 15:22:26,767\u001b[0m] {\u001b[34mairflow_dag.py:\u001b[0m96} INFO\u001b[0m - (90) Processing: gcp_filename = 'data/vc_33.836_-116.464_2022_11.csv'\u001b[0m\n",
      "[\u001b[34m2023-02-28 15:22:30,444\u001b[0m] {\u001b[34mairflow_dag.py:\u001b[0m96} INFO\u001b[0m - (91) Processing: gcp_filename = 'data/vc_34.069_-118.082_2022_11.csv'\u001b[0m\n",
      "[\u001b[34m2023-02-28 15:22:34,112\u001b[0m] {\u001b[34mairflow_dag.py:\u001b[0m96} INFO\u001b[0m - (92) Processing: gcp_filename = 'data/vc_34.034_-117.043_2022_11.csv'\u001b[0m\n",
      "[\u001b[34m2023-02-28 15:22:37,269\u001b[0m] {\u001b[34mairflow_dag.py:\u001b[0m96} INFO\u001b[0m - (93) Processing: gcp_filename = 'data/vc_38.556_-121.55_2022_11.csv'\u001b[0m\n",
      "[\u001b[34m2023-02-28 15:22:40,153\u001b[0m] {\u001b[34mairflow_dag.py:\u001b[0m96} INFO\u001b[0m - (94) Processing: gcp_filename = 'data/vc_33.738_-116.37_2022_11.csv'\u001b[0m\n",
      "[\u001b[34m2023-02-28 15:22:43,553\u001b[0m] {\u001b[34mairflow_dag.py:\u001b[0m96} INFO\u001b[0m - (95) Processing: gcp_filename = 'data/vc_33.881_-117.855_2022_11.csv'\u001b[0m\n",
      "[\u001b[34m2023-02-28 15:22:46,453\u001b[0m] {\u001b[34mairflow_dag.py:\u001b[0m96} INFO\u001b[0m - (96) Processing: gcp_filename = 'data/vc_33.908_-116.977_2022_11.csv'\u001b[0m\n",
      "[\u001b[34m2023-02-28 15:22:49,842\u001b[0m] {\u001b[34mairflow_dag.py:\u001b[0m96} INFO\u001b[0m - (97) Processing: gcp_filename = 'data/vc_32.987_-117.02_2022_11.csv'\u001b[0m\n"
     ]
    },
    {
     "name": "stderr",
     "output_type": "stream",
     "text": [
      "                                                                                \r"
     ]
    },
    {
     "name": "stdout",
     "output_type": "stream",
     "text": [
      "[\u001b[34m2023-02-28 15:22:58,360\u001b[0m] {\u001b[34mairflow_dag.py:\u001b[0m96} INFO\u001b[0m - (98) Processing: gcp_filename = 'data/vc_36.599_-119.447_2022_11.csv'\u001b[0m\n"
     ]
    },
    {
     "name": "stderr",
     "output_type": "stream",
     "text": [
      "                                                                                \r"
     ]
    },
    {
     "name": "stdout",
     "output_type": "stream",
     "text": [
      "[\u001b[34m2023-02-28 15:23:02,196\u001b[0m] {\u001b[34mairflow_dag.py:\u001b[0m96} INFO\u001b[0m - (99) Processing: gcp_filename = 'data/vc_36.856_-121.398_2022_11.csv'\u001b[0m\n",
      "[\u001b[34m2023-02-28 15:23:05,327\u001b[0m] {\u001b[34mairflow_dag.py:\u001b[0m96} INFO\u001b[0m - (100) Processing: gcp_filename = 'data/vc_38.675_-121.049_2022_11.csv'\u001b[0m\n",
      "[\u001b[34m2023-02-28 15:23:08,710\u001b[0m] {\u001b[34mairflow_dag.py:\u001b[0m96} INFO\u001b[0m - (101) Processing: gcp_filename = 'data/vc_33.955_-116.543_2022_11.csv'\u001b[0m\n",
      "[\u001b[34m2023-02-28 15:23:11,612\u001b[0m] {\u001b[34mairflow_dag.py:\u001b[0m96} INFO\u001b[0m - (102) Processing: gcp_filename = 'data/vc_33.925_-117.866_2022_11.csv'\u001b[0m\n",
      "[\u001b[34m2023-02-28 15:23:14,476\u001b[0m] {\u001b[34mairflow_dag.py:\u001b[0m96} INFO\u001b[0m - (103) Processing: gcp_filename = 'data/vc_37.063_-120.841_2022_11.csv'\u001b[0m\n",
      "[\u001b[34m2023-02-28 15:23:17,888\u001b[0m] {\u001b[34mairflow_dag.py:\u001b[0m96} INFO\u001b[0m - (104) Processing: gcp_filename = 'data/vc_34.071_-117.698_2022_11.csv'\u001b[0m\n",
      "[\u001b[34m2023-02-28 15:23:20,767\u001b[0m] {\u001b[34mairflow_dag.py:\u001b[0m96} INFO\u001b[0m - (105) Processing: gcp_filename = 'data/vc_32.711_-117.003_2022_11.csv'\u001b[0m\n",
      "[\u001b[34m2023-02-28 15:23:22,999\u001b[0m] {\u001b[34mairflow_dag.py:\u001b[0m96} INFO\u001b[0m - (106) Processing: gcp_filename = 'data/vc_33.617_-117.258_2022_11.csv'\u001b[0m\n"
     ]
    },
    {
     "name": "stderr",
     "output_type": "stream",
     "text": [
      "                                                                                \r"
     ]
    },
    {
     "name": "stdout",
     "output_type": "stream",
     "text": [
      "[\u001b[34m2023-02-28 15:23:26,672\u001b[0m] {\u001b[34mairflow_dag.py:\u001b[0m96} INFO\u001b[0m - (107) Processing: gcp_filename = 'data/vc_34.286_-118.877_2022_11.csv'\u001b[0m\n",
      "[\u001b[34m2023-02-28 15:23:29,680\u001b[0m] {\u001b[34mairflow_dag.py:\u001b[0m96} INFO\u001b[0m - (108) Processing: gcp_filename = 'data/vc_38.687_-121.348_2022_11.csv'\u001b[0m\n"
     ]
    },
    {
     "name": "stderr",
     "output_type": "stream",
     "text": [
      "                                                                                \r"
     ]
    },
    {
     "name": "stdout",
     "output_type": "stream",
     "text": [
      "[\u001b[34m2023-02-28 15:23:33,347\u001b[0m] {\u001b[34mairflow_dag.py:\u001b[0m96} INFO\u001b[0m - (109) Processing: gcp_filename = 'data/vc_33.98_-118.18_2022_11.csv'\u001b[0m\n"
     ]
    },
    {
     "name": "stderr",
     "output_type": "stream",
     "text": [
      "                                                                                \r"
     ]
    },
    {
     "name": "stdout",
     "output_type": "stream",
     "text": [
      "[\u001b[34m2023-02-28 15:23:39,634\u001b[0m] {\u001b[34mairflow_dag.py:\u001b[0m96} INFO\u001b[0m - (110) Processing: gcp_filename = 'data/vc_33.89_-118.397_2022_11.csv'\u001b[0m\n"
     ]
    },
    {
     "name": "stderr",
     "output_type": "stream",
     "text": [
      "                                                                                \r"
     ]
    },
    {
     "name": "stdout",
     "output_type": "stream",
     "text": [
      "[\u001b[34m2023-02-28 15:23:42,778\u001b[0m] {\u001b[34mairflow_dag.py:\u001b[0m96} INFO\u001b[0m - (111) Processing: gcp_filename = 'data/vc_37.954_-122.076_2022_11.csv'\u001b[0m\n",
      "[\u001b[34m2023-02-28 15:23:46,450\u001b[0m] {\u001b[34mairflow_dag.py:\u001b[0m96} INFO\u001b[0m - (112) Processing: gcp_filename = 'data/vc_35.425_-119.028_2022_11.csv'\u001b[0m\n"
     ]
    },
    {
     "name": "stderr",
     "output_type": "stream",
     "text": [
      "                                                                                \r"
     ]
    },
    {
     "name": "stdout",
     "output_type": "stream",
     "text": [
      "[\u001b[34m2023-02-28 15:23:51,165\u001b[0m] {\u001b[34mairflow_dag.py:\u001b[0m96} INFO\u001b[0m - (113) Processing: gcp_filename = 'data/vc_37.469_-122.167_2022_11.csv'\u001b[0m\n",
      "[\u001b[34m2023-02-28 15:23:54,309\u001b[0m] {\u001b[34mairflow_dag.py:\u001b[0m96} INFO\u001b[0m - (114) Processing: gcp_filename = 'data/vc_40.862_-124.076_2022_11.csv'\u001b[0m\n"
     ]
    },
    {
     "name": "stderr",
     "output_type": "stream",
     "text": [
      "                                                                                \r"
     ]
    },
    {
     "name": "stdout",
     "output_type": "stream",
     "text": [
      "[\u001b[34m2023-02-28 15:23:57,060\u001b[0m] {\u001b[34mairflow_dag.py:\u001b[0m96} INFO\u001b[0m - (115) Processing: gcp_filename = 'data/vc_39.224_-121.052_2022_11.csv'\u001b[0m\n"
     ]
    },
    {
     "name": "stderr",
     "output_type": "stream",
     "text": [
      "                                                                                \r"
     ]
    },
    {
     "name": "stdout",
     "output_type": "stream",
     "text": [
      "[\u001b[34m2023-02-28 15:24:01,257\u001b[0m] {\u001b[34mairflow_dag.py:\u001b[0m96} INFO\u001b[0m - (116) Processing: gcp_filename = 'data/vc_34.582_-117.44_2022_11.csv'\u001b[0m\n"
     ]
    },
    {
     "name": "stderr",
     "output_type": "stream",
     "text": [
      "                                                                                \r"
     ]
    },
    {
     "name": "stdout",
     "output_type": "stream",
     "text": [
      "[\u001b[34m2023-02-28 15:24:05,838\u001b[0m] {\u001b[34mairflow_dag.py:\u001b[0m96} INFO\u001b[0m - (117) Processing: gcp_filename = 'data/vc_38.29_-122.46_2022_11.csv'\u001b[0m\n",
      "[\u001b[34m2023-02-28 15:24:09,275\u001b[0m] {\u001b[34mairflow_dag.py:\u001b[0m96} INFO\u001b[0m - (118) Processing: gcp_filename = 'data/vc_38.731_-120.798_2022_11.csv'\u001b[0m\n"
     ]
    },
    {
     "name": "stderr",
     "output_type": "stream",
     "text": [
      "                                                                                \r"
     ]
    },
    {
     "name": "stdout",
     "output_type": "stream",
     "text": [
      "[\u001b[34m2023-02-28 15:24:13,468\u001b[0m] {\u001b[34mairflow_dag.py:\u001b[0m96} INFO\u001b[0m - (119) Processing: gcp_filename = 'data/vc_33.369_-117.226_2022_11.csv'\u001b[0m\n",
      "[\u001b[34m2023-02-28 15:24:20,648\u001b[0m] {\u001b[34mairflow_dag.py:\u001b[0m96} INFO\u001b[0m - (120) Processing: gcp_filename = 'data/vc_33.946_-116.899_2022_11.csv'\u001b[0m\n"
     ]
    },
    {
     "name": "stderr",
     "output_type": "stream",
     "text": [
      "                                                                                \r"
     ]
    },
    {
     "name": "stdout",
     "output_type": "stream",
     "text": [
      "[\u001b[34m2023-02-28 15:24:27,853\u001b[0m] {\u001b[34mairflow_dag.py:\u001b[0m96} INFO\u001b[0m - (121) Processing: gcp_filename = 'data/vc_37.963_-122.342_2022_11.csv'\u001b[0m\n"
     ]
    },
    {
     "name": "stderr",
     "output_type": "stream",
     "text": [
      "                                                                                \r"
     ]
    },
    {
     "name": "stdout",
     "output_type": "stream",
     "text": [
      "[\u001b[34m2023-02-28 15:24:30,998\u001b[0m] {\u001b[34mairflow_dag.py:\u001b[0m96} INFO\u001b[0m - (122) Processing: gcp_filename = 'data/vc_37.586_-122.367_2022_11.csv'\u001b[0m\n"
     ]
    },
    {
     "name": "stderr",
     "output_type": "stream",
     "text": [
      "                                                                                \r"
     ]
    },
    {
     "name": "stdout",
     "output_type": "stream",
     "text": [
      "[\u001b[34m2023-02-28 15:24:34,445\u001b[0m] {\u001b[34mairflow_dag.py:\u001b[0m96} INFO\u001b[0m - (123) Processing: gcp_filename = 'data/vc_34.866_-117.047_2022_11.csv'\u001b[0m\n",
      "[\u001b[34m2023-02-28 15:24:41,091\u001b[0m] {\u001b[34mairflow_dag.py:\u001b[0m96} INFO\u001b[0m - (124) Processing: gcp_filename = 'data/vc_34.352_-119.07_2022_11.csv'\u001b[0m\n"
     ]
    },
    {
     "name": "stderr",
     "output_type": "stream",
     "text": [
      "                                                                                \r"
     ]
    },
    {
     "name": "stdout",
     "output_type": "stream",
     "text": [
      "[\u001b[34m2023-02-28 15:24:46,756\u001b[0m] {\u001b[34mairflow_dag.py:\u001b[0m96} INFO\u001b[0m - (125) Processing: gcp_filename = 'data/vc_38.939_-119.983_2022_11.csv'\u001b[0m\n",
      "[\u001b[34m2023-02-28 15:24:50,189\u001b[0m] {\u001b[34mairflow_dag.py:\u001b[0m96} INFO\u001b[0m - (126) Processing: gcp_filename = 'data/vc_37.268_-122.026_2022_11.csv'\u001b[0m\n"
     ]
    },
    {
     "name": "stderr",
     "output_type": "stream",
     "text": [
      "                                                                                \r"
     ]
    },
    {
     "name": "stdout",
     "output_type": "stream",
     "text": [
      "[\u001b[34m2023-02-28 15:24:54,624\u001b[0m] {\u001b[34mairflow_dag.py:\u001b[0m96} INFO\u001b[0m - (127) Processing: gcp_filename = 'data/vc_37.368_-122.097_2022_11.csv'\u001b[0m\n"
     ]
    },
    {
     "name": "stderr",
     "output_type": "stream",
     "text": [
      "                                                                                \r"
     ]
    },
    {
     "name": "stdout",
     "output_type": "stream",
     "text": [
      "[\u001b[34m2023-02-28 15:24:58,292\u001b[0m] {\u001b[34mairflow_dag.py:\u001b[0m96} INFO\u001b[0m - (128) Processing: gcp_filename = 'data/vc_35.594_-119.367_2022_11.csv'\u001b[0m\n",
      "[\u001b[34m2023-02-28 15:25:01,722\u001b[0m] {\u001b[34mairflow_dag.py:\u001b[0m96} INFO\u001b[0m - (129) Processing: gcp_filename = 'data/vc_38.474_-121.319_2022_11.csv'\u001b[0m\n"
     ]
    },
    {
     "name": "stderr",
     "output_type": "stream",
     "text": [
      "                                                                                \r"
     ]
    },
    {
     "name": "stdout",
     "output_type": "stream",
     "text": [
      "[\u001b[34m2023-02-28 15:25:06,678\u001b[0m] {\u001b[34mairflow_dag.py:\u001b[0m96} INFO\u001b[0m - (130) Processing: gcp_filename = 'data/vc_33.549_-117.642_2022_11.csv'\u001b[0m\n"
     ]
    },
    {
     "name": "stderr",
     "output_type": "stream",
     "text": [
      "                                                                                \r"
     ]
    },
    {
     "name": "stdout",
     "output_type": "stream",
     "text": [
      "[\u001b[34m2023-02-28 15:25:10,284\u001b[0m] {\u001b[34mairflow_dag.py:\u001b[0m96} INFO\u001b[0m - (131) Processing: gcp_filename = 'data/vc_38.542_-122.809_2022_11.csv'\u001b[0m\n",
      "[\u001b[34m2023-02-28 15:25:14,303\u001b[0m] {\u001b[34mairflow_dag.py:\u001b[0m96} INFO\u001b[0m - (132) Processing: gcp_filename = 'data/vc_37.515_-122.296_2022_11.csv'\u001b[0m\n"
     ]
    },
    {
     "name": "stderr",
     "output_type": "stream",
     "text": [
      "                                                                                \r"
     ]
    },
    {
     "name": "stdout",
     "output_type": "stream",
     "text": [
      "[\u001b[34m2023-02-28 15:25:21,877\u001b[0m] {\u001b[34mairflow_dag.py:\u001b[0m96} INFO\u001b[0m - (133) Processing: gcp_filename = 'data/vc_36.295_-119.798_2022_11.csv'\u001b[0m\n"
     ]
    },
    {
     "name": "stderr",
     "output_type": "stream",
     "text": [
      "                                                                                \r"
     ]
    },
    {
     "name": "stdout",
     "output_type": "stream",
     "text": [
      "[\u001b[34m2023-02-28 15:25:26,597\u001b[0m] {\u001b[34mairflow_dag.py:\u001b[0m96} INFO\u001b[0m - (134) Processing: gcp_filename = 'data/vc_33.976_-118.069_2022_11.csv'\u001b[0m\n",
      "[\u001b[34m2023-02-28 15:25:30,263\u001b[0m] {\u001b[34mairflow_dag.py:\u001b[0m96} INFO\u001b[0m - (135) Processing: gcp_filename = 'data/vc_37.892_-122.119_2022_11.csv'\u001b[0m\n"
     ]
    },
    {
     "name": "stderr",
     "output_type": "stream",
     "text": [
      "                                                                                \r"
     ]
    },
    {
     "name": "stdout",
     "output_type": "stream",
     "text": [
      "[\u001b[34m2023-02-28 15:25:34,461\u001b[0m] {\u001b[34mairflow_dag.py:\u001b[0m96} INFO\u001b[0m - (136) Processing: gcp_filename = 'data/vc_32.978_-115.529_2022_11.csv'\u001b[0m\n",
      "[\u001b[34m2023-02-28 15:25:38,127\u001b[0m] {\u001b[34mairflow_dag.py:\u001b[0m96} INFO\u001b[0m - (137) Processing: gcp_filename = 'data/vc_34.148_-116.066_2022_11.csv'\u001b[0m\n"
     ]
    },
    {
     "name": "stderr",
     "output_type": "stream",
     "text": [
      "                                                                                \r"
     ]
    },
    {
     "name": "stdout",
     "output_type": "stream",
     "text": [
      "[\u001b[34m2023-02-28 15:25:41,270\u001b[0m] {\u001b[34mairflow_dag.py:\u001b[0m96} INFO\u001b[0m - (138) Processing: gcp_filename = 'data/vc_38.033_-121.961_2022_11.csv'\u001b[0m\n"
     ]
    },
    {
     "name": "stderr",
     "output_type": "stream",
     "text": [
      "                                                                                \r"
     ]
    },
    {
     "name": "stdout",
     "output_type": "stream",
     "text": [
      "[\u001b[34m2023-02-28 15:25:44,704\u001b[0m] {\u001b[34mairflow_dag.py:\u001b[0m96} INFO\u001b[0m - (139) Processing: gcp_filename = 'data/vc_34.11_-118.157_2022_11.csv'\u001b[0m\n"
     ]
    },
    {
     "name": "stderr",
     "output_type": "stream",
     "text": [
      "                                                                                \r"
     ]
    },
    {
     "name": "stdout",
     "output_type": "stream",
     "text": [
      "[\u001b[34m2023-02-28 15:25:50,217\u001b[0m] {\u001b[34mairflow_dag.py:\u001b[0m96} INFO\u001b[0m - (140) Processing: gcp_filename = 'data/vc_34.123_-116.422_2022_11.csv'\u001b[0m\n",
      "[\u001b[34m2023-02-28 15:25:53,849\u001b[0m] {\u001b[34mairflow_dag.py:\u001b[0m96} INFO\u001b[0m - (141) Processing: gcp_filename = 'data/vc_34.289_-118.436_2022_11.csv'\u001b[0m\n"
     ]
    },
    {
     "name": "stderr",
     "output_type": "stream",
     "text": [
      "                                                                                \r"
     ]
    },
    {
     "name": "stdout",
     "output_type": "stream",
     "text": [
      "[\u001b[34m2023-02-28 15:25:56,997\u001b[0m] {\u001b[34mairflow_dag.py:\u001b[0m96} INFO\u001b[0m - (142) Processing: gcp_filename = 'data/vc_37.476_-121.154_2022_11.csv'\u001b[0m\n"
     ]
    },
    {
     "name": "stderr",
     "output_type": "stream",
     "text": [
      "                                                                                \r"
     ]
    },
    {
     "name": "stdout",
     "output_type": "stream",
     "text": [
      "[\u001b[34m2023-02-28 15:26:00,439\u001b[0m] {\u001b[34mairflow_dag.py:\u001b[0m96} INFO\u001b[0m - (143) Processing: gcp_filename = 'data/vc_33.545_-117.761_2022_11.csv'\u001b[0m\n",
      "[\u001b[34m2023-02-28 15:26:04,857\u001b[0m] {\u001b[34mairflow_dag.py:\u001b[0m96} INFO\u001b[0m - (144) Processing: gcp_filename = 'data/vc_36.084_-119.561_2022_11.csv'\u001b[0m\n",
      "[\u001b[34m2023-02-28 15:26:08,579\u001b[0m] {\u001b[34mairflow_dag.py:\u001b[0m96} INFO\u001b[0m - (145) Processing: gcp_filename = 'data/vc_33.047_-116.877_2022_11.csv'\u001b[0m\n"
     ]
    },
    {
     "name": "stderr",
     "output_type": "stream",
     "text": [
      "                                                                                \r"
     ]
    },
    {
     "name": "stdout",
     "output_type": "stream",
     "text": [
      "[\u001b[34m2023-02-28 15:26:12,194\u001b[0m] {\u001b[34mairflow_dag.py:\u001b[0m96} INFO\u001b[0m - (146) Processing: gcp_filename = 'data/vc_38.447_-121.825_2022_11.csv'\u001b[0m\n"
     ]
    },
    {
     "name": "stderr",
     "output_type": "stream",
     "text": [
      "                                                                                \r"
     ]
    },
    {
     "name": "stdout",
     "output_type": "stream",
     "text": [
      "[\u001b[34m2023-02-28 15:26:16,911\u001b[0m] {\u001b[34mairflow_dag.py:\u001b[0m96} INFO\u001b[0m - (147) Processing: gcp_filename = 'data/vc_34.012_-117.904_2022_11.csv'\u001b[0m\n"
     ]
    },
    {
     "name": "stderr",
     "output_type": "stream",
     "text": [
      "                                                                                \r"
     ]
    },
    {
     "name": "stdout",
     "output_type": "stream",
     "text": [
      "[\u001b[34m2023-02-28 15:26:20,340\u001b[0m] {\u001b[34mairflow_dag.py:\u001b[0m96} INFO\u001b[0m - (148) Processing: gcp_filename = 'data/vc_33.622_-114.619_2022_11.csv'\u001b[0m\n"
     ]
    },
    {
     "name": "stderr",
     "output_type": "stream",
     "text": [
      "                                                                                \r"
     ]
    },
    {
     "name": "stdout",
     "output_type": "stream",
     "text": [
      "[\u001b[34m2023-02-28 15:26:28,606\u001b[0m] {\u001b[34mairflow_dag.py:\u001b[0m96} INFO\u001b[0m - (149) Processing: gcp_filename = 'data/vc_40.174_-122.241_2022_11.csv'\u001b[0m\n"
     ]
    },
    {
     "name": "stderr",
     "output_type": "stream",
     "text": [
      "                                                                                \r"
     ]
    },
    {
     "name": "stdout",
     "output_type": "stream",
     "text": [
      "[\u001b[34m2023-02-28 15:26:36,994\u001b[0m] {\u001b[34mairflow_dag.py:\u001b[0m96} INFO\u001b[0m - (150) Processing: gcp_filename = 'data/vc_37.11_-120.235_2022_11.csv'\u001b[0m\n"
     ]
    },
    {
     "name": "stderr",
     "output_type": "stream",
     "text": [
      "                                                                                \r"
     ]
    },
    {
     "name": "stdout",
     "output_type": "stream",
     "text": [
      "[\u001b[34m2023-02-28 15:26:41,709\u001b[0m] {\u001b[34mairflow_dag.py:\u001b[0m96} INFO\u001b[0m - (151) Processing: gcp_filename = 'data/vc_37.774_-121.545_2022_11.csv'\u001b[0m\n"
     ]
    },
    {
     "name": "stderr",
     "output_type": "stream",
     "text": [
      "                                                                                \r"
     ]
    },
    {
     "name": "stdout",
     "output_type": "stream",
     "text": [
      "[\u001b[34m2023-02-28 15:26:45,248\u001b[0m] {\u001b[34mairflow_dag.py:\u001b[0m96} INFO\u001b[0m - (152) Processing: gcp_filename = 'data/vc_36.323_-121.245_2022_11.csv'\u001b[0m\n"
     ]
    },
    {
     "name": "stderr",
     "output_type": "stream",
     "text": [
      "                                                                                \r"
     ]
    },
    {
     "name": "stdout",
     "output_type": "stream",
     "text": [
      "[\u001b[34m2023-02-28 15:26:48,682\u001b[0m] {\u001b[34mairflow_dag.py:\u001b[0m96} INFO\u001b[0m - (153) Processing: gcp_filename = 'data/vc_35.032_-120.499_2022_11.csv'\u001b[0m\n"
     ]
    },
    {
     "name": "stderr",
     "output_type": "stream",
     "text": [
      "                                                                                \r"
     ]
    },
    {
     "name": "stdout",
     "output_type": "stream",
     "text": [
      "[\u001b[34m2023-02-28 15:26:52,585\u001b[0m] {\u001b[34mairflow_dag.py:\u001b[0m96} INFO\u001b[0m - (154) Processing: gcp_filename = 'data/vc_39.039_-122.922_2022_11.csv'\u001b[0m\n"
     ]
    },
    {
     "name": "stderr",
     "output_type": "stream",
     "text": [
      "                                                                                \r"
     ]
    },
    {
     "name": "stdout",
     "output_type": "stream",
     "text": [
      "[\u001b[34m2023-02-28 15:26:55,729\u001b[0m] {\u001b[34mairflow_dag.py:\u001b[0m96} INFO\u001b[0m - (155) Processing: gcp_filename = 'data/vc_36.143_-120.326_2022_11.csv'\u001b[0m\n"
     ]
    },
    {
     "name": "stderr",
     "output_type": "stream",
     "text": [
      "                                                                                \r"
     ]
    },
    {
     "name": "stdout",
     "output_type": "stream",
     "text": [
      "[\u001b[34m2023-02-28 15:26:59,399\u001b[0m] {\u001b[34mairflow_dag.py:\u001b[0m96} INFO\u001b[0m - (156) Processing: gcp_filename = 'data/vc_41.773_-124.19_2022_11.csv'\u001b[0m\n",
      "[\u001b[34m2023-02-28 15:27:03,066\u001b[0m] {\u001b[34mairflow_dag.py:\u001b[0m96} INFO\u001b[0m - (157) Processing: gcp_filename = 'data/vc_35.389_-119.206_2022_11.csv'\u001b[0m\n"
     ]
    },
    {
     "name": "stderr",
     "output_type": "stream",
     "text": [
      "                                                                                \r"
     ]
    },
    {
     "name": "stdout",
     "output_type": "stream",
     "text": [
      "[\u001b[34m2023-02-28 15:27:06,209\u001b[0m] {\u001b[34mairflow_dag.py:\u001b[0m96} INFO\u001b[0m - (158) Processing: gcp_filename = 'data/vc_39.346_-120.185_2022_11.csv'\u001b[0m\n"
     ]
    },
    {
     "name": "stderr",
     "output_type": "stream",
     "text": [
      "                                                                                \r"
     ]
    },
    {
     "name": "stdout",
     "output_type": "stream",
     "text": [
      "[\u001b[34m2023-02-28 15:27:08,441\u001b[0m] {\u001b[34mairflow_dag.py:\u001b[0m96} INFO\u001b[0m - (159) Processing: gcp_filename = 'data/vc_36.208_-119.09_2022_11.csv'\u001b[0m\n"
     ]
    },
    {
     "name": "stderr",
     "output_type": "stream",
     "text": [
      "                                                                                \r"
     ]
    },
    {
     "name": "stdout",
     "output_type": "stream",
     "text": [
      "[\u001b[34m2023-02-28 15:27:11,452\u001b[0m] {\u001b[34mairflow_dag.py:\u001b[0m96} INFO\u001b[0m - (160) Processing: gcp_filename = 'data/vc_32.819_-116.948_2022_11.csv'\u001b[0m\n",
      "[\u001b[34m2023-02-28 15:27:13,705\u001b[0m] {\u001b[34mairflow_dag.py:\u001b[0m96} INFO\u001b[0m - (161) Processing: gcp_filename = 'data/vc_35.307_-120.825_2022_11.csv'\u001b[0m\n"
     ]
    },
    {
     "name": "stderr",
     "output_type": "stream",
     "text": [
      "                                                                                \r"
     ]
    },
    {
     "name": "stdout",
     "output_type": "stream",
     "text": [
      "[\u001b[34m2023-02-28 15:27:16,381\u001b[0m] {\u001b[34mairflow_dag.py:\u001b[0m96} INFO\u001b[0m - (162) Processing: gcp_filename = 'data/vc_37.742_-121.131_2022_11.csv'\u001b[0m\n"
     ]
    },
    {
     "name": "stderr",
     "output_type": "stream",
     "text": [
      "                                                                                \r"
     ]
    },
    {
     "name": "stdout",
     "output_type": "stream",
     "text": [
      "[\u001b[34m2023-02-28 15:27:18,923\u001b[0m] {\u001b[34mairflow_dag.py:\u001b[0m96} INFO\u001b[0m - (163) Processing: gcp_filename = 'data/vc_34.12_-118.081_2022_11.csv'\u001b[0m\n"
     ]
    },
    {
     "name": "stderr",
     "output_type": "stream",
     "text": [
      "                                                                                \r"
     ]
    },
    {
     "name": "stdout",
     "output_type": "stream",
     "text": [
      "[\u001b[34m2023-02-28 15:27:21,431\u001b[0m] {\u001b[34mairflow_dag.py:\u001b[0m96} INFO\u001b[0m - (164) Processing: gcp_filename = 'data/vc_37.907_-121.608_2022_11.csv'\u001b[0m\n",
      "[\u001b[34m2023-02-28 15:27:24,317\u001b[0m] {\u001b[34mairflow_dag.py:\u001b[0m96} INFO\u001b[0m - (165) Processing: gcp_filename = 'data/vc_34.399_-118.918_2022_11.csv'\u001b[0m\n",
      "[\u001b[34m2023-02-28 15:27:26,772\u001b[0m] {\u001b[34mairflow_dag.py:\u001b[0m96} INFO\u001b[0m - (166) Processing: gcp_filename = 'data/vc_36.217_-121.133_2022_11.csv'\u001b[0m\n",
      "[\u001b[34m2023-02-28 15:27:29,411\u001b[0m] {\u001b[34mairflow_dag.py:\u001b[0m96} INFO\u001b[0m - (167) Processing: gcp_filename = 'data/vc_35.678_-119.241_2022_11.csv'\u001b[0m\n"
     ]
    },
    {
     "name": "stderr",
     "output_type": "stream",
     "text": [
      "                                                                                \r"
     ]
    },
    {
     "name": "stdout",
     "output_type": "stream",
     "text": [
      "[\u001b[34m2023-02-28 15:27:32,025\u001b[0m] {\u001b[34mairflow_dag.py:\u001b[0m96} INFO\u001b[0m - (168) Processing: gcp_filename = 'data/vc_36.619_-121.926_2022_11.csv'\u001b[0m\n",
      "[\u001b[34m2023-02-28 15:27:34,645\u001b[0m] {\u001b[34mairflow_dag.py:\u001b[0m96} INFO\u001b[0m - (169) Processing: gcp_filename = 'data/vc_33.596_-117.586_2022_11.csv'\u001b[0m\n"
     ]
    },
    {
     "name": "stderr",
     "output_type": "stream",
     "text": [
      "                                                                                \r"
     ]
    },
    {
     "name": "stdout",
     "output_type": "stream",
     "text": [
      "[\u001b[34m2023-02-28 15:27:37,658\u001b[0m] {\u001b[34mairflow_dag.py:\u001b[0m96} INFO\u001b[0m - (170) Processing: gcp_filename = 'data/vc_35.127_-118.475_2022_11.csv'\u001b[0m\n"
     ]
    },
    {
     "name": "stderr",
     "output_type": "stream",
     "text": [
      "                                                                                \r"
     ]
    },
    {
     "name": "stdout",
     "output_type": "stream",
     "text": [
      "[\u001b[34m2023-02-28 15:27:40,289\u001b[0m] {\u001b[34mairflow_dag.py:\u001b[0m96} INFO\u001b[0m - (171) Processing: gcp_filename = 'data/vc_35.127_-119.424_2022_11.csv'\u001b[0m\n",
      "[\u001b[34m2023-02-28 15:27:42,902\u001b[0m] {\u001b[34mairflow_dag.py:\u001b[0m96} INFO\u001b[0m - (172) Processing: gcp_filename = 'data/vc_37.388_-120.725_2022_11.csv'\u001b[0m\n",
      "[\u001b[34m2023-02-28 15:27:45,741\u001b[0m] {\u001b[34mairflow_dag.py:\u001b[0m96} INFO\u001b[0m - (173) Processing: gcp_filename = 'data/vc_32.844_-116.758_2022_11.csv'\u001b[0m\n"
     ]
    },
    {
     "name": "stderr",
     "output_type": "stream",
     "text": [
      "                                                                                \r"
     ]
    },
    {
     "name": "stdout",
     "output_type": "stream",
     "text": [
      "[\u001b[34m2023-02-28 15:27:48,756\u001b[0m] {\u001b[34mairflow_dag.py:\u001b[0m96} INFO\u001b[0m - (174) Processing: gcp_filename = 'data/vc_38.931_-121.082_2022_11.csv'\u001b[0m\n"
     ]
    },
    {
     "name": "stderr",
     "output_type": "stream",
     "text": [
      "                                                                                \r"
     ]
    },
    {
     "name": "stdout",
     "output_type": "stream",
     "text": [
      "[\u001b[34m2023-02-28 15:27:52,038\u001b[0m] {\u001b[34mairflow_dag.py:\u001b[0m96} INFO\u001b[0m - (175) Processing: gcp_filename = 'data/vc_35.158_-117.872_2022_11.csv'\u001b[0m\n"
     ]
    },
    {
     "name": "stderr",
     "output_type": "stream",
     "text": [
      "                                                                                \r"
     ]
    },
    {
     "name": "stdout",
     "output_type": "stream",
     "text": [
      "[\u001b[34m2023-02-28 15:27:54,990\u001b[0m] {\u001b[34mairflow_dag.py:\u001b[0m96} INFO\u001b[0m - (176) Processing: gcp_filename = 'data/vc_34.185_-118.767_2022_11.csv'\u001b[0m\n"
     ]
    },
    {
     "name": "stderr",
     "output_type": "stream",
     "text": [
      "                                                                                \r"
     ]
    },
    {
     "name": "stdout",
     "output_type": "stream",
     "text": [
      "[\u001b[34m2023-02-28 15:27:58,623\u001b[0m] {\u001b[34mairflow_dag.py:\u001b[0m96} INFO\u001b[0m - (177) Processing: gcp_filename = 'data/vc_36.031_-120.116_2022_11.csv'\u001b[0m\n",
      "[\u001b[34m2023-02-28 15:28:03,168\u001b[0m] {\u001b[34mairflow_dag.py:\u001b[0m96} INFO\u001b[0m - (178) Processing: gcp_filename = 'data/vc_34.254_-116.79_2022_11.csv'\u001b[0m\n",
      "[\u001b[34m2023-02-28 15:28:06,255\u001b[0m] {\u001b[34mairflow_dag.py:\u001b[0m96} INFO\u001b[0m - (179) Processing: gcp_filename = 'data/vc_35.12_-120.62_2022_11.csv'\u001b[0m\n",
      "[\u001b[34m2023-02-28 15:28:08,660\u001b[0m] {\u001b[34mairflow_dag.py:\u001b[0m96} INFO\u001b[0m - (180) Processing: gcp_filename = 'data/vc_40.586_-124.142_2022_11.csv'\u001b[0m\n"
     ]
    },
    {
     "name": "stderr",
     "output_type": "stream",
     "text": [
      "                                                                                \r"
     ]
    },
    {
     "name": "stdout",
     "output_type": "stream",
     "text": [
      "[\u001b[34m2023-02-28 15:28:11,334\u001b[0m] {\u001b[34mairflow_dag.py:\u001b[0m96} INFO\u001b[0m - (181) Processing: gcp_filename = 'data/vc_34.396_-119.512_2022_11.csv'\u001b[0m\n"
     ]
    },
    {
     "name": "stderr",
     "output_type": "stream",
     "text": [
      "                                                                                \r"
     ]
    },
    {
     "name": "stdout",
     "output_type": "stream",
     "text": [
      "[\u001b[34m2023-02-28 15:28:14,056\u001b[0m] {\u001b[34mairflow_dag.py:\u001b[0m96} INFO\u001b[0m - (182) Processing: gcp_filename = 'data/vc_33.787_-118.398_2022_11.csv'\u001b[0m\n",
      "[\u001b[34m2023-02-28 15:28:16,580\u001b[0m] {\u001b[34mairflow_dag.py:\u001b[0m96} INFO\u001b[0m - (183) Processing: gcp_filename = 'data/vc_34.031_-117.313_2022_11.csv'\u001b[0m\n"
     ]
    },
    {
     "name": "stderr",
     "output_type": "stream",
     "text": [
      "                                                                                \r"
     ]
    },
    {
     "name": "stdout",
     "output_type": "stream",
     "text": [
      "[\u001b[34m2023-02-28 15:28:19,589\u001b[0m] {\u001b[34mairflow_dag.py:\u001b[0m96} INFO\u001b[0m - (184) Processing: gcp_filename = 'data/vc_37.838_-122.293_2022_11.csv'\u001b[0m\n"
     ]
    },
    {
     "name": "stderr",
     "output_type": "stream",
     "text": [
      "                                                                                \r"
     ]
    },
    {
     "name": "stdout",
     "output_type": "stream",
     "text": [
      "[\u001b[34m2023-02-28 15:28:22,440\u001b[0m] {\u001b[34mairflow_dag.py:\u001b[0m96} INFO\u001b[0m - (185) Processing: gcp_filename = 'data/vc_38.623_-122.865_2022_11.csv'\u001b[0m\n"
     ]
    },
    {
     "name": "stderr",
     "output_type": "stream",
     "text": [
      "                                                                                \r"
     ]
    },
    {
     "name": "stdout",
     "output_type": "stream",
     "text": [
      "[\u001b[34m2023-02-28 15:28:25,361\u001b[0m] {\u001b[34mairflow_dag.py:\u001b[0m96} INFO\u001b[0m - (186) Processing: gcp_filename = 'data/vc_34.037_-118.784_2022_11.csv'\u001b[0m\n",
      "[\u001b[34m2023-02-28 15:28:27,974\u001b[0m] {\u001b[34mairflow_dag.py:\u001b[0m96} INFO\u001b[0m - (187) Processing: gcp_filename = 'data/vc_37.316_-121.021_2022_11.csv'\u001b[0m\n",
      "[\u001b[34m2023-02-28 15:28:30,201\u001b[0m] {\u001b[34mairflow_dag.py:\u001b[0m96} INFO\u001b[0m - (188) Processing: gcp_filename = 'data/vc_34.61_-117.834_2022_11.csv'\u001b[0m\n",
      "[\u001b[34m2023-02-28 15:28:32,788\u001b[0m] {\u001b[34mairflow_dag.py:\u001b[0m96} INFO\u001b[0m - (189) Processing: gcp_filename = 'data/vc_36.756_-120.378_2022_11.csv'\u001b[0m\n"
     ]
    },
    {
     "name": "stderr",
     "output_type": "stream",
     "text": [
      "                                                                                \r"
     ]
    },
    {
     "name": "stdout",
     "output_type": "stream",
     "text": [
      "[\u001b[34m2023-02-28 15:28:35,841\u001b[0m] {\u001b[34mairflow_dag.py:\u001b[0m96} INFO\u001b[0m - (190) Processing: gcp_filename = 'data/vc_37.879_-122.538_2022_11.csv'\u001b[0m\n"
     ]
    },
    {
     "name": "stderr",
     "output_type": "stream",
     "text": [
      "                                                                                \r"
     ]
    },
    {
     "name": "stdout",
     "output_type": "stream",
     "text": [
      "[\u001b[34m2023-02-28 15:28:41,015\u001b[0m] {\u001b[34mairflow_dag.py:\u001b[0m96} INFO\u001b[0m - (191) Processing: gcp_filename = 'data/vc_33.797_-118.059_2022_11.csv'\u001b[0m\n",
      "[\u001b[34m2023-02-28 15:28:43,399\u001b[0m] {\u001b[34mairflow_dag.py:\u001b[0m96} INFO\u001b[0m - (192) Processing: gcp_filename = 'data/vc_40.45_-122.295_2022_11.csv'\u001b[0m\n"
     ]
    },
    {
     "name": "stderr",
     "output_type": "stream",
     "text": [
      "                                                                                \r"
     ]
    },
    {
     "name": "stdout",
     "output_type": "stream",
     "text": [
      "[\u001b[34m2023-02-28 15:28:48,444\u001b[0m] {\u001b[34mairflow_dag.py:\u001b[0m96} INFO\u001b[0m - (193) Processing: gcp_filename = 'data/vc_35.368_-120.848_2022_11.csv'\u001b[0m\n"
     ]
    },
    {
     "name": "stderr",
     "output_type": "stream",
     "text": [
      "                                                                                \r"
     ]
    },
    {
     "name": "stdout",
     "output_type": "stream",
     "text": [
      "[\u001b[34m2023-02-28 15:28:51,500\u001b[0m] {\u001b[34mairflow_dag.py:\u001b[0m96} INFO\u001b[0m - (194) Processing: gcp_filename = 'data/vc_34.391_-117.412_2022_11.csv'\u001b[0m\n",
      "[\u001b[34m2023-02-28 15:28:54,178\u001b[0m] {\u001b[34mairflow_dag.py:\u001b[0m96} INFO\u001b[0m - (195) Processing: gcp_filename = 'data/vc_37.964_-121.23_2022_11.csv'\u001b[0m\n"
     ]
    },
    {
     "name": "stderr",
     "output_type": "stream",
     "text": [
      "                                                                                \r"
     ]
    },
    {
     "name": "stdout",
     "output_type": "stream",
     "text": [
      "[\u001b[34m2023-02-28 15:28:57,326\u001b[0m] {\u001b[34mairflow_dag.py:\u001b[0m96} INFO\u001b[0m - (196) Processing: gcp_filename = 'data/vc_39.746_-122.186_2022_11.csv'\u001b[0m\n",
      "[\u001b[34m2023-02-28 15:28:59,554\u001b[0m] {\u001b[34mairflow_dag.py:\u001b[0m96} INFO\u001b[0m - (197) Processing: gcp_filename = 'data/vc_35.248_-116.683_2022_11.csv'\u001b[0m\n"
     ]
    },
    {
     "name": "stderr",
     "output_type": "stream",
     "text": [
      "                                                                                \r"
     ]
    },
    {
     "name": "stdout",
     "output_type": "stream",
     "text": [
      "[\u001b[34m2023-02-28 15:29:02,257\u001b[0m] {\u001b[34mairflow_dag.py:\u001b[0m96} INFO\u001b[0m - (198) Processing: gcp_filename = 'data/vc_37.012_-120.08_2022_11.csv'\u001b[0m\n"
     ]
    },
    {
     "name": "stderr",
     "output_type": "stream",
     "text": [
      "                                                                                \r"
     ]
    },
    {
     "name": "stdout",
     "output_type": "stream",
     "text": [
      "[\u001b[34m2023-02-28 15:29:05,142\u001b[0m] {\u001b[34mairflow_dag.py:\u001b[0m96} INFO\u001b[0m - (199) Processing: gcp_filename = 'data/vc_33.976_-118.449_2022_11.csv'\u001b[0m\n"
     ]
    },
    {
     "name": "stderr",
     "output_type": "stream",
     "text": [
      "                                                                                \r"
     ]
    },
    {
     "name": "stdout",
     "output_type": "stream",
     "text": [
      "[\u001b[34m2023-02-28 15:29:09,383\u001b[0m] {\u001b[34mairflow_dag.py:\u001b[0m96} INFO\u001b[0m - (200) Processing: gcp_filename = 'data/vc_38.176_-121.702_2022_11.csv'\u001b[0m\n",
      "[\u001b[34m2023-02-28 15:29:13,572\u001b[0m] {\u001b[34mairflow_dag.py:\u001b[0m96} INFO\u001b[0m - (201) Processing: gcp_filename = 'data/vc_36.961_-121.881_2022_11.csv'\u001b[0m\n"
     ]
    },
    {
     "name": "stderr",
     "output_type": "stream",
     "text": [
      "                                                                                \r"
     ]
    },
    {
     "name": "stdout",
     "output_type": "stream",
     "text": [
      "[\u001b[34m2023-02-28 15:29:17,241\u001b[0m] {\u001b[34mairflow_dag.py:\u001b[0m96} INFO\u001b[0m - (202) Processing: gcp_filename = 'data/vc_37.816_-121.907_2022_11.csv'\u001b[0m\n",
      "[\u001b[34m2023-02-28 15:29:20,909\u001b[0m] {\u001b[34mairflow_dag.py:\u001b[0m96} INFO\u001b[0m - (203) Processing: gcp_filename = 'data/vc_37.366_-118.396_2022_11.csv'\u001b[0m\n",
      "[\u001b[34m2023-02-28 15:29:28,379\u001b[0m] {\u001b[34mairflow_dag.py:\u001b[0m96} INFO\u001b[0m - (204) Processing: gcp_filename = 'data/vc_39.362_-121.697_2022_11.csv'\u001b[0m\n"
     ]
    },
    {
     "name": "stderr",
     "output_type": "stream",
     "text": [
      "                                                                                \r"
     ]
    },
    {
     "name": "stdout",
     "output_type": "stream",
     "text": [
      "[\u001b[34m2023-02-28 15:29:33,617\u001b[0m] {\u001b[34mairflow_dag.py:\u001b[0m96} INFO\u001b[0m - (205) Processing: gcp_filename = 'data/vc_38.796_-123.015_2022_11.csv'\u001b[0m\n",
      "[\u001b[34m2023-02-28 15:29:37,158\u001b[0m] {\u001b[34mairflow_dag.py:\u001b[0m96} INFO\u001b[0m - (206) Processing: gcp_filename = 'data/vc_34.253_-117.194_2022_11.csv'\u001b[0m\n",
      "[\u001b[34m2023-02-28 15:29:40,589\u001b[0m] {\u001b[34mairflow_dag.py:\u001b[0m96} INFO\u001b[0m - (207) Processing: gcp_filename = 'data/vc_34.816_-114.619_2022_11.csv'\u001b[0m\n",
      "[\u001b[34m2023-02-28 15:29:44,495\u001b[0m] {\u001b[34mairflow_dag.py:\u001b[0m96} INFO\u001b[0m - (208) Processing: gcp_filename = 'data/vc_34.249_-117.289_2022_11.csv'\u001b[0m\n",
      "[\u001b[34m2023-02-28 15:29:47,923\u001b[0m] {\u001b[34mairflow_dag.py:\u001b[0m96} INFO\u001b[0m - (209) Processing: gcp_filename = 'data/vc_39.928_-122.182_2022_11.csv'\u001b[0m\n"
     ]
    },
    {
     "name": "stderr",
     "output_type": "stream",
     "text": [
      "                                                                                \r"
     ]
    },
    {
     "name": "stdout",
     "output_type": "stream",
     "text": [
      "[\u001b[34m2023-02-28 15:29:52,388\u001b[0m] {\u001b[34mairflow_dag.py:\u001b[0m96} INFO\u001b[0m - (210) Processing: gcp_filename = 'data/vc_36.506_-121.443_2022_11.csv'\u001b[0m\n"
     ]
    },
    {
     "name": "stderr",
     "output_type": "stream",
     "text": [
      "                                                                                \r"
     ]
    },
    {
     "name": "stdout",
     "output_type": "stream",
     "text": [
      "[\u001b[34m2023-02-28 15:30:00,351\u001b[0m] {\u001b[34mairflow_dag.py:\u001b[0m96} INFO\u001b[0m - (211) Processing: gcp_filename = 'data/vc_36.543_-119.29_2022_11.csv'\u001b[0m\n"
     ]
    },
    {
     "name": "stderr",
     "output_type": "stream",
     "text": [
      "                                                                                \r"
     ]
    },
    {
     "name": "stdout",
     "output_type": "stream",
     "text": [
      "[\u001b[34m2023-02-28 15:30:05,462\u001b[0m] {\u001b[34mairflow_dag.py:\u001b[0m96} INFO\u001b[0m - (212) Processing: gcp_filename = 'data/vc_36.853_-120.454_2022_11.csv'\u001b[0m\n",
      "[\u001b[34m2023-02-28 15:30:08,607\u001b[0m] {\u001b[34mairflow_dag.py:\u001b[0m96} INFO\u001b[0m - (213) Processing: gcp_filename = 'data/vc_37.627_-118.99_2022_11.csv'\u001b[0m\n",
      "[\u001b[34m2023-02-28 15:30:12,407\u001b[0m] {\u001b[34mairflow_dag.py:\u001b[0m96} INFO\u001b[0m - (214) Processing: gcp_filename = 'data/vc_34.096_-118.605_2022_11.csv'\u001b[0m\n"
     ]
    },
    {
     "name": "stderr",
     "output_type": "stream",
     "text": [
      "                                                                                \r"
     ]
    },
    {
     "name": "stdout",
     "output_type": "stream",
     "text": [
      "[\u001b[34m2023-02-28 15:30:16,992\u001b[0m] {\u001b[34mairflow_dag.py:\u001b[0m96} INFO\u001b[0m - (215) Processing: gcp_filename = 'data/vc_35.556_-120.718_2022_11.csv'\u001b[0m\n"
     ]
    },
    {
     "name": "stderr",
     "output_type": "stream",
     "text": [
      "                                                                                \r"
     ]
    },
    {
     "name": "stdout",
     "output_type": "stream",
     "text": [
      "[\u001b[34m2023-02-28 15:30:21,186\u001b[0m] {\u001b[34mairflow_dag.py:\u001b[0m96} INFO\u001b[0m - (216) Processing: gcp_filename = 'data/vc_38.532_-121.978_2022_11.csv'\u001b[0m\n",
      "[\u001b[34m2023-02-28 15:30:24,617\u001b[0m] {\u001b[34mairflow_dag.py:\u001b[0m96} INFO\u001b[0m - (217) Processing: gcp_filename = 'data/vc_34.444_-117.621_2022_11.csv'\u001b[0m\n",
      "[\u001b[34m2023-02-28 15:30:28,524\u001b[0m] {\u001b[34mairflow_dag.py:\u001b[0m96} INFO\u001b[0m - (218) Processing: gcp_filename = 'data/vc_37.791_-120.998_2022_11.csv'\u001b[0m\n",
      "[\u001b[34m2023-02-28 15:30:31,710\u001b[0m] {\u001b[34mairflow_dag.py:\u001b[0m96} INFO\u001b[0m - (219) Processing: gcp_filename = 'data/vc_38.992_-121.558_2022_11.csv'\u001b[0m\n",
      "[\u001b[34m2023-02-28 15:30:34,757\u001b[0m] {\u001b[34mairflow_dag.py:\u001b[0m96} INFO\u001b[0m - (220) Processing: gcp_filename = 'data/vc_41.729_-122.631_2022_11.csv'\u001b[0m\n"
     ]
    },
    {
     "name": "stderr",
     "output_type": "stream",
     "text": [
      "                                                                                \r"
     ]
    },
    {
     "name": "stdout",
     "output_type": "stream",
     "text": [
      "[\u001b[34m2023-02-28 15:30:39,005\u001b[0m] {\u001b[34mairflow_dag.py:\u001b[0m96} INFO\u001b[0m - (221) Processing: gcp_filename = 'data/vc_36.985_-120.634_2022_11.csv'\u001b[0m\n",
      "[\u001b[34m2023-02-28 15:30:42,148\u001b[0m] {\u001b[34mairflow_dag.py:\u001b[0m96} INFO\u001b[0m - (222) Processing: gcp_filename = 'data/vc_41.321_-122.315_2022_11.csv'\u001b[0m\n",
      "[\u001b[34m2023-02-28 15:30:46,472\u001b[0m] {\u001b[34mairflow_dag.py:\u001b[0m96} INFO\u001b[0m - (223) Processing: gcp_filename = 'data/vc_38.328_-122.709_2022_11.csv'\u001b[0m\n",
      "[\u001b[34m2023-02-28 15:30:49,083\u001b[0m] {\u001b[34mairflow_dag.py:\u001b[0m96} INFO\u001b[0m - (224) Processing: gcp_filename = 'data/vc_33.315_-117.316_2022_11.csv'\u001b[0m\n"
     ]
    },
    {
     "name": "stderr",
     "output_type": "stream",
     "text": [
      "                                                                                \r"
     ]
    },
    {
     "name": "stdout",
     "output_type": "stream",
     "text": [
      "[\u001b[34m2023-02-28 15:30:51,712\u001b[0m] {\u001b[34mairflow_dag.py:\u001b[0m96} INFO\u001b[0m - (225) Processing: gcp_filename = 'data/vc_39.515_-122.2_2022_11.csv'\u001b[0m\n",
      "[\u001b[34m2023-02-28 15:30:54,304\u001b[0m] {\u001b[34mairflow_dag.py:\u001b[0m96} INFO\u001b[0m - (226) Processing: gcp_filename = 'data/vc_34.496_-118.186_2022_11.csv'\u001b[0m\n"
     ]
    },
    {
     "name": "stderr",
     "output_type": "stream",
     "text": [
      "                                                                                \r"
     ]
    },
    {
     "name": "stdout",
     "output_type": "stream",
     "text": [
      "[\u001b[34m2023-02-28 15:30:57,300\u001b[0m] {\u001b[34mairflow_dag.py:\u001b[0m96} INFO\u001b[0m - (227) Processing: gcp_filename = 'data/vc_38.756_-120.59_2022_11.csv'\u001b[0m\n",
      "[\u001b[34m2023-02-28 15:31:00,059\u001b[0m] {\u001b[34mairflow_dag.py:\u001b[0m96} INFO\u001b[0m - (228) Processing: gcp_filename = 'data/vc_33.746_-117.113_2022_11.csv'\u001b[0m\n",
      "[\u001b[34m2023-02-28 15:31:02,724\u001b[0m] {\u001b[34mairflow_dag.py:\u001b[0m96} INFO\u001b[0m - (229) Processing: gcp_filename = 'data/vc_38.506_-122.468_2022_11.csv'\u001b[0m\n",
      "[\u001b[34m2023-02-28 15:31:05,955\u001b[0m] {\u001b[34mairflow_dag.py:\u001b[0m96} INFO\u001b[0m - (230) Processing: gcp_filename = 'data/vc_38.125_-120.857_2022_11.csv'\u001b[0m\n"
     ]
    },
    {
     "name": "stderr",
     "output_type": "stream",
     "text": [
      "                                                                                \r"
     ]
    },
    {
     "name": "stdout",
     "output_type": "stream",
     "text": [
      "[\u001b[34m2023-02-28 15:31:11,066\u001b[0m] {\u001b[34mairflow_dag.py:\u001b[0m96} INFO\u001b[0m - (231) Processing: gcp_filename = 'data/vc_37.328_-120.532_2022_11.csv'\u001b[0m\n"
     ]
    },
    {
     "name": "stderr",
     "output_type": "stream",
     "text": [
      "                                                                                \r"
     ]
    },
    {
     "name": "stdout",
     "output_type": "stream",
     "text": [
      "[\u001b[34m2023-02-28 15:31:15,016\u001b[0m] {\u001b[34mairflow_dag.py:\u001b[0m96} INFO\u001b[0m - (232) Processing: gcp_filename = 'data/vc_39.206_-122.012_2022_11.csv'\u001b[0m\n"
     ]
    },
    {
     "name": "stderr",
     "output_type": "stream",
     "text": [
      "                                                                                \r"
     ]
    },
    {
     "name": "stdout",
     "output_type": "stream",
     "text": [
      "[\u001b[34m2023-02-28 15:31:18,933\u001b[0m] {\u001b[34mairflow_dag.py:\u001b[0m96} INFO\u001b[0m - (233) Processing: gcp_filename = 'data/vc_38.809_-121.196_2022_11.csv'\u001b[0m\n"
     ]
    },
    {
     "name": "stderr",
     "output_type": "stream",
     "text": [
      "                                                                                \r"
     ]
    },
    {
     "name": "stdout",
     "output_type": "stream",
     "text": [
      "[\u001b[34m2023-02-28 15:31:22,358\u001b[0m] {\u001b[34mairflow_dag.py:\u001b[0m96} INFO\u001b[0m - (234) Processing: gcp_filename = 'data/vc_33.825_-117.368_2022_11.csv'\u001b[0m\n"
     ]
    },
    {
     "name": "stderr",
     "output_type": "stream",
     "text": [
      "                                                                                \r"
     ]
    },
    {
     "name": "stdout",
     "output_type": "stream",
     "text": [
      "[\u001b[34m2023-02-28 15:31:26,267\u001b[0m] {\u001b[34mairflow_dag.py:\u001b[0m96} INFO\u001b[0m - (235) Processing: gcp_filename = 'data/vc_33.299_-115.961_2022_11.csv'\u001b[0m\n",
      "[\u001b[34m2023-02-28 15:31:29,417\u001b[0m] {\u001b[34mairflow_dag.py:\u001b[0m96} INFO\u001b[0m - (236) Processing: gcp_filename = 'data/vc_32.885_-116.945_2022_11.csv'\u001b[0m\n"
     ]
    },
    {
     "name": "stderr",
     "output_type": "stream",
     "text": [
      "                                                                                \r"
     ]
    },
    {
     "name": "stdout",
     "output_type": "stream",
     "text": [
      "[\u001b[34m2023-02-28 15:31:33,645\u001b[0m] {\u001b[34mairflow_dag.py:\u001b[0m96} INFO\u001b[0m - (237) Processing: gcp_filename = 'data/vc_39.623_-121.788_2022_11.csv'\u001b[0m\n",
      "[\u001b[34m2023-02-28 15:31:36,753\u001b[0m] {\u001b[34mairflow_dag.py:\u001b[0m96} INFO\u001b[0m - (238) Processing: gcp_filename = 'data/vc_34.443_-116.902_2022_11.csv'\u001b[0m\n"
     ]
    },
    {
     "name": "stderr",
     "output_type": "stream",
     "text": [
      "                                                                                \r"
     ]
    },
    {
     "name": "stdout",
     "output_type": "stream",
     "text": [
      "[\u001b[34m2023-02-28 15:31:40,421\u001b[0m] {\u001b[34mairflow_dag.py:\u001b[0m96} INFO\u001b[0m - (239) Processing: gcp_filename = 'data/vc_34.116_-118.01_2022_11.csv'\u001b[0m\n",
      "[\u001b[34m2023-02-28 15:31:44,396\u001b[0m] {\u001b[34mairflow_dag.py:\u001b[0m96} INFO\u001b[0m - (240) Processing: gcp_filename = 'data/vc_34.752_-117.343_2022_11.csv'\u001b[0m\n",
      "[\u001b[34m2023-02-28 15:31:48,286\u001b[0m] {\u001b[34mairflow_dag.py:\u001b[0m96} INFO\u001b[0m - (241) Processing: gcp_filename = 'data/vc_35.552_-121.085_2022_11.csv'\u001b[0m\n",
      "[\u001b[34m2023-02-28 15:31:51,709\u001b[0m] {\u001b[34mairflow_dag.py:\u001b[0m96} INFO\u001b[0m - (242) Processing: gcp_filename = 'data/vc_37.188_-119.772_2022_11.csv'\u001b[0m\n"
     ]
    },
    {
     "name": "stderr",
     "output_type": "stream",
     "text": [
      "                                                                                \r"
     ]
    },
    {
     "name": "stdout",
     "output_type": "stream",
     "text": [
      "[\u001b[34m2023-02-28 15:31:56,190\u001b[0m] {\u001b[34mairflow_dag.py:\u001b[0m96} INFO\u001b[0m - (243) Processing: gcp_filename = 'data/vc_39.15_-122.139_2022_11.csv'\u001b[0m\n"
     ]
    },
    {
     "name": "stderr",
     "output_type": "stream",
     "text": [
      "                                                                                \r"
     ]
    },
    {
     "name": "stdout",
     "output_type": "stream",
     "text": [
      "[\u001b[34m2023-02-28 15:32:03,615\u001b[0m] {\u001b[34mairflow_dag.py:\u001b[0m96} INFO\u001b[0m - (244) Processing: gcp_filename = 'data/vc_37.134_-122.127_2022_11.csv'\u001b[0m\n"
     ]
    },
    {
     "name": "stderr",
     "output_type": "stream",
     "text": [
      "                                                                                \r"
     ]
    },
    {
     "name": "stdout",
     "output_type": "stream",
     "text": [
      "[\u001b[34m2023-02-28 15:32:08,858\u001b[0m] {\u001b[34mairflow_dag.py:\u001b[0m96} INFO\u001b[0m - (245) Processing: gcp_filename = 'data/vc_37.994_-122.319_2022_11.csv'\u001b[0m\n"
     ]
    },
    {
     "name": "stderr",
     "output_type": "stream",
     "text": [
      "                                                                                \r"
     ]
    },
    {
     "name": "stdout",
     "output_type": "stream",
     "text": [
      "[\u001b[34m2023-02-28 15:32:13,052\u001b[0m] {\u001b[34mairflow_dag.py:\u001b[0m96} INFO\u001b[0m - (246) Processing: gcp_filename = 'data/vc_38.514_-122.989_2022_11.csv'\u001b[0m\n"
     ]
    },
    {
     "name": "stderr",
     "output_type": "stream",
     "text": [
      "                                                                                \r"
     ]
    },
    {
     "name": "stdout",
     "output_type": "stream",
     "text": [
      "[\u001b[34m2023-02-28 15:32:17,632\u001b[0m] {\u001b[34mairflow_dag.py:\u001b[0m96} INFO\u001b[0m - (247) Processing: gcp_filename = 'data/vc_37.791_-121.885_2022_11.csv'\u001b[0m\n"
     ]
    },
    {
     "name": "stderr",
     "output_type": "stream",
     "text": [
      "                                                                                \r"
     ]
    },
    {
     "name": "stdout",
     "output_type": "stream",
     "text": [
      "[\u001b[34m2023-02-28 15:32:21,083\u001b[0m] {\u001b[34mairflow_dag.py:\u001b[0m96} INFO\u001b[0m - (248) Processing: gcp_filename = 'data/vc_38.006_-122.503_2022_11.csv'\u001b[0m\n",
      "[\u001b[34m2023-02-28 15:32:25,493\u001b[0m] {\u001b[34mairflow_dag.py:\u001b[0m96} INFO\u001b[0m - (249) Processing: gcp_filename = 'data/vc_37.289_-120.321_2022_11.csv'\u001b[0m\n"
     ]
    },
    {
     "name": "stderr",
     "output_type": "stream",
     "text": [
      "                                                                                \r"
     ]
    },
    {
     "name": "stdout",
     "output_type": "stream",
     "text": [
      "[\u001b[34m2023-02-28 15:32:29,173\u001b[0m] {\u001b[34mairflow_dag.py:\u001b[0m96} INFO\u001b[0m - (250) Processing: gcp_filename = 'data/vc_37.936_-120.628_2022_11.csv'\u001b[0m\n"
     ]
    },
    {
     "name": "stderr",
     "output_type": "stream",
     "text": [
      "                                                                                \r"
     ]
    },
    {
     "name": "stdout",
     "output_type": "stream",
     "text": [
      "[\u001b[34m2023-02-28 15:32:32,836\u001b[0m] {\u001b[34mairflow_dag.py:\u001b[0m96} INFO\u001b[0m - (251) Processing: gcp_filename = 'data/vc_32.963_-117.263_2022_11.csv'\u001b[0m\n"
     ]
    },
    {
     "name": "stderr",
     "output_type": "stream",
     "text": [
      "                                                                                \r"
     ]
    },
    {
     "name": "stdout",
     "output_type": "stream",
     "text": [
      "[\u001b[34m2023-02-28 15:32:37,550\u001b[0m] {\u001b[34mairflow_dag.py:\u001b[0m96} INFO\u001b[0m - (252) Processing: gcp_filename = 'data/vc_36.389_-119.22_2022_11.csv'\u001b[0m\n",
      "[\u001b[34m2023-02-28 15:32:42,791\u001b[0m] {\u001b[34mairflow_dag.py:\u001b[0m96} INFO\u001b[0m - (253) Processing: gcp_filename = 'data/vc_36.482_-121.72_2022_11.csv'\u001b[0m\n"
     ]
    },
    {
     "name": "stderr",
     "output_type": "stream",
     "text": [
      "                                                                                \r"
     ]
    },
    {
     "name": "stdout",
     "output_type": "stream",
     "text": [
      "[\u001b[34m2023-02-28 15:32:47,281\u001b[0m] {\u001b[34mairflow_dag.py:\u001b[0m96} INFO\u001b[0m - (254) Processing: gcp_filename = 'data/vc_34.886_-117.108_2022_11.csv'\u001b[0m\n"
     ]
    },
    {
     "name": "stderr",
     "output_type": "stream",
     "text": [
      "                                                                                \r"
     ]
    },
    {
     "name": "stdout",
     "output_type": "stream",
     "text": [
      "[\u001b[34m2023-02-28 15:32:55,505\u001b[0m] {\u001b[34mairflow_dag.py:\u001b[0m96} INFO\u001b[0m - (255) Processing: gcp_filename = 'data/vc_40.502_-124.11_2022_11.csv'\u001b[0m\n"
     ]
    },
    {
     "name": "stderr",
     "output_type": "stream",
     "text": [
      "                                                                                \r"
     ]
    },
    {
     "name": "stdout",
     "output_type": "stream",
     "text": [
      "[\u001b[34m2023-02-28 15:33:00,893\u001b[0m] {\u001b[34mairflow_dag.py:\u001b[0m96} INFO\u001b[0m - (256) Processing: gcp_filename = 'data/vc_36.606_-120.19_2022_11.csv'\u001b[0m\n"
     ]
    },
    {
     "name": "stderr",
     "output_type": "stream",
     "text": [
      "                                                                                \r"
     ]
    },
    {
     "name": "stdout",
     "output_type": "stream",
     "text": [
      "[\u001b[34m2023-02-28 15:33:13,326\u001b[0m] {\u001b[34mairflow_dag.py:\u001b[0m96} INFO\u001b[0m - (257) Processing: gcp_filename = 'data/vc_34.35_-117.63_2022_11.csv'\u001b[0m\n"
     ]
    },
    {
     "name": "stderr",
     "output_type": "stream",
     "text": [
      "                                                                                \r"
     ]
    },
    {
     "name": "stdout",
     "output_type": "stream",
     "text": [
      "[\u001b[34m2023-02-28 15:33:18,956\u001b[0m] {\u001b[34mairflow_dag.py:\u001b[0m96} INFO\u001b[0m - (258) Processing: gcp_filename = 'data/vc_40.885_-121.669_2022_11.csv'\u001b[0m\n",
      "[\u001b[34m2023-02-28 15:33:26,953\u001b[0m] {\u001b[34mairflow_dag.py:\u001b[0m96} INFO\u001b[0m - (259) Processing: gcp_filename = 'data/vc_38.071_-120.55_2022_11.csv'\u001b[0m\n"
     ]
    },
    {
     "name": "stderr",
     "output_type": "stream",
     "text": [
      "                                                                                \r"
     ]
    },
    {
     "name": "stdout",
     "output_type": "stream",
     "text": [
      "[\u001b[34m2023-02-28 15:33:42,019\u001b[0m] {\u001b[34mairflow_dag.py:\u001b[0m96} INFO\u001b[0m - (260) Processing: gcp_filename = 'data/vc_38.951_-122.721_2022_11.csv'\u001b[0m\n"
     ]
    },
    {
     "name": "stderr",
     "output_type": "stream",
     "text": [
      "                                                                                \r"
     ]
    },
    {
     "name": "stdout",
     "output_type": "stream",
     "text": [
      "[\u001b[34m2023-02-28 15:33:47,257\u001b[0m] {\u001b[34mairflow_dag.py:\u001b[0m96} INFO\u001b[0m - (261) Processing: gcp_filename = 'data/vc_35.014_-118.19_2022_11.csv'\u001b[0m\n"
     ]
    },
    {
     "name": "stderr",
     "output_type": "stream",
     "text": [
      "                                                                                \r"
     ]
    },
    {
     "name": "stdout",
     "output_type": "stream",
     "text": [
      "[\u001b[34m2023-02-28 15:33:57,223\u001b[0m] {\u001b[34mairflow_dag.py:\u001b[0m96} INFO\u001b[0m - (262) Processing: gcp_filename = 'data/vc_39.014_-122.061_2022_11.csv'\u001b[0m\n"
     ]
    },
    {
     "name": "stderr",
     "output_type": "stream",
     "text": [
      "                                                                                \r"
     ]
    },
    {
     "name": "stdout",
     "output_type": "stream",
     "text": [
      "[\u001b[34m2023-02-28 15:34:03,114\u001b[0m] {\u001b[34mairflow_dag.py:\u001b[0m96} INFO\u001b[0m - (263) Processing: gcp_filename = 'data/vc_39.443_-123.396_2022_11.csv'\u001b[0m\n"
     ]
    },
    {
     "name": "stderr",
     "output_type": "stream",
     "text": [
      "                                                                                \r"
     ]
    },
    {
     "name": "stdout",
     "output_type": "stream",
     "text": [
      "[\u001b[34m2023-02-28 15:34:24,084\u001b[0m] {\u001b[34mairflow_dag.py:\u001b[0m96} INFO\u001b[0m - (264) Processing: gcp_filename = 'data/vc_38.482_-122.89_2022_11.csv'\u001b[0m\n"
     ]
    },
    {
     "name": "stderr",
     "output_type": "stream",
     "text": [
      "                                                                                \r"
     ]
    },
    {
     "name": "stdout",
     "output_type": "stream",
     "text": [
      "[\u001b[34m2023-02-28 15:34:34,036\u001b[0m] {\u001b[34mairflow_dag.py:\u001b[0m96} INFO\u001b[0m - (265) Processing: gcp_filename = 'data/vc_34.504_-118.316_2022_11.csv'\u001b[0m\n"
     ]
    },
    {
     "name": "stderr",
     "output_type": "stream",
     "text": [
      "                                                                                \r"
     ]
    },
    {
     "name": "stdout",
     "output_type": "stream",
     "text": [
      "[\u001b[34m2023-02-28 15:34:40,721\u001b[0m] {\u001b[34mairflow_dag.py:\u001b[0m96} INFO\u001b[0m - (266) Processing: gcp_filename = 'data/vc_33.334_-118.332_2022_11.csv'\u001b[0m\n"
     ]
    },
    {
     "name": "stderr",
     "output_type": "stream",
     "text": [
      "                                                                                \r"
     ]
    },
    {
     "name": "stdout",
     "output_type": "stream",
     "text": [
      "[\u001b[34m2023-02-28 15:34:47,821\u001b[0m] {\u001b[34mairflow_dag.py:\u001b[0m96} INFO\u001b[0m - (267) Processing: gcp_filename = 'data/vc_38.892_-120.985_2022_11.csv'\u001b[0m\n"
     ]
    },
    {
     "name": "stderr",
     "output_type": "stream",
     "text": [
      "                                                                                \r"
     ]
    },
    {
     "name": "stdout",
     "output_type": "stream",
     "text": [
      "[\u001b[34m2023-02-28 15:34:52,248\u001b[0m] {\u001b[34mairflow_dag.py:\u001b[0m96} INFO\u001b[0m - (268) Processing: gcp_filename = 'data/vc_36.694_-119.2_2022_11.csv'\u001b[0m\n"
     ]
    },
    {
     "name": "stderr",
     "output_type": "stream",
     "text": [
      "                                                                                \r"
     ]
    },
    {
     "name": "stdout",
     "output_type": "stream",
     "text": [
      "[\u001b[34m2023-02-28 15:34:58,286\u001b[0m] {\u001b[34mairflow_dag.py:\u001b[0m96} INFO\u001b[0m - (269) Processing: gcp_filename = 'data/vc_37.518_-122.504_2022_11.csv'\u001b[0m\n"
     ]
    },
    {
     "name": "stderr",
     "output_type": "stream",
     "text": [
      "                                                                                \r"
     ]
    },
    {
     "name": "stdout",
     "output_type": "stream",
     "text": [
      "[\u001b[34m2023-02-28 15:35:05,874\u001b[0m] {\u001b[34mairflow_dag.py:\u001b[0m96} INFO\u001b[0m - (270) Processing: gcp_filename = 'data/vc_32.732_-115.52_2022_11.csv'\u001b[0m\n"
     ]
    },
    {
     "name": "stderr",
     "output_type": "stream",
     "text": [
      "                                                                                \r"
     ]
    },
    {
     "name": "stdout",
     "output_type": "stream",
     "text": [
      "[\u001b[34m2023-02-28 15:35:14,269\u001b[0m] {\u001b[34mairflow_dag.py:\u001b[0m96} INFO\u001b[0m - (271) Processing: gcp_filename = 'data/vc_35.094_-118.648_2022_11.csv'\u001b[0m\n"
     ]
    },
    {
     "name": "stderr",
     "output_type": "stream",
     "text": [
      "                                                                                \r"
     ]
    },
    {
     "name": "stdout",
     "output_type": "stream",
     "text": [
      "[\u001b[34m2023-02-28 15:35:21,368\u001b[0m] {\u001b[34mairflow_dag.py:\u001b[0m96} INFO\u001b[0m - (272) Processing: gcp_filename = 'data/vc_34.45_-119.273_2022_11.csv'\u001b[0m\n"
     ]
    },
    {
     "name": "stderr",
     "output_type": "stream",
     "text": [
      "                                                                                \r"
     ]
    },
    {
     "name": "stdout",
     "output_type": "stream",
     "text": [
      "[\u001b[34m2023-02-28 15:35:27,888\u001b[0m] {\u001b[34mairflow_dag.py:\u001b[0m96} INFO\u001b[0m - (273) Processing: gcp_filename = 'data/vc_38.97_-122.833_2022_11.csv'\u001b[0m\n"
     ]
    },
    {
     "name": "stderr",
     "output_type": "stream",
     "text": [
      "                                                                                \r"
     ]
    },
    {
     "name": "stdout",
     "output_type": "stream",
     "text": [
      "[\u001b[34m2023-02-28 15:35:33,787\u001b[0m] {\u001b[34mairflow_dag.py:\u001b[0m96} INFO\u001b[0m - (274) Processing: gcp_filename = 'data/vc_38.151_-121.155_2022_11.csv'\u001b[0m\n"
     ]
    },
    {
     "name": "stderr",
     "output_type": "stream",
     "text": [
      "                                                                                \r"
     ]
    },
    {
     "name": "stdout",
     "output_type": "stream",
     "text": [
      "[\u001b[34m2023-02-28 15:35:39,420\u001b[0m] {\u001b[34mairflow_dag.py:\u001b[0m96} INFO\u001b[0m - (275) Processing: gcp_filename = 'data/vc_38.184_-120.815_2022_11.csv'\u001b[0m\n",
      "[\u001b[34m2023-02-28 15:35:50,558\u001b[0m] {\u001b[34mairflow_dag.py:\u001b[0m96} INFO\u001b[0m - (276) Processing: gcp_filename = 'data/vc_37.334_-119.648_2022_11.csv'\u001b[0m\n"
     ]
    },
    {
     "name": "stderr",
     "output_type": "stream",
     "text": [
      "                                                                                \r"
     ]
    },
    {
     "name": "stdout",
     "output_type": "stream",
     "text": [
      "[\u001b[34m2023-02-28 15:35:56,716\u001b[0m] {\u001b[34mairflow_dag.py:\u001b[0m96} INFO\u001b[0m - (277) Processing: gcp_filename = 'data/vc_36.43_-119.867_2022_11.csv'\u001b[0m\n",
      "[\u001b[34m2023-02-28 15:35:59,861\u001b[0m] {\u001b[34mairflow_dag.py:\u001b[0m96} INFO\u001b[0m - (278) Processing: gcp_filename = 'data/vc_37.887_-122.037_2022_11.csv'\u001b[0m\n"
     ]
    },
    {
     "name": "stderr",
     "output_type": "stream",
     "text": [
      "                                                                                \r"
     ]
    },
    {
     "name": "stdout",
     "output_type": "stream",
     "text": [
      "[\u001b[34m2023-02-28 15:36:03,468\u001b[0m] {\u001b[34mairflow_dag.py:\u001b[0m96} INFO\u001b[0m - (279) Processing: gcp_filename = 'data/vc_32.639_-116.474_2022_11.csv'\u001b[0m\n"
     ]
    },
    {
     "name": "stderr",
     "output_type": "stream",
     "text": [
      "                                                                                \r"
     ]
    },
    {
     "name": "stdout",
     "output_type": "stream",
     "text": [
      "[\u001b[34m2023-02-28 15:36:14,054\u001b[0m] {\u001b[34mairflow_dag.py:\u001b[0m96} INFO\u001b[0m - (280) Processing: gcp_filename = 'data/vc_34.748_-120.518_2022_11.csv'\u001b[0m\n"
     ]
    },
    {
     "name": "stderr",
     "output_type": "stream",
     "text": [
      "                                                                                \r"
     ]
    },
    {
     "name": "stdout",
     "output_type": "stream",
     "text": [
      "[\u001b[34m2023-02-28 15:36:19,192\u001b[0m] {\u001b[34mairflow_dag.py:\u001b[0m96} INFO\u001b[0m - (281) Processing: gcp_filename = 'data/vc_40.731_-124.155_2022_11.csv'\u001b[0m\n"
     ]
    },
    {
     "name": "stderr",
     "output_type": "stream",
     "text": [
      "                                                                                \r"
     ]
    },
    {
     "name": "stdout",
     "output_type": "stream",
     "text": [
      "[\u001b[34m2023-02-28 15:36:23,568\u001b[0m] {\u001b[34mairflow_dag.py:\u001b[0m96} INFO\u001b[0m - (282) Processing: gcp_filename = 'data/vc_35.977_-119.289_2022_11.csv'\u001b[0m\n"
     ]
    },
    {
     "name": "stderr",
     "output_type": "stream",
     "text": [
      "                                                                                \r"
     ]
    },
    {
     "name": "stdout",
     "output_type": "stream",
     "text": [
      "[\u001b[34m2023-02-28 15:36:27,795\u001b[0m] {\u001b[34mairflow_dag.py:\u001b[0m96} INFO\u001b[0m - (283) Processing: gcp_filename = 'data/vc_38.693_-122.024_2022_11.csv'\u001b[0m\n"
     ]
    },
    {
     "name": "stderr",
     "output_type": "stream",
     "text": [
      "                                                                                \r"
     ]
    },
    {
     "name": "stdout",
     "output_type": "stream",
     "text": [
      "[\u001b[34m2023-02-28 15:36:31,370\u001b[0m] {\u001b[34mairflow_dag.py:\u001b[0m96} INFO\u001b[0m - (284) Processing: gcp_filename = 'data/vc_37.256_-121.929_2022_11.csv'\u001b[0m\n"
     ]
    },
    {
     "name": "stderr",
     "output_type": "stream",
     "text": [
      "                                                                                \r"
     ]
    },
    {
     "name": "stdout",
     "output_type": "stream",
     "text": [
      "[\u001b[34m2023-02-28 15:36:35,015\u001b[0m] {\u001b[34mairflow_dag.py:\u001b[0m96} INFO\u001b[0m - (285) Processing: gcp_filename = 'data/vc_40.39_-122.286_2022_11.csv'\u001b[0m\n"
     ]
    },
    {
     "name": "stderr",
     "output_type": "stream",
     "text": [
      "                                                                                \r"
     ]
    },
    {
     "name": "stdout",
     "output_type": "stream",
     "text": [
      "[\u001b[34m2023-02-28 15:36:39,025\u001b[0m] {\u001b[34mairflow_dag.py:\u001b[0m96} INFO\u001b[0m - (286) Processing: gcp_filename = 'data/vc_39.094_-120.953_2022_11.csv'\u001b[0m\n"
     ]
    },
    {
     "name": "stderr",
     "output_type": "stream",
     "text": [
      "                                                                                \r"
     ]
    },
    {
     "name": "stdout",
     "output_type": "stream",
     "text": [
      "[\u001b[34m2023-02-28 15:36:42,179\u001b[0m] {\u001b[34mairflow_dag.py:\u001b[0m96} INFO\u001b[0m - (287) Processing: gcp_filename = 'data/vc_41.08_-123.697_2022_11.csv'\u001b[0m\n"
     ]
    },
    {
     "name": "stderr",
     "output_type": "stream",
     "text": [
      "                                                                                \r"
     ]
    },
    {
     "name": "stdout",
     "output_type": "stream",
     "text": [
      "[\u001b[34m2023-02-28 15:36:47,139\u001b[0m] {\u001b[34mairflow_dag.py:\u001b[0m96} INFO\u001b[0m - (288) Processing: gcp_filename = 'data/vc_38.578_-122.451_2022_11.csv'\u001b[0m\n"
     ]
    },
    {
     "name": "stderr",
     "output_type": "stream",
     "text": [
      "                                                                                \r"
     ]
    },
    {
     "name": "stdout",
     "output_type": "stream",
     "text": [
      "[\u001b[34m2023-02-28 15:36:51,633\u001b[0m] {\u001b[34mairflow_dag.py:\u001b[0m96} INFO\u001b[0m - (289) Processing: gcp_filename = 'data/vc_38.039_-121.246_2022_11.csv'\u001b[0m\n"
     ]
    },
    {
     "name": "stderr",
     "output_type": "stream",
     "text": [
      "                                                                                \r"
     ]
    },
    {
     "name": "stdout",
     "output_type": "stream",
     "text": [
      "[\u001b[34m2023-02-28 15:37:02,469\u001b[0m] {\u001b[34mairflow_dag.py:\u001b[0m96} INFO\u001b[0m - (290) Processing: gcp_filename = 'data/vc_37.044_-122.137_2022_11.csv'\u001b[0m\n"
     ]
    },
    {
     "name": "stderr",
     "output_type": "stream",
     "text": [
      "                                                                                \r"
     ]
    },
    {
     "name": "stdout",
     "output_type": "stream",
     "text": [
      "[\u001b[34m2023-02-28 15:37:09,428\u001b[0m] {\u001b[34mairflow_dag.py:\u001b[0m96} INFO\u001b[0m - (291) Processing: gcp_filename = 'data/vc_34.072_-116.563_2022_11.csv'\u001b[0m\n"
     ]
    },
    {
     "name": "stderr",
     "output_type": "stream",
     "text": [
      "                                                                                \r"
     ]
    },
    {
     "name": "stdout",
     "output_type": "stream",
     "text": [
      "[\u001b[34m2023-02-28 15:37:15,440\u001b[0m] {\u001b[34mairflow_dag.py:\u001b[0m96} INFO\u001b[0m - (292) Processing: gcp_filename = 'data/vc_35.731_-120.87_2022_11.csv'\u001b[0m\n",
      "[\u001b[34m2023-02-28 15:37:20,157\u001b[0m] {\u001b[34mairflow_dag.py:\u001b[0m96} INFO\u001b[0m - (293) Processing: gcp_filename = 'data/vc_39.477_-121.544_2022_11.csv'\u001b[0m\n",
      "[\u001b[34m2023-02-28 15:37:25,410\u001b[0m] {\u001b[34mairflow_dag.py:\u001b[0m96} INFO\u001b[0m - (294) Processing: gcp_filename = 'data/vc_34.159_-119.223_2022_11.csv'\u001b[0m\n"
     ]
    },
    {
     "name": "stderr",
     "output_type": "stream",
     "text": [
      "                                                                                \r"
     ]
    },
    {
     "name": "stdout",
     "output_type": "stream",
     "text": [
      "[\u001b[34m2023-02-28 15:37:29,070\u001b[0m] {\u001b[34mairflow_dag.py:\u001b[0m96} INFO\u001b[0m - (295) Processing: gcp_filename = 'data/vc_39.07_-122.776_2022_11.csv'\u001b[0m\n"
     ]
    },
    {
     "name": "stderr",
     "output_type": "stream",
     "text": [
      "                                                                                \r"
     ]
    },
    {
     "name": "stdout",
     "output_type": "stream",
     "text": [
      "[\u001b[34m2023-02-28 15:37:32,737\u001b[0m] {\u001b[34mairflow_dag.py:\u001b[0m96} INFO\u001b[0m - (296) Processing: gcp_filename = 'data/vc_33.528_-116.126_2022_11.csv'\u001b[0m\n"
     ]
    },
    {
     "name": "stderr",
     "output_type": "stream",
     "text": [
      "                                                                                \r"
     ]
    },
    {
     "name": "stdout",
     "output_type": "stream",
     "text": [
      "[\u001b[34m2023-02-28 15:37:36,405\u001b[0m] {\u001b[34mairflow_dag.py:\u001b[0m96} INFO\u001b[0m - (297) Processing: gcp_filename = 'data/vc_37.785_-120.801_2022_11.csv'\u001b[0m\n"
     ]
    },
    {
     "name": "stderr",
     "output_type": "stream",
     "text": [
      "                                                                                \r"
     ]
    },
    {
     "name": "stdout",
     "output_type": "stream",
     "text": [
      "[\u001b[34m2023-02-28 15:37:40,598\u001b[0m] {\u001b[34mairflow_dag.py:\u001b[0m96} INFO\u001b[0m - (298) Processing: gcp_filename = 'data/vc_33.516_-115.909_2022_11.csv'\u001b[0m\n",
      "[\u001b[34m2023-02-28 15:37:48,070\u001b[0m] {\u001b[34mairflow_dag.py:\u001b[0m96} INFO\u001b[0m - (299) Processing: gcp_filename = 'data/vc_41.413_-122.382_2022_11.csv'\u001b[0m\n"
     ]
    },
    {
     "name": "stderr",
     "output_type": "stream",
     "text": [
      "                                                                                \r"
     ]
    },
    {
     "name": "stdout",
     "output_type": "stream",
     "text": [
      "[\u001b[34m2023-02-28 15:37:51,081\u001b[0m] {\u001b[34mairflow_dag.py:\u001b[0m96} INFO\u001b[0m - (300) Processing: gcp_filename = 'data/vc_40.561_-123.13_2022_11.csv'\u001b[0m\n",
      "[\u001b[34m2023-02-28 15:37:53,873\u001b[0m] {\u001b[34mairflow_dag.py:\u001b[0m96} INFO\u001b[0m - (301) Processing: gcp_filename = 'data/vc_41.49_-120.552_2022_11.csv'\u001b[0m\n",
      "[\u001b[34m2023-02-28 15:37:55,817\u001b[0m] {\u001b[34mairflow_dag.py:\u001b[0m96} INFO\u001b[0m - (302) Processing: gcp_filename = 'data/vc_38.383_-120.811_2022_11.csv'\u001b[0m\n",
      "[\u001b[34m2023-02-28 15:37:57,739\u001b[0m] {\u001b[34mairflow_dag.py:\u001b[0m96} INFO\u001b[0m - (303) Processing: gcp_filename = 'data/vc_33.913_-116.783_2022_11.csv'\u001b[0m\n",
      "[\u001b[34m2023-02-28 15:37:59,597\u001b[0m] {\u001b[34mairflow_dag.py:\u001b[0m96} INFO\u001b[0m - (304) Processing: gcp_filename = 'data/vc_38.911_-120.836_2022_11.csv'\u001b[0m\n",
      "[\u001b[34m2023-02-28 15:38:01,438\u001b[0m] {\u001b[34mairflow_dag.py:\u001b[0m96} INFO\u001b[0m - (305) Processing: gcp_filename = 'data/vc_34.904_-117.93_2022_11.csv'\u001b[0m\n",
      "[\u001b[34m2023-02-28 15:38:03,386\u001b[0m] {\u001b[34mairflow_dag.py:\u001b[0m96} INFO\u001b[0m - (306) Processing: gcp_filename = 'data/vc_33.744_-116.726_2022_11.csv'\u001b[0m\n",
      "[\u001b[34m2023-02-28 15:38:05,474\u001b[0m] {\u001b[34mairflow_dag.py:\u001b[0m96} INFO\u001b[0m - (307) Processing: gcp_filename = 'data/vc_36.877_-121.64_2022_11.csv'\u001b[0m\n",
      "[\u001b[34m2023-02-28 15:38:07,401\u001b[0m] {\u001b[34mairflow_dag.py:\u001b[0m96} INFO\u001b[0m - (308) Processing: gcp_filename = 'data/vc_36.432_-118.881_2022_11.csv'\u001b[0m\n",
      "[\u001b[34m2023-02-28 15:38:09,765\u001b[0m] {\u001b[34mairflow_dag.py:\u001b[0m96} INFO\u001b[0m - (309) Processing: gcp_filename = 'data/vc_35.713_-118.473_2022_11.csv'\u001b[0m\n"
     ]
    },
    {
     "name": "stderr",
     "output_type": "stream",
     "text": [
      "                                                                                \r"
     ]
    },
    {
     "name": "stdout",
     "output_type": "stream",
     "text": [
      "[\u001b[34m2023-02-28 15:38:14,827\u001b[0m] {\u001b[34mairflow_dag.py:\u001b[0m96} INFO\u001b[0m - (310) Processing: gcp_filename = 'data/vc_35.797_-119.107_2022_11.csv'\u001b[0m\n"
     ]
    },
    {
     "name": "stderr",
     "output_type": "stream",
     "text": [
      "                                                                                \r"
     ]
    },
    {
     "name": "stdout",
     "output_type": "stream",
     "text": [
      "[\u001b[34m2023-02-28 15:38:17,920\u001b[0m] {\u001b[34mairflow_dag.py:\u001b[0m96} INFO\u001b[0m - (311) Processing: gcp_filename = 'data/vc_39.824_-120.473_2022_11.csv'\u001b[0m\n",
      "[\u001b[34m2023-02-28 15:38:20,592\u001b[0m] {\u001b[34mairflow_dag.py:\u001b[0m96} INFO\u001b[0m - (312) Processing: gcp_filename = 'data/vc_38.242_-120.355_2022_11.csv'\u001b[0m\n"
     ]
    },
    {
     "name": "stderr",
     "output_type": "stream",
     "text": [
      "                                                                                \r"
     ]
    },
    {
     "name": "stdout",
     "output_type": "stream",
     "text": [
      "[\u001b[34m2023-02-28 15:38:24,067\u001b[0m] {\u001b[34mairflow_dag.py:\u001b[0m96} INFO\u001b[0m - (313) Processing: gcp_filename = 'data/vc_35.237_-118.912_2022_11.csv'\u001b[0m\n",
      "[\u001b[34m2023-02-28 15:38:27,046\u001b[0m] {\u001b[34mairflow_dag.py:\u001b[0m96} INFO\u001b[0m - (314) Processing: gcp_filename = 'data/vc_37.978_-120.341_2022_11.csv'\u001b[0m\n",
      "[\u001b[34m2023-02-28 15:38:29,895\u001b[0m] {\u001b[34mairflow_dag.py:\u001b[0m96} INFO\u001b[0m - (315) Processing: gcp_filename = 'data/vc_38.012_-122.588_2022_11.csv'\u001b[0m\n"
     ]
    },
    {
     "name": "stderr",
     "output_type": "stream",
     "text": [
      "                                                                                \r"
     ]
    },
    {
     "name": "stdout",
     "output_type": "stream",
     "text": [
      "[\u001b[34m2023-02-28 15:38:32,619\u001b[0m] {\u001b[34mairflow_dag.py:\u001b[0m96} INFO\u001b[0m - (316) Processing: gcp_filename = 'data/vc_36.056_-119.149_2022_11.csv'\u001b[0m\n",
      "[\u001b[34m2023-02-28 15:38:35,273\u001b[0m] {\u001b[34mairflow_dag.py:\u001b[0m96} INFO\u001b[0m - (317) Processing: gcp_filename = 'data/vc_33.039_-115.622_2022_11.csv'\u001b[0m\n",
      "[\u001b[34m2023-02-28 15:38:37,840\u001b[0m] {\u001b[34mairflow_dag.py:\u001b[0m96} INFO\u001b[0m - (318) Processing: gcp_filename = 'data/vc_36.961_-121.834_2022_11.csv'\u001b[0m\n"
     ]
    },
    {
     "name": "stderr",
     "output_type": "stream",
     "text": [
      "                                                                                \r"
     ]
    },
    {
     "name": "stdout",
     "output_type": "stream",
     "text": [
      "[\u001b[34m2023-02-28 15:38:41,038\u001b[0m] {\u001b[34mairflow_dag.py:\u001b[0m96} INFO\u001b[0m - (319) Processing: gcp_filename = 'data/vc_40.504_-121.86_2022_11.csv'\u001b[0m\n"
     ]
    },
    {
     "name": "stderr",
     "output_type": "stream",
     "text": [
      "                                                                                \r"
     ]
    },
    {
     "name": "stdout",
     "output_type": "stream",
     "text": [
      "[\u001b[34m2023-02-28 15:38:45,626\u001b[0m] {\u001b[34mairflow_dag.py:\u001b[0m96} INFO\u001b[0m - (320) Processing: gcp_filename = 'data/vc_35.016_-117.666_2022_11.csv'\u001b[0m\n"
     ]
    },
    {
     "name": "stderr",
     "output_type": "stream",
     "text": [
      "                                                                                \r"
     ]
    },
    {
     "name": "stdout",
     "output_type": "stream",
     "text": [
      "[\u001b[34m2023-02-28 15:38:49,035\u001b[0m] {\u001b[34mairflow_dag.py:\u001b[0m96} INFO\u001b[0m - (321) Processing: gcp_filename = 'data/vc_40.302_-121.234_2022_11.csv'\u001b[0m\n",
      "[\u001b[34m2023-02-28 15:38:52,963\u001b[0m] {\u001b[34mairflow_dag.py:\u001b[0m96} INFO\u001b[0m - (322) Processing: gcp_filename = 'data/vc_33.241_-116.357_2022_11.csv'\u001b[0m\n"
     ]
    },
    {
     "name": "stderr",
     "output_type": "stream",
     "text": [
      "                                                                                \r"
     ]
    },
    {
     "name": "stdout",
     "output_type": "stream",
     "text": [
      "[\u001b[34m2023-02-28 15:38:56,377\u001b[0m] {\u001b[34mairflow_dag.py:\u001b[0m96} INFO\u001b[0m - (323) Processing: gcp_filename = 'data/vc_35.639_-117.767_2022_11.csv'\u001b[0m\n"
     ]
    },
    {
     "name": "stderr",
     "output_type": "stream",
     "text": [
      "                                                                                \r"
     ]
    },
    {
     "name": "stdout",
     "output_type": "stream",
     "text": [
      "[\u001b[34m2023-02-28 15:39:00,011\u001b[0m] {\u001b[34mairflow_dag.py:\u001b[0m96} INFO\u001b[0m - (324) Processing: gcp_filename = 'data/vc_37.101_-121.015_2022_11.csv'\u001b[0m\n"
     ]
    },
    {
     "name": "stderr",
     "output_type": "stream",
     "text": [
      "                                                                                \r"
     ]
    },
    {
     "name": "stdout",
     "output_type": "stream",
     "text": [
      "[\u001b[34m2023-02-28 15:39:08,824\u001b[0m] {\u001b[34mairflow_dag.py:\u001b[0m96} INFO\u001b[0m - (325) Processing: gcp_filename = 'data/vc_39.742_-122.012_2022_11.csv'\u001b[0m\n"
     ]
    },
    {
     "name": "stderr",
     "output_type": "stream",
     "text": [
      "                                                                                \r"
     ]
    },
    {
     "name": "stdout",
     "output_type": "stream",
     "text": [
      "[\u001b[34m2023-02-28 15:39:14,584\u001b[0m] {\u001b[34mairflow_dag.py:\u001b[0m96} INFO\u001b[0m - (326) Processing: gcp_filename = 'data/vc_35.576_-118.476_2022_11.csv'\u001b[0m\n",
      "[\u001b[34m2023-02-28 15:39:17,208\u001b[0m] {\u001b[34mairflow_dag.py:\u001b[0m96} INFO\u001b[0m - (327) Processing: gcp_filename = 'data/vc_36.652_-119.791_2022_11.csv'\u001b[0m\n"
     ]
    },
    {
     "name": "stderr",
     "output_type": "stream",
     "text": [
      "                                                                                \r"
     ]
    },
    {
     "name": "stdout",
     "output_type": "stream",
     "text": [
      "[\u001b[34m2023-02-28 15:39:20,217\u001b[0m] {\u001b[34mairflow_dag.py:\u001b[0m96} INFO\u001b[0m - (328) Processing: gcp_filename = 'data/vc_32.79_-115.684_2022_11.csv'\u001b[0m\n"
     ]
    },
    {
     "name": "stderr",
     "output_type": "stream",
     "text": [
      "                                                                                \r"
     ]
    },
    {
     "name": "stdout",
     "output_type": "stream",
     "text": [
      "[\u001b[34m2023-02-28 15:39:22,970\u001b[0m] {\u001b[34mairflow_dag.py:\u001b[0m96} INFO\u001b[0m - (329) Processing: gcp_filename = 'data/vc_37.076_-119.49_2022_11.csv'\u001b[0m\n",
      "[\u001b[34m2023-02-28 15:39:25,589\u001b[0m] {\u001b[34mairflow_dag.py:\u001b[0m96} INFO\u001b[0m - (330) Processing: gcp_filename = 'data/vc_36.434_-119.692_2022_11.csv'\u001b[0m\n"
     ]
    },
    {
     "name": "stderr",
     "output_type": "stream",
     "text": [
      "                                                                                \r"
     ]
    },
    {
     "name": "stdout",
     "output_type": "stream",
     "text": [
      "[\u001b[34m2023-02-28 15:39:29,923\u001b[0m] {\u001b[34mairflow_dag.py:\u001b[0m96} INFO\u001b[0m - (331) Processing: gcp_filename = 'data/vc_39.931_-120.955_2022_11.csv'\u001b[0m\n",
      "[\u001b[34m2023-02-28 15:39:33,321\u001b[0m] {\u001b[34mairflow_dag.py:\u001b[0m96} INFO\u001b[0m - (332) Processing: gcp_filename = 'data/vc_38.741_-120.682_2022_11.csv'\u001b[0m\n"
     ]
    },
    {
     "name": "stderr",
     "output_type": "stream",
     "text": [
      "                                                                                \r"
     ]
    },
    {
     "name": "stdout",
     "output_type": "stream",
     "text": [
      "[\u001b[34m2023-02-28 15:39:42,888\u001b[0m] {\u001b[34mairflow_dag.py:\u001b[0m96} INFO\u001b[0m - (333) Processing: gcp_filename = 'data/vc_36.577_-118.078_2022_11.csv'\u001b[0m\n"
     ]
    },
    {
     "name": "stderr",
     "output_type": "stream",
     "text": [
      "                                                                                \r"
     ]
    },
    {
     "name": "stdout",
     "output_type": "stream",
     "text": [
      "[\u001b[34m2023-02-28 15:39:47,772\u001b[0m] {\u001b[34mairflow_dag.py:\u001b[0m96} INFO\u001b[0m - (334) Processing: gcp_filename = 'data/vc_34.408_-118.8_2022_11.csv'\u001b[0m\n",
      "[\u001b[34m2023-02-28 15:39:51,139\u001b[0m] {\u001b[34mairflow_dag.py:\u001b[0m96} INFO\u001b[0m - (335) Processing: gcp_filename = 'data/vc_38.018_-122.691_2022_11.csv'\u001b[0m\n"
     ]
    },
    {
     "name": "stderr",
     "output_type": "stream",
     "text": [
      "                                                                                \r"
     ]
    },
    {
     "name": "stdout",
     "output_type": "stream",
     "text": [
      "[\u001b[34m2023-02-28 15:39:54,810\u001b[0m] {\u001b[34mairflow_dag.py:\u001b[0m96} INFO\u001b[0m - (336) Processing: gcp_filename = 'data/vc_38.407_-120.661_2022_11.csv'\u001b[0m\n"
     ]
    },
    {
     "name": "stderr",
     "output_type": "stream",
     "text": [
      "                                                                                \r"
     ]
    },
    {
     "name": "stdout",
     "output_type": "stream",
     "text": [
      "[\u001b[34m2023-02-28 15:39:57,643\u001b[0m] {\u001b[34mairflow_dag.py:\u001b[0m96} INFO\u001b[0m - (337) Processing: gcp_filename = 'data/vc_34.845_-119.167_2022_11.csv'\u001b[0m\n",
      "[\u001b[34m2023-02-28 15:40:00,183\u001b[0m] {\u001b[34mairflow_dag.py:\u001b[0m96} INFO\u001b[0m - (338) Processing: gcp_filename = 'data/vc_34.659_-118.378_2022_11.csv'\u001b[0m\n"
     ]
    },
    {
     "name": "stderr",
     "output_type": "stream",
     "text": [
      "                                                                                \r"
     ]
    },
    {
     "name": "stdout",
     "output_type": "stream",
     "text": [
      "[\u001b[34m2023-02-28 15:40:02,510\u001b[0m] {\u001b[34mairflow_dag.py:\u001b[0m96} INFO\u001b[0m - (339) Processing: gcp_filename = 'data/vc_35.625_-119.679_2022_11.csv'\u001b[0m\n",
      "[\u001b[34m2023-02-28 15:40:04,869\u001b[0m] {\u001b[34mairflow_dag.py:\u001b[0m96} INFO\u001b[0m - (340) Processing: gcp_filename = 'data/vc_36.801_-120.02_2022_11.csv'\u001b[0m\n",
      "[\u001b[34m2023-02-28 15:40:07,519\u001b[0m] {\u001b[34mairflow_dag.py:\u001b[0m96} INFO\u001b[0m - (341) Processing: gcp_filename = 'data/vc_35.77_-117.397_2022_11.csv'\u001b[0m\n"
     ]
    },
    {
     "name": "stderr",
     "output_type": "stream",
     "text": [
      "                                                                                \r"
     ]
    },
    {
     "name": "stdout",
     "output_type": "stream",
     "text": [
      "[\u001b[34m2023-02-28 15:40:09,860\u001b[0m] {\u001b[34mairflow_dag.py:\u001b[0m96} INFO\u001b[0m - (342) Processing: gcp_filename = 'data/vc_36.593_-121.838_2022_11.csv'\u001b[0m\n",
      "[\u001b[34m2023-02-28 15:40:13,677\u001b[0m] {\u001b[34mairflow_dag.py:\u001b[0m96} INFO\u001b[0m - (343) Processing: gcp_filename = 'data/vc_34.738_-120.278_2022_11.csv'\u001b[0m\n",
      "[\u001b[34m2023-02-28 15:40:16,237\u001b[0m] {\u001b[34mairflow_dag.py:\u001b[0m96} INFO\u001b[0m - (344) Processing: gcp_filename = 'data/vc_38.112_-122.519_2022_11.csv'\u001b[0m\n",
      "[\u001b[34m2023-02-28 15:40:20,264\u001b[0m] {\u001b[34mairflow_dag.py:\u001b[0m96} INFO\u001b[0m - (345) Processing: gcp_filename = 'data/vc_38.258_-122.498_2022_11.csv'\u001b[0m\n",
      "[\u001b[34m2023-02-28 15:40:24,161\u001b[0m] {\u001b[34mairflow_dag.py:\u001b[0m96} INFO\u001b[0m - (346) Processing: gcp_filename = 'data/vc_37.962_-120.243_2022_11.csv'\u001b[0m\n",
      "[\u001b[34m2023-02-28 15:40:26,779\u001b[0m] {\u001b[34mairflow_dag.py:\u001b[0m96} INFO\u001b[0m - (347) Processing: gcp_filename = 'data/vc_32.87_-116.628_2022_11.csv'\u001b[0m\n",
      "[\u001b[34m2023-02-28 15:40:29,924\u001b[0m] {\u001b[34mairflow_dag.py:\u001b[0m96} INFO\u001b[0m - (348) Processing: gcp_filename = 'data/vc_38.019_-121.099_2022_11.csv'\u001b[0m\n"
     ]
    },
    {
     "name": "stderr",
     "output_type": "stream",
     "text": [
      "                                                                                \r"
     ]
    },
    {
     "name": "stdout",
     "output_type": "stream",
     "text": [
      "[\u001b[34m2023-02-28 15:40:33,594\u001b[0m] {\u001b[34mairflow_dag.py:\u001b[0m96} INFO\u001b[0m - (349) Processing: gcp_filename = 'data/vc_37.166_-118.295_2022_11.csv'\u001b[0m\n",
      "[\u001b[34m2023-02-28 15:40:36,741\u001b[0m] {\u001b[34mairflow_dag.py:\u001b[0m96} INFO\u001b[0m - (350) Processing: gcp_filename = 'data/vc_36.302_-119.636_2022_11.csv'\u001b[0m\n",
      "[\u001b[34m2023-02-28 15:40:38,970\u001b[0m] {\u001b[34mairflow_dag.py:\u001b[0m96} INFO\u001b[0m - (351) Processing: gcp_filename = 'data/vc_32.842_-116.511_2022_11.csv'\u001b[0m\n"
     ]
    },
    {
     "name": "stderr",
     "output_type": "stream",
     "text": [
      "                                                                                \r"
     ]
    },
    {
     "name": "stdout",
     "output_type": "stream",
     "text": [
      "[\u001b[34m2023-02-28 15:40:43,026\u001b[0m] {\u001b[34mairflow_dag.py:\u001b[0m96} INFO\u001b[0m - (352) Processing: gcp_filename = 'data/vc_34.845_-118.899_2022_11.csv'\u001b[0m\n"
     ]
    },
    {
     "name": "stderr",
     "output_type": "stream",
     "text": [
      "                                                                                \r"
     ]
    },
    {
     "name": "stdout",
     "output_type": "stream",
     "text": [
      "[\u001b[34m2023-02-28 15:40:45,779\u001b[0m] {\u001b[34mairflow_dag.py:\u001b[0m96} INFO\u001b[0m - (353) Processing: gcp_filename = 'data/vc_38.261_-122.162_2022_11.csv'\u001b[0m\n"
     ]
    },
    {
     "name": "stderr",
     "output_type": "stream",
     "text": [
      "                                                                                \r"
     ]
    },
    {
     "name": "stdout",
     "output_type": "stream",
     "text": [
      "[\u001b[34m2023-02-28 15:40:48,930\u001b[0m] {\u001b[34mairflow_dag.py:\u001b[0m96} INFO\u001b[0m - (354) Processing: gcp_filename = 'data/vc_35.409_-119.441_2022_11.csv'\u001b[0m\n",
      "[\u001b[34m2023-02-28 15:40:51,547\u001b[0m] {\u001b[34mairflow_dag.py:\u001b[0m96} INFO\u001b[0m - (355) Processing: gcp_filename = 'data/vc_35.641_-118.405_2022_11.csv'\u001b[0m\n"
     ]
    },
    {
     "name": "stderr",
     "output_type": "stream",
     "text": [
      "                                                                                \r"
     ]
    },
    {
     "name": "stdout",
     "output_type": "stream",
     "text": [
      "[\u001b[34m2023-02-28 15:40:55,885\u001b[0m] {\u001b[34mairflow_dag.py:\u001b[0m96} INFO\u001b[0m - (356) Processing: gcp_filename = 'data/vc_38.435_-120.585_2022_11.csv'\u001b[0m\n",
      "[\u001b[34m2023-02-28 15:40:59,274\u001b[0m] {\u001b[34mairflow_dag.py:\u001b[0m96} INFO\u001b[0m - (357) Processing: gcp_filename = 'data/vc_40.697_-122.822_2022_11.csv'\u001b[0m\n",
      "[\u001b[34m2023-02-28 15:41:02,422\u001b[0m] {\u001b[34mairflow_dag.py:\u001b[0m96} INFO\u001b[0m - (358) Processing: gcp_filename = 'data/vc_40.121_-123.822_2022_11.csv'\u001b[0m\n",
      "[\u001b[34m2023-02-28 15:41:11,330\u001b[0m] {\u001b[34mairflow_dag.py:\u001b[0m96} INFO\u001b[0m - (359) Processing: gcp_filename = 'data/vc_38.912_-122.608_2022_11.csv'\u001b[0m\n"
     ]
    },
    {
     "name": "stderr",
     "output_type": "stream",
     "text": [
      "                                                                                \r"
     ]
    },
    {
     "name": "stdout",
     "output_type": "stream",
     "text": [
      "[\u001b[34m2023-02-28 15:41:14,768\u001b[0m] {\u001b[34mairflow_dag.py:\u001b[0m96} INFO\u001b[0m - (360) Processing: gcp_filename = 'data/vc_33.626_-116.131_2022_11.csv'\u001b[0m\n"
     ]
    },
    {
     "name": "stderr",
     "output_type": "stream",
     "text": [
      "                                                                                \r"
     ]
    },
    {
     "name": "stdout",
     "output_type": "stream",
     "text": [
      "[\u001b[34m2023-02-28 15:41:18,668\u001b[0m] {\u001b[34mairflow_dag.py:\u001b[0m96} INFO\u001b[0m - (361) Processing: gcp_filename = 'data/vc_39.631_-121.405_2022_11.csv'\u001b[0m\n"
     ]
    },
    {
     "name": "stderr",
     "output_type": "stream",
     "text": [
      "                                                                                \r"
     ]
    },
    {
     "name": "stdout",
     "output_type": "stream",
     "text": [
      "[\u001b[34m2023-02-28 15:41:23,384\u001b[0m] {\u001b[34mairflow_dag.py:\u001b[0m96} INFO\u001b[0m - (362) Processing: gcp_filename = 'data/vc_35.197_-120.719_2022_11.csv'\u001b[0m\n",
      "[\u001b[34m2023-02-28 15:41:26,143\u001b[0m] {\u001b[34mairflow_dag.py:\u001b[0m96} INFO\u001b[0m - (363) Processing: gcp_filename = 'data/vc_40.142_-120.14_2022_11.csv'\u001b[0m\n"
     ]
    },
    {
     "name": "stderr",
     "output_type": "stream",
     "text": [
      "                                                                                \r"
     ]
    },
    {
     "name": "stdout",
     "output_type": "stream",
     "text": [
      "[\u001b[34m2023-02-28 15:41:33,529\u001b[0m] {\u001b[34mairflow_dag.py:\u001b[0m96} INFO\u001b[0m - (364) Processing: gcp_filename = 'data/vc_36.656_-119.599_2022_11.csv'\u001b[0m\n"
     ]
    },
    {
     "name": "stderr",
     "output_type": "stream",
     "text": [
      "                                                                                \r"
     ]
    },
    {
     "name": "stdout",
     "output_type": "stream",
     "text": [
      "[\u001b[34m2023-02-28 15:41:38,641\u001b[0m] {\u001b[34mairflow_dag.py:\u001b[0m96} INFO\u001b[0m - (365) Processing: gcp_filename = 'data/vc_39.672_-123.494_2022_11.csv'\u001b[0m\n",
      "[\u001b[34m2023-02-28 15:41:41,787\u001b[0m] {\u001b[34mairflow_dag.py:\u001b[0m96} INFO\u001b[0m - (366) Processing: gcp_filename = 'data/vc_37.741_-119.578_2022_11.csv'\u001b[0m\n",
      "[\u001b[34m2023-02-28 15:41:44,540\u001b[0m] {\u001b[34mairflow_dag.py:\u001b[0m96} INFO\u001b[0m - (367) Processing: gcp_filename = 'data/vc_39.15_-120.161_2022_11.csv'\u001b[0m\n"
     ]
    },
    {
     "name": "stderr",
     "output_type": "stream",
     "text": [
      "                                                                                \r"
     ]
    },
    {
     "name": "stdout",
     "output_type": "stream",
     "text": [
      "[\u001b[34m2023-02-28 15:41:48,379\u001b[0m] {\u001b[34mairflow_dag.py:\u001b[0m96} INFO\u001b[0m - (368) Processing: gcp_filename = 'data/vc_39.248_-120.054_2022_11.csv'\u001b[0m\n",
      "[\u001b[34m2023-02-28 15:41:51,224\u001b[0m] {\u001b[34mairflow_dag.py:\u001b[0m96} INFO\u001b[0m - (369) Processing: gcp_filename = 'data/vc_34.139_-114.36_2022_11.csv'\u001b[0m\n"
     ]
    },
    {
     "name": "stderr",
     "output_type": "stream",
     "text": [
      "                                                                                \r"
     ]
    },
    {
     "name": "stdout",
     "output_type": "stream",
     "text": [
      "[\u001b[34m2023-02-28 15:41:54,640\u001b[0m] {\u001b[34mairflow_dag.py:\u001b[0m96} INFO\u001b[0m - (370) Processing: gcp_filename = 'data/vc_35.888_-119.487_2022_11.csv'\u001b[0m\n",
      "[\u001b[34m2023-02-28 15:41:57,790\u001b[0m] {\u001b[34mairflow_dag.py:\u001b[0m96} INFO\u001b[0m - (371) Processing: gcp_filename = 'data/vc_34.482_-118.666_2022_11.csv'\u001b[0m\n",
      "[\u001b[34m2023-02-28 15:42:01,178\u001b[0m] {\u001b[34mairflow_dag.py:\u001b[0m96} INFO\u001b[0m - (372) Processing: gcp_filename = 'data/vc_40.551_-122.236_2022_11.csv'\u001b[0m\n",
      "[\u001b[34m2023-02-28 15:42:03,802\u001b[0m] {\u001b[34mairflow_dag.py:\u001b[0m96} INFO\u001b[0m - (373) Processing: gcp_filename = 'data/vc_38.251_-120.512_2022_11.csv'\u001b[0m\n"
     ]
    },
    {
     "name": "stderr",
     "output_type": "stream",
     "text": [
      "                                                                                \r"
     ]
    },
    {
     "name": "stdout",
     "output_type": "stream",
     "text": [
      "[\u001b[34m2023-02-28 15:42:06,551\u001b[0m] {\u001b[34mairflow_dag.py:\u001b[0m96} INFO\u001b[0m - (374) Processing: gcp_filename = 'data/vc_40.061_-122.148_2022_11.csv'\u001b[0m\n"
     ]
    },
    {
     "name": "stderr",
     "output_type": "stream",
     "text": [
      "                                                                                \r"
     ]
    },
    {
     "name": "stdout",
     "output_type": "stream",
     "text": [
      "[\u001b[34m2023-02-28 15:42:11,430\u001b[0m] {\u001b[34mairflow_dag.py:\u001b[0m96} INFO\u001b[0m - (375) Processing: gcp_filename = 'data/vc_39.802_-123.25_2022_11.csv'\u001b[0m\n"
     ]
    },
    {
     "name": "stderr",
     "output_type": "stream",
     "text": [
      "                                                                                \r"
     ]
    },
    {
     "name": "stdout",
     "output_type": "stream",
     "text": [
      "[\u001b[34m2023-02-28 15:42:14,950\u001b[0m] {\u001b[34mairflow_dag.py:\u001b[0m96} INFO\u001b[0m - (376) Processing: gcp_filename = 'data/vc_38.244_-120.954_2022_11.csv'\u001b[0m\n"
     ]
    },
    {
     "name": "stderr",
     "output_type": "stream",
     "text": [
      "                                                                                \r"
     ]
    },
    {
     "name": "stdout",
     "output_type": "stream",
     "text": [
      "[\u001b[34m2023-02-28 15:42:22,296\u001b[0m] {\u001b[34mairflow_dag.py:\u001b[0m96} INFO\u001b[0m - (377) Processing: gcp_filename = 'data/vc_36.171_-119.352_2022_11.csv'\u001b[0m\n"
     ]
    },
    {
     "name": "stderr",
     "output_type": "stream",
     "text": [
      "                                                                                \r"
     ]
    },
    {
     "name": "stdout",
     "output_type": "stream",
     "text": [
      "[\u001b[34m2023-02-28 15:42:27,405\u001b[0m] {\u001b[34mairflow_dag.py:\u001b[0m96} INFO\u001b[0m - (378) Processing: gcp_filename = 'data/vc_36.009_-119.963_2022_11.csv'\u001b[0m\n"
     ]
    },
    {
     "name": "stderr",
     "output_type": "stream",
     "text": [
      "                                                                                \r"
     ]
    },
    {
     "name": "stdout",
     "output_type": "stream",
     "text": [
      "[\u001b[34m2023-02-28 15:42:32,644\u001b[0m] {\u001b[34mairflow_dag.py:\u001b[0m96} INFO\u001b[0m - (379) Processing: gcp_filename = 'data/vc_38.716_-123.453_2022_11.csv'\u001b[0m\n",
      "[\u001b[34m2023-02-28 15:42:36,314\u001b[0m] {\u001b[34mairflow_dag.py:\u001b[0m96} INFO\u001b[0m - (380) Processing: gcp_filename = 'data/vc_40.379_-120.585_2022_11.csv'\u001b[0m\n",
      "[\u001b[34m2023-02-28 15:42:43,261\u001b[0m] {\u001b[34mairflow_dag.py:\u001b[0m96} INFO\u001b[0m - (381) Processing: gcp_filename = 'data/vc_35.389_-120.608_2022_11.csv'\u001b[0m\n"
     ]
    },
    {
     "name": "stderr",
     "output_type": "stream",
     "text": [
      "                                                                                \r"
     ]
    },
    {
     "name": "stdout",
     "output_type": "stream",
     "text": [
      "[\u001b[34m2023-02-28 15:42:48,132\u001b[0m] {\u001b[34mairflow_dag.py:\u001b[0m96} INFO\u001b[0m - (382) Processing: gcp_filename = 'data/vc_37.914_-121.283_2022_11.csv'\u001b[0m\n",
      "[\u001b[34m2023-02-28 15:42:51,510\u001b[0m] {\u001b[34mairflow_dag.py:\u001b[0m96} INFO\u001b[0m - (383) Processing: gcp_filename = 'data/vc_41.866_-124.153_2022_11.csv'\u001b[0m\n",
      "[\u001b[34m2023-02-28 15:42:55,178\u001b[0m] {\u001b[34mairflow_dag.py:\u001b[0m96} INFO\u001b[0m - (384) Processing: gcp_filename = 'data/vc_35.654_-120.383_2022_11.csv'\u001b[0m\n"
     ]
    },
    {
     "name": "stderr",
     "output_type": "stream",
     "text": [
      "                                                                                \r"
     ]
    },
    {
     "name": "stdout",
     "output_type": "stream",
     "text": [
      "[\u001b[34m2023-02-28 15:42:58,324\u001b[0m] {\u001b[34mairflow_dag.py:\u001b[0m96} INFO\u001b[0m - (385) Processing: gcp_filename = 'data/vc_37.569_-118.746_2022_11.csv'\u001b[0m\n",
      "[\u001b[34m2023-02-28 15:43:01,470\u001b[0m] {\u001b[34mairflow_dag.py:\u001b[0m96} INFO\u001b[0m - (386) Processing: gcp_filename = 'data/vc_36.706_-119.852_2022_11.csv'\u001b[0m\n"
     ]
    },
    {
     "name": "stderr",
     "output_type": "stream",
     "text": [
      "                                                                                \r"
     ]
    },
    {
     "name": "stdout",
     "output_type": "stream",
     "text": [
      "[\u001b[34m2023-02-28 15:43:04,218\u001b[0m] {\u001b[34mairflow_dag.py:\u001b[0m96} INFO\u001b[0m - (387) Processing: gcp_filename = 'data/vc_38.798_-121.718_2022_11.csv'\u001b[0m\n"
     ]
    },
    {
     "name": "stderr",
     "output_type": "stream",
     "text": [
      "                                                                                \r"
     ]
    },
    {
     "name": "stdout",
     "output_type": "stream",
     "text": [
      "[\u001b[34m2023-02-28 15:43:08,803\u001b[0m] {\u001b[34mairflow_dag.py:\u001b[0m96} INFO\u001b[0m - (388) Processing: gcp_filename = 'data/vc_39.11_-121.354_2022_11.csv'\u001b[0m\n",
      "[\u001b[34m2023-02-28 15:43:11,034\u001b[0m] {\u001b[34mairflow_dag.py:\u001b[0m96} INFO\u001b[0m - (389) Processing: gcp_filename = 'data/vc_33.074_-116.589_2022_11.csv'\u001b[0m\n"
     ]
    },
    {
     "name": "stderr",
     "output_type": "stream",
     "text": [
      "                                                                                \r"
     ]
    },
    {
     "name": "stdout",
     "output_type": "stream",
     "text": [
      "[\u001b[34m2023-02-28 15:43:15,090\u001b[0m] {\u001b[34mairflow_dag.py:\u001b[0m96} INFO\u001b[0m - (390) Processing: gcp_filename = 'data/vc_38.354_-122.256_2022_11.csv'\u001b[0m\n",
      "[\u001b[34m2023-02-28 15:43:17,833\u001b[0m] {\u001b[34mairflow_dag.py:\u001b[0m96} INFO\u001b[0m - (391) Processing: gcp_filename = 'data/vc_37.51_-118.375_2022_11.csv'\u001b[0m\n"
     ]
    },
    {
     "name": "stderr",
     "output_type": "stream",
     "text": [
      "                                                                                \r"
     ]
    },
    {
     "name": "stdout",
     "output_type": "stream",
     "text": [
      "[\u001b[34m2023-02-28 15:43:22,416\u001b[0m] {\u001b[34mairflow_dag.py:\u001b[0m96} INFO\u001b[0m - (392) Processing: gcp_filename = 'data/vc_39.131_-123.165_2022_11.csv'\u001b[0m\n",
      "[\u001b[34m2023-02-28 15:43:24,641\u001b[0m] {\u001b[34mairflow_dag.py:\u001b[0m96} INFO\u001b[0m - (393) Processing: gcp_filename = 'data/vc_39.493_-123.781_2022_11.csv'\u001b[0m\n",
      "[\u001b[34m2023-02-28 15:43:28,702\u001b[0m] {\u001b[34mairflow_dag.py:\u001b[0m96} INFO\u001b[0m - (394) Processing: gcp_filename = 'data/vc_38.291_-121.232_2022_11.csv'\u001b[0m\n",
      "[\u001b[34m2023-02-28 15:43:35,113\u001b[0m] {\u001b[34mairflow_dag.py:\u001b[0m96} INFO\u001b[0m - (395) Processing: gcp_filename = 'data/vc_36.117_-118.834_2022_11.csv'\u001b[0m\n"
     ]
    },
    {
     "name": "stderr",
     "output_type": "stream",
     "text": [
      "                                                                                \r"
     ]
    },
    {
     "name": "stdout",
     "output_type": "stream",
     "text": [
      "[\u001b[34m2023-02-28 15:43:39,697\u001b[0m] {\u001b[34mairflow_dag.py:\u001b[0m96} INFO\u001b[0m - (396) Processing: gcp_filename = 'data/vc_37.318_-122.265_2022_11.csv'\u001b[0m\n",
      "[\u001b[34m2023-02-28 15:43:42,593\u001b[0m] {\u001b[34mairflow_dag.py:\u001b[0m96} INFO\u001b[0m - (397) Processing: gcp_filename = 'data/vc_40.718_-122.326_2022_11.csv'\u001b[0m\n",
      "[\u001b[34m2023-02-28 15:43:45,070\u001b[0m] {\u001b[34mairflow_dag.py:\u001b[0m96} INFO\u001b[0m - (398) Processing: gcp_filename = 'data/vc_39.012_-123.374_2022_11.csv'\u001b[0m\n"
     ]
    },
    {
     "name": "stderr",
     "output_type": "stream",
     "text": [
      "                                                                                \r"
     ]
    },
    {
     "name": "stdout",
     "output_type": "stream",
     "text": [
      "[\u001b[34m2023-02-28 15:43:52,488\u001b[0m] {\u001b[34mairflow_dag.py:\u001b[0m96} INFO\u001b[0m - (399) Processing: gcp_filename = 'data/vc_34.258_-118.666_2022_11.csv'\u001b[0m\n"
     ]
    },
    {
     "name": "stderr",
     "output_type": "stream",
     "text": [
      "                                                                                \r"
     ]
    },
    {
     "name": "stdout",
     "output_type": "stream",
     "text": [
      "[\u001b[34m2023-02-28 15:43:56,989\u001b[0m] {\u001b[34mairflow_dag.py:\u001b[0m96} INFO\u001b[0m - (400) Processing: gcp_filename = 'data/vc_38.969_-123.117_2022_11.csv'\u001b[0m\n"
     ]
    },
    {
     "name": "stderr",
     "output_type": "stream",
     "text": [
      "                                                                                \r"
     ]
    },
    {
     "name": "stdout",
     "output_type": "stream",
     "text": [
      "[\u001b[34m2023-02-28 15:44:00,131\u001b[0m] {\u001b[34mairflow_dag.py:\u001b[0m96} INFO\u001b[0m - (401) Processing: gcp_filename = 'data/vc_37.646_-120.337_2022_11.csv'\u001b[0m\n"
     ]
    },
    {
     "name": "stderr",
     "output_type": "stream",
     "text": [
      "                                                                                \r"
     ]
    },
    {
     "name": "stdout",
     "output_type": "stream",
     "text": [
      "[\u001b[34m2023-02-28 15:44:07,639\u001b[0m] {\u001b[34mairflow_dag.py:\u001b[0m96} INFO\u001b[0m - (402) Processing: gcp_filename = 'data/vc_36.188_-119.822_2022_11.csv'\u001b[0m\n"
     ]
    },
    {
     "name": "stderr",
     "output_type": "stream",
     "text": [
      "                                                                                \r"
     ]
    },
    {
     "name": "stdout",
     "output_type": "stream",
     "text": [
      "[\u001b[34m2023-02-28 15:44:20,179\u001b[0m] {\u001b[34mairflow_dag.py:\u001b[0m96} INFO\u001b[0m - (403) Processing: gcp_filename = 'data/vc_41.964_-121.92_2022_11.csv'\u001b[0m\n"
     ]
    },
    {
     "name": "stderr",
     "output_type": "stream",
     "text": [
      "                                                                                \r"
     ]
    },
    {
     "name": "stdout",
     "output_type": "stream",
     "text": [
      "[\u001b[34m2023-02-28 15:44:28,058\u001b[0m] {\u001b[34mairflow_dag.py:\u001b[0m96} INFO\u001b[0m - (404) Processing: gcp_filename = 'data/vc_39.165_-122.905_2022_11.csv'\u001b[0m\n"
     ]
    },
    {
     "name": "stderr",
     "output_type": "stream",
     "text": [
      "                                                                                \r"
     ]
    },
    {
     "name": "stdout",
     "output_type": "stream",
     "text": [
      "[\u001b[34m2023-02-28 15:44:35,799\u001b[0m] {\u001b[34mairflow_dag.py:\u001b[0m96} INFO\u001b[0m - (405) Processing: gcp_filename = 'data/vc_38.057_-120.179_2022_11.csv'\u001b[0m\n"
     ]
    },
    {
     "name": "stderr",
     "output_type": "stream",
     "text": [
      "                                                                                \r"
     ]
    },
    {
     "name": "stdout",
     "output_type": "stream",
     "text": [
      "[\u001b[34m2023-02-28 15:44:38,523\u001b[0m] {\u001b[34mairflow_dag.py:\u001b[0m96} INFO\u001b[0m - (406) Processing: gcp_filename = 'data/vc_38.534_-119.458_2022_11.csv'\u001b[0m\n",
      "[\u001b[34m2023-02-28 15:44:42,110\u001b[0m] {\u001b[34mairflow_dag.py:\u001b[0m96} INFO\u001b[0m - (407) Processing: gcp_filename = 'data/vc_39.311_-123.791_2022_11.csv'\u001b[0m\n"
     ]
    },
    {
     "name": "stderr",
     "output_type": "stream",
     "text": [
      "                                                                                \r"
     ]
    },
    {
     "name": "stdout",
     "output_type": "stream",
     "text": [
      "[\u001b[34m2023-02-28 15:44:49,056\u001b[0m] {\u001b[34mairflow_dag.py:\u001b[0m96} INFO\u001b[0m - (408) Processing: gcp_filename = 'data/vc_36.204_-119.282_2022_11.csv'\u001b[0m\n"
     ]
    },
    {
     "name": "stderr",
     "output_type": "stream",
     "text": [
      "                                                                                \r"
     ]
    },
    {
     "name": "stdout",
     "output_type": "stream",
     "text": [
      "[\u001b[34m2023-02-28 15:44:53,249\u001b[0m] {\u001b[34mairflow_dag.py:\u001b[0m96} INFO\u001b[0m - (409) Processing: gcp_filename = 'data/vc_34.426_-119.589_2022_11.csv'\u001b[0m\n"
     ]
    },
    {
     "name": "stderr",
     "output_type": "stream",
     "text": [
      "                                                                                \r"
     ]
    },
    {
     "name": "stdout",
     "output_type": "stream",
     "text": [
      "[\u001b[34m2023-02-28 15:44:57,309\u001b[0m] {\u001b[34mairflow_dag.py:\u001b[0m96} INFO\u001b[0m - (410) Processing: gcp_filename = 'data/vc_41.81_-123.389_2022_11.csv'\u001b[0m\n",
      "[\u001b[34m2023-02-28 15:45:00,977\u001b[0m] {\u001b[34mairflow_dag.py:\u001b[0m96} INFO\u001b[0m - (411) Processing: gcp_filename = 'data/vc_38.4_-122.935_2022_11.csv'\u001b[0m\n"
     ]
    },
    {
     "name": "stderr",
     "output_type": "stream",
     "text": [
      "                                                                                \r"
     ]
    },
    {
     "name": "stdout",
     "output_type": "stream",
     "text": [
      "[\u001b[34m2023-02-28 15:45:06,749\u001b[0m] {\u001b[34mairflow_dag.py:\u001b[0m96} INFO\u001b[0m - (412) Processing: gcp_filename = 'data/vc_33.452_-116.856_2022_11.csv'\u001b[0m\n",
      "[\u001b[34m2023-02-28 15:45:13,175\u001b[0m] {\u001b[34mairflow_dag.py:\u001b[0m96} INFO\u001b[0m - (413) Processing: gcp_filename = 'data/vc_33.841_-116.248_2022_11.csv'\u001b[0m\n"
     ]
    },
    {
     "name": "stderr",
     "output_type": "stream",
     "text": [
      "                                                                                \r"
     ]
    },
    {
     "name": "stdout",
     "output_type": "stream",
     "text": [
      "[\u001b[34m2023-02-28 15:45:17,763\u001b[0m] {\u001b[34mairflow_dag.py:\u001b[0m96} INFO\u001b[0m - (414) Processing: gcp_filename = 'data/vc_39.895_-121.67_2022_11.csv'\u001b[0m\n",
      "[\u001b[34m2023-02-28 15:45:20,516\u001b[0m] {\u001b[34mairflow_dag.py:\u001b[0m96} INFO\u001b[0m - (415) Processing: gcp_filename = 'data/vc_37.757_-120.129_2022_11.csv'\u001b[0m\n"
     ]
    },
    {
     "name": "stderr",
     "output_type": "stream",
     "text": [
      "                                                                                \r"
     ]
    },
    {
     "name": "stdout",
     "output_type": "stream",
     "text": [
      "[\u001b[34m2023-02-28 15:45:23,653\u001b[0m] {\u001b[34mairflow_dag.py:\u001b[0m96} INFO\u001b[0m - (416) Processing: gcp_filename = 'data/vc_37.467_-119.889_2022_11.csv'\u001b[0m\n"
     ]
    },
    {
     "name": "stderr",
     "output_type": "stream",
     "text": [
      "                                                                                \r"
     ]
    },
    {
     "name": "stdout",
     "output_type": "stream",
     "text": [
      "[\u001b[34m2023-02-28 15:45:28,897\u001b[0m] {\u001b[34mairflow_dag.py:\u001b[0m96} INFO\u001b[0m - (417) Processing: gcp_filename = 'data/vc_38.752_-122.622_2022_11.csv'\u001b[0m\n"
     ]
    },
    {
     "name": "stderr",
     "output_type": "stream",
     "text": [
      "                                                                                \r"
     ]
    },
    {
     "name": "stdout",
     "output_type": "stream",
     "text": [
      "[\u001b[34m2023-02-28 15:45:32,433\u001b[0m] {\u001b[34mairflow_dag.py:\u001b[0m96} INFO\u001b[0m - (418) Processing: gcp_filename = 'data/vc_39.465_-121.263_2022_11.csv'\u001b[0m\n"
     ]
    },
    {
     "name": "stderr",
     "output_type": "stream",
     "text": [
      "                                                                                \r"
     ]
    },
    {
     "name": "stdout",
     "output_type": "stream",
     "text": [
      "[\u001b[34m2023-02-28 15:45:35,582\u001b[0m] {\u001b[34mairflow_dag.py:\u001b[0m96} INFO\u001b[0m - (419) Processing: gcp_filename = 'data/vc_41.458_-122.895_2022_11.csv'\u001b[0m\n",
      "[\u001b[34m2023-02-28 15:45:37,812\u001b[0m] {\u001b[34mairflow_dag.py:\u001b[0m96} INFO\u001b[0m - (420) Processing: gcp_filename = 'data/vc_38.415_-122.539_2022_11.csv'\u001b[0m\n"
     ]
    },
    {
     "name": "stderr",
     "output_type": "stream",
     "text": [
      "                                                                                \r"
     ]
    },
    {
     "name": "stdout",
     "output_type": "stream",
     "text": [
      "[\u001b[34m2023-02-28 15:45:45,147\u001b[0m] {\u001b[34mairflow_dag.py:\u001b[0m96} INFO\u001b[0m - (421) Processing: gcp_filename = 'data/vc_37.623_-120.753_2022_11.csv'\u001b[0m\n"
     ]
    },
    {
     "name": "stderr",
     "output_type": "stream",
     "text": [
      "                                                                                \r"
     ]
    },
    {
     "name": "stdout",
     "output_type": "stream",
     "text": [
      "[\u001b[34m2023-02-28 15:45:49,493\u001b[0m] {\u001b[34mairflow_dag.py:\u001b[0m96} INFO\u001b[0m - (422) Processing: gcp_filename = 'data/vc_39.677_-120.245_2022_11.csv'\u001b[0m\n",
      "[\u001b[34m2023-02-28 15:45:53,411\u001b[0m] {\u001b[34mairflow_dag.py:\u001b[0m96} INFO\u001b[0m - (423) Processing: gcp_filename = 'data/vc_41.608_-122.841_2022_11.csv'\u001b[0m\n",
      "[\u001b[34m2023-02-28 15:45:55,632\u001b[0m] {\u001b[34mairflow_dag.py:\u001b[0m96} INFO\u001b[0m - (424) Processing: gcp_filename = 'data/vc_38.306_-120.706_2022_11.csv'\u001b[0m\n"
     ]
    },
    {
     "name": "stderr",
     "output_type": "stream",
     "text": [
      "                                                                                \r"
     ]
    },
    {
     "name": "stdout",
     "output_type": "stream",
     "text": [
      "[\u001b[34m2023-02-28 15:45:59,693\u001b[0m] {\u001b[34mairflow_dag.py:\u001b[0m96} INFO\u001b[0m - (425) Processing: gcp_filename = 'data/vc_41.843_-123.973_2022_11.csv'\u001b[0m\n"
     ]
    },
    {
     "name": "stderr",
     "output_type": "stream",
     "text": [
      "                                                                                \r"
     ]
    },
    {
     "name": "stdout",
     "output_type": "stream",
     "text": [
      "[\u001b[34m2023-02-28 15:46:02,445\u001b[0m] {\u001b[34mairflow_dag.py:\u001b[0m96} INFO\u001b[0m - (426) Processing: gcp_filename = 'data/vc_40.727_-123.062_2022_11.csv'\u001b[0m\n",
      "[\u001b[34m2023-02-28 15:46:05,072\u001b[0m] {\u001b[34mairflow_dag.py:\u001b[0m96} INFO\u001b[0m - (427) Processing: gcp_filename = 'data/vc_40.901_-122.392_2022_11.csv'\u001b[0m\n"
     ]
    },
    {
     "name": "stderr",
     "output_type": "stream",
     "text": [
      "                                                                                \r"
     ]
    },
    {
     "name": "stdout",
     "output_type": "stream",
     "text": [
      "[\u001b[34m2023-02-28 15:46:12,401\u001b[0m] {\u001b[34mairflow_dag.py:\u001b[0m96} INFO\u001b[0m - (428) Processing: gcp_filename = 'data/vc_38.325_-123.031_2022_11.csv'\u001b[0m\n"
     ]
    },
    {
     "name": "stderr",
     "output_type": "stream",
     "text": [
      "                                                                                \r"
     ]
    },
    {
     "name": "stdout",
     "output_type": "stream",
     "text": [
      "[\u001b[34m2023-02-28 15:46:20,152\u001b[0m] {\u001b[34mairflow_dag.py:\u001b[0m96} INFO\u001b[0m - (429) Processing: gcp_filename = 'data/vc_34.942_-119.681_2022_11.csv'\u001b[0m\n",
      "[\u001b[34m2023-02-28 15:46:23,823\u001b[0m] {\u001b[34mairflow_dag.py:\u001b[0m96} INFO\u001b[0m - (430) Processing: gcp_filename = 'data/vc_35.618_-121.138_2022_11.csv'\u001b[0m\n"
     ]
    },
    {
     "name": "stderr",
     "output_type": "stream",
     "text": [
      "                                                                                \r"
     ]
    },
    {
     "name": "stdout",
     "output_type": "stream",
     "text": [
      "[\u001b[34m2023-02-28 15:46:29,721\u001b[0m] {\u001b[34mairflow_dag.py:\u001b[0m96} INFO\u001b[0m - (431) Processing: gcp_filename = 'data/vc_35.209_-119.411_2022_11.csv'\u001b[0m\n"
     ]
    },
    {
     "name": "stderr",
     "output_type": "stream",
     "text": [
      "                                                                                \r"
     ]
    },
    {
     "name": "stdout",
     "output_type": "stream",
     "text": [
      "[\u001b[34m2023-02-28 15:46:34,002\u001b[0m] {\u001b[34mairflow_dag.py:\u001b[0m96} INFO\u001b[0m - (432) Processing: gcp_filename = 'data/vc_41.532_-124.006_2022_11.csv'\u001b[0m\n"
     ]
    },
    {
     "name": "stderr",
     "output_type": "stream",
     "text": [
      "                                                                                \r"
     ]
    },
    {
     "name": "stdout",
     "output_type": "stream",
     "text": [
      "[\u001b[34m2023-02-28 15:46:38,497\u001b[0m] {\u001b[34mairflow_dag.py:\u001b[0m96} INFO\u001b[0m - (433) Processing: gcp_filename = 'data/vc_33.239_-115.515_2022_11.csv'\u001b[0m\n",
      "[\u001b[34m2023-02-28 15:46:41,256\u001b[0m] {\u001b[34mairflow_dag.py:\u001b[0m96} INFO\u001b[0m - (434) Processing: gcp_filename = 'data/vc_41.528_-120.175_2022_11.csv'\u001b[0m\n"
     ]
    },
    {
     "name": "stderr",
     "output_type": "stream",
     "text": [
      "                                                                                \r"
     ]
    },
    {
     "name": "stdout",
     "output_type": "stream",
     "text": [
      "[\u001b[34m2023-02-28 15:46:45,835\u001b[0m] {\u001b[34mairflow_dag.py:\u001b[0m96} INFO\u001b[0m - (435) Processing: gcp_filename = 'data/vc_37.437_-120.094_2022_11.csv'\u001b[0m\n",
      "[\u001b[34m2023-02-28 15:46:48,590\u001b[0m] {\u001b[34mairflow_dag.py:\u001b[0m96} INFO\u001b[0m - (436) Processing: gcp_filename = 'data/vc_36.985_-119.713_2022_11.csv'\u001b[0m\n"
     ]
    },
    {
     "name": "stderr",
     "output_type": "stream",
     "text": [
      "                                                                                \r"
     ]
    },
    {
     "name": "stdout",
     "output_type": "stream",
     "text": [
      "[\u001b[34m2023-02-28 15:46:52,656\u001b[0m] {\u001b[34mairflow_dag.py:\u001b[0m96} INFO\u001b[0m - (437) Processing: gcp_filename = 'data/vc_36.827_-118.213_2022_11.csv'\u001b[0m\n",
      "[\u001b[34m2023-02-28 15:46:56,326\u001b[0m] {\u001b[34mairflow_dag.py:\u001b[0m96} INFO\u001b[0m - (438) Processing: gcp_filename = 'data/vc_38.747_-120.876_2022_11.csv'\u001b[0m\n"
     ]
    },
    {
     "name": "stderr",
     "output_type": "stream",
     "text": [
      "                                                                                \r"
     ]
    },
    {
     "name": "stdout",
     "output_type": "stream",
     "text": [
      "[\u001b[34m2023-02-28 15:46:59,170\u001b[0m] {\u001b[34mairflow_dag.py:\u001b[0m96} INFO\u001b[0m - (439) Processing: gcp_filename = 'data/vc_40.039_-124.056_2022_11.csv'\u001b[0m\n"
     ]
    },
    {
     "name": "stderr",
     "output_type": "stream",
     "text": [
      "                                                                                \r"
     ]
    },
    {
     "name": "stdout",
     "output_type": "stream",
     "text": [
      "[\u001b[34m2023-02-28 15:47:06,413\u001b[0m] {\u001b[34mairflow_dag.py:\u001b[0m96} INFO\u001b[0m - (440) Processing: gcp_filename = 'data/vc_35.85_-119.389_2022_11.csv'\u001b[0m\n"
     ]
    },
    {
     "name": "stderr",
     "output_type": "stream",
     "text": [
      "                                                                                \r"
     ]
    },
    {
     "name": "stdout",
     "output_type": "stream",
     "text": [
      "[\u001b[34m2023-02-28 15:47:10,475\u001b[0m] {\u001b[34mairflow_dag.py:\u001b[0m96} INFO\u001b[0m - (441) Processing: gcp_filename = 'data/vc_41.89_-121.368_2022_11.csv'\u001b[0m\n",
      "[\u001b[34m2023-02-28 15:47:14,146\u001b[0m] {\u001b[34mairflow_dag.py:\u001b[0m96} INFO\u001b[0m - (442) Processing: gcp_filename = 'data/vc_38.545_-120.748_2022_11.csv'\u001b[0m\n",
      "[\u001b[34m2023-02-28 15:47:21,199\u001b[0m] {\u001b[34mairflow_dag.py:\u001b[0m96} INFO\u001b[0m - (443) Processing: gcp_filename = 'data/vc_39.773_-121.52_2022_11.csv'\u001b[0m\n"
     ]
    },
    {
     "name": "stderr",
     "output_type": "stream",
     "text": [
      "                                                                                \r"
     ]
    },
    {
     "name": "stdout",
     "output_type": "stream",
     "text": [
      "[\u001b[34m2023-02-28 15:47:27,261\u001b[0m] {\u001b[34mairflow_dag.py:\u001b[0m96} INFO\u001b[0m - (444) Processing: gcp_filename = 'data/vc_36.024_-120.907_2022_11.csv'\u001b[0m\n",
      "[\u001b[34m2023-02-28 15:47:31,224\u001b[0m] {\u001b[34mairflow_dag.py:\u001b[0m96} INFO\u001b[0m - (445) Processing: gcp_filename = 'data/vc_38.256_-119.212_2022_11.csv'\u001b[0m\n"
     ]
    },
    {
     "name": "stderr",
     "output_type": "stream",
     "text": [
      "                                                                                \r"
     ]
    },
    {
     "name": "stdout",
     "output_type": "stream",
     "text": [
      "[\u001b[34m2023-02-28 15:47:34,728\u001b[0m] {\u001b[34mairflow_dag.py:\u001b[0m96} INFO\u001b[0m - (446) Processing: gcp_filename = 'data/vc_35.277_-116.072_2022_11.csv'\u001b[0m\n"
     ]
    },
    {
     "name": "stderr",
     "output_type": "stream",
     "text": [
      "                                                                                \r"
     ]
    },
    {
     "name": "stdout",
     "output_type": "stream",
     "text": [
      "[\u001b[34m2023-02-28 15:47:42,069\u001b[0m] {\u001b[34mairflow_dag.py:\u001b[0m96} INFO\u001b[0m - (447) Processing: gcp_filename = 'data/vc_37.452_-120.704_2022_11.csv'\u001b[0m\n"
     ]
    },
    {
     "name": "stderr",
     "output_type": "stream",
     "text": [
      "                                                                                \r"
     ]
    },
    {
     "name": "stdout",
     "output_type": "stream",
     "text": [
      "[\u001b[34m2023-02-28 15:47:46,783\u001b[0m] {\u001b[34mairflow_dag.py:\u001b[0m96} INFO\u001b[0m - (448) Processing: gcp_filename = 'data/vc_34.634_-120.116_2022_11.csv'\u001b[0m\n"
     ]
    },
    {
     "name": "stderr",
     "output_type": "stream",
     "text": [
      "                                                                                \r"
     ]
    },
    {
     "name": "stdout",
     "output_type": "stream",
     "text": [
      "[\u001b[34m2023-02-28 15:47:51,133\u001b[0m] {\u001b[34mairflow_dag.py:\u001b[0m96} INFO\u001b[0m - (449) Processing: gcp_filename = 'data/vc_35.941_-121.08_2022_11.csv'\u001b[0m\n"
     ]
    },
    {
     "name": "stderr",
     "output_type": "stream",
     "text": [
      "                                                                                \r"
     ]
    }
   ],
   "source": [
    "process_data_with_spark_store_in_mongo()"
   ]
  },
  {
   "cell_type": "code",
   "execution_count": 16,
   "metadata": {},
   "outputs": [],
   "source": [
    "import os"
   ]
  },
  {
   "cell_type": "code",
   "execution_count": 56,
   "metadata": {},
   "outputs": [],
   "source": [
    "\n"
   ]
  },
  {
   "cell_type": "code",
   "execution_count": 64,
   "metadata": {},
   "outputs": [],
   "source": [
    "file_path = \"gs://msds697-solar-prod/data/vc_32.628_-117.014_2022_10.csv\"\n",
    "\n",
    "def load_csv(file_path):\n",
    "    gcs_key = os.environ['GS_SERVICE_ACCOUNT_KEY_FILE']\n",
    "    df1 = pd.read_csv(file_path, storage_options={\"token\": gcs_key})\n",
    "    return df1\n",
    "\n",
    "col_order = list(load_csv(file_path).columns)"
   ]
  },
  {
   "cell_type": "code",
   "execution_count": 76,
   "metadata": {},
   "outputs": [],
   "source": [
    "def remove_duplicates(file_path):\n",
    "    df_new = load_csv(file_path).groupby(['lat','lon','date','time']) \\\n",
    "                                .first().reset_index()[col_order]\n",
    "    df_new.to_csv('../nov_data/' + file_path.split('/')[-1], index=False)\n"
   ]
  },
  {
   "cell_type": "code",
   "execution_count": 77,
   "metadata": {},
   "outputs": [
    {
     "name": "stderr",
     "output_type": "stream",
     "text": [
      "100%|██████████| 450/450 [02:42<00:00,  2.77it/s]\n"
     ]
    }
   ],
   "source": [
    "base = \"gs://msds697-solar-prod/\"\n",
    "\n",
    "for lat, lon in tqdm(locations):\n",
    "    file = f\"data/vc_{lat}_{lon}_2022_11.csv\"\n",
    "    remove_duplicates(base + file)"
   ]
  },
  {
   "cell_type": "code",
   "execution_count": null,
   "metadata": {},
   "outputs": [],
   "source": []
  },
  {
   "cell_type": "code",
   "execution_count": 80,
   "metadata": {},
   "outputs": [
    {
     "data": {
      "text/plain": [
       "324000"
      ]
     },
     "execution_count": 80,
     "metadata": {},
     "output_type": "execute_result"
    }
   ],
   "source": [
    "mongo = MongoDB()\n",
    "\n",
    "len(list(mongo.find({'date':{\"$regex\": \"^2022-11-\\d\\d$\"}}, {})))"
   ]
  },
  {
   "cell_type": "code",
   "execution_count": null,
   "metadata": {},
   "outputs": [],
   "source": []
  }
 ],
 "metadata": {
  "kernelspec": {
   "display_name": "DistDataSys",
   "language": "python",
   "name": "python3"
  },
  "language_info": {
   "codemirror_mode": {
    "name": "ipython",
    "version": 3
   },
   "file_extension": ".py",
   "mimetype": "text/x-python",
   "name": "python",
   "nbconvert_exporter": "python",
   "pygments_lexer": "ipython3",
   "version": "3.10.0"
  },
  "orig_nbformat": 4,
  "vscode": {
   "interpreter": {
    "hash": "9738d544e3bca1bb8999731356cf7472fd76247a39eae401bed6af6e817fdd12"
   }
  }
 },
 "nbformat": 4,
 "nbformat_minor": 2
}
